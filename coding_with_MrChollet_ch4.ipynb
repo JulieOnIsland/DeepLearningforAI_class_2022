{
  "nbformat": 4,
  "nbformat_minor": 0,
  "metadata": {
    "colab": {
      "name": "coding_with_MrChollet_ch4.ipynb",
      "provenance": [],
      "authorship_tag": "ABX9TyOrEJ+FwZH+LkLrcI3aISQt",
      "include_colab_link": true
    },
    "kernelspec": {
      "name": "python3",
      "display_name": "Python 3"
    },
    "language_info": {
      "name": "python"
    },
    "accelerator": "GPU"
  },
  "cells": [
    {
      "cell_type": "markdown",
      "metadata": {
        "id": "view-in-github",
        "colab_type": "text"
      },
      "source": [
        "<a href=\"https://colab.research.google.com/github/JulieOnIsland/DeepLearningforAI_class_2022/blob/main/coding_with_MrChollet_ch4.ipynb\" target=\"_parent\"><img src=\"https://colab.research.google.com/assets/colab-badge.svg\" alt=\"Open In Colab\"/></a>"
      ]
    },
    {
      "cell_type": "markdown",
      "source": [
        "## Binary classification"
      ],
      "metadata": {
        "id": "kZjJn_o1_E3T"
      }
    },
    {
      "cell_type": "markdown",
      "source": [
        "Use imdb data"
      ],
      "metadata": {
        "id": "rvpj9rj5ESDU"
      }
    },
    {
      "cell_type": "code",
      "execution_count": 1,
      "metadata": {
        "colab": {
          "base_uri": "https://localhost:8080/"
        },
        "id": "dxz22E6Y007_",
        "outputId": "18d2f7c1-bfe2-4a50-b12c-4d389bd6865d"
      },
      "outputs": [
        {
          "output_type": "stream",
          "name": "stdout",
          "text": [
            "Downloading data from https://storage.googleapis.com/tensorflow/tf-keras-datasets/imdb.npz\n",
            "17465344/17464789 [==============================] - 0s 0us/step\n",
            "17473536/17464789 [==============================] - 0s 0us/step\n"
          ]
        }
      ],
      "source": [
        "from tensorflow.keras.datasets import imdb\n",
        "(train_data, train_labels), (test_data, test_labels) = imdb.load_data(num_words=10000)"
      ]
    },
    {
      "cell_type": "code",
      "source": [
        "print(train_data[0][:10])\n",
        "print(len(train_data[0]))"
      ],
      "metadata": {
        "colab": {
          "base_uri": "https://localhost:8080/"
        },
        "id": "mWqkTJoV0-RR",
        "outputId": "82bb83b2-1ce6-446a-dee7-dfd449c457a9"
      },
      "execution_count": 3,
      "outputs": [
        {
          "output_type": "stream",
          "name": "stdout",
          "text": [
            "[1, 14, 22, 16, 43, 530, 973, 1622, 1385, 65]\n",
            "218\n"
          ]
        }
      ]
    },
    {
      "cell_type": "code",
      "source": [
        "print(train_labels[0])"
      ],
      "metadata": {
        "colab": {
          "base_uri": "https://localhost:8080/"
        },
        "id": "69-78xrS1Eor",
        "outputId": "deb4da89-0134-4e72-d002-04d8402320dc"
      },
      "execution_count": 4,
      "outputs": [
        {
          "output_type": "execute_result",
          "data": {
            "text/plain": [
              "1"
            ]
          },
          "metadata": {},
          "execution_count": 4
        }
      ]
    },
    {
      "cell_type": "code",
      "source": [
        "max([max(sequence) for sequence in train_data])"
      ],
      "metadata": {
        "colab": {
          "base_uri": "https://localhost:8080/"
        },
        "id": "0cAiGQZq1Qhs",
        "outputId": "adec4064-04c2-4531-d416-3caedfcc7de0"
      },
      "execution_count": 5,
      "outputs": [
        {
          "output_type": "execute_result",
          "data": {
            "text/plain": [
              "9999"
            ]
          },
          "metadata": {},
          "execution_count": 5
        }
      ]
    },
    {
      "cell_type": "code",
      "source": [
        "# Decoding reviews back to text\n",
        "word_index = imdb.get_word_index()\n",
        "reverse_word_index = dict(\n",
        "    [(value, key) for (key, value) in word_index.items()]\n",
        ")\n",
        "decoded_review = ' '.join(\n",
        "    [reverse_word_index.get(i-3, '?') for i in train_data[0]]\n",
        ")"
      ],
      "metadata": {
        "colab": {
          "base_uri": "https://localhost:8080/"
        },
        "id": "hw9N3wpU1W-c",
        "outputId": "583c994c-f991-4402-b232-ff029538ac6b"
      },
      "execution_count": 6,
      "outputs": [
        {
          "output_type": "stream",
          "name": "stdout",
          "text": [
            "Downloading data from https://storage.googleapis.com/tensorflow/tf-keras-datasets/imdb_word_index.json\n",
            "1646592/1641221 [==============================] - 0s 0us/step\n",
            "1654784/1641221 [==============================] - 0s 0us/step\n"
          ]
        }
      ]
    },
    {
      "cell_type": "code",
      "source": [
        "print(decoded_review)"
      ],
      "metadata": {
        "colab": {
          "base_uri": "https://localhost:8080/"
        },
        "id": "zatSk89E1lzH",
        "outputId": "3f1c27db-ff41-4d80-d0a3-befc39c3ac71"
      },
      "execution_count": 7,
      "outputs": [
        {
          "output_type": "stream",
          "name": "stdout",
          "text": [
            "? this film was just brilliant casting location scenery story direction everyone's really suited the part they played and you could just imagine being there robert ? is an amazing actor and now the same being director ? father came from the same scottish island as myself so i loved the fact there was a real connection with this film the witty remarks throughout the film were great it was just brilliant so much that i bought the film as soon as it was released for ? and would recommend it to everyone to watch and the fly fishing was amazing really cried at the end it was so sad and you know what they say if you cry at a film it must have been good and this definitely was also ? to the two little boy's that played the ? of norman and paul they were just brilliant children are often left out of the ? list i think because the stars that play them all grown up are such a big profile for the whole film but these children are amazing and should be praised for what they have done don't you think the whole story was so lovely because it was true and was someone's life after all that was shared with us all\n"
          ]
        }
      ]
    },
    {
      "cell_type": "code",
      "source": [
        "import numpy as np\n",
        "def vectorize_sequences(sequences, dimension=10000):\n",
        "    '''\n",
        "    Encoding the integer sequences via multi-hot encoding\n",
        "    a.k.a turn it into matrix that has (len(sequences), 10000) dimension\n",
        "    '''\n",
        "    results = np.zeros((len(sequences), dimension))\n",
        "    for i, sequence in enumerate(sequences):\n",
        "        for j in sequence:\n",
        "            results[i, j]=1\n",
        "    return results"
      ],
      "metadata": {
        "id": "CrRkc6mD1nZ2"
      },
      "execution_count": 8,
      "outputs": []
    },
    {
      "cell_type": "code",
      "source": [
        "x_train = vectorize_sequences(train_data)\n",
        "x_test = vectorize_sequences(test_data)"
      ],
      "metadata": {
        "id": "Ag-CrLvy16bJ"
      },
      "execution_count": 9,
      "outputs": []
    },
    {
      "cell_type": "code",
      "source": [
        "print(x_train[0])\n",
        "print(x_train[0].shape)\n",
        "print(x_train.shape)"
      ],
      "metadata": {
        "colab": {
          "base_uri": "https://localhost:8080/"
        },
        "id": "A0Yq6wPh1-xx",
        "outputId": "44242d06-5062-475b-de05-47efcb2a6e40"
      },
      "execution_count": 12,
      "outputs": [
        {
          "output_type": "stream",
          "name": "stdout",
          "text": [
            "[0. 1. 1. ... 0. 0. 0.]\n",
            "(10000,)\n",
            "(25000, 10000)\n"
          ]
        }
      ]
    },
    {
      "cell_type": "code",
      "source": [
        "y_train = np.asarray(train_labels).astype('float32')\n",
        "y_test = np.asarray(test_labels).astype('float32')"
      ],
      "metadata": {
        "id": "aQDds5A92A7t"
      },
      "execution_count": 13,
      "outputs": []
    },
    {
      "cell_type": "code",
      "source": [
        "from tensorflow import keras\n",
        "from tensorflow.keras import layers\n",
        "\n",
        "model = keras.Sequential([\n",
        "    layers.Dense(16, activation='relu'),\n",
        "    layers.Dense(16, activation='relu'),\n",
        "    layers.Dense(1, activation='sigmoid')\n",
        "])"
      ],
      "metadata": {
        "id": "ZwVKUi3Z2bhk"
      },
      "execution_count": 14,
      "outputs": []
    },
    {
      "cell_type": "code",
      "source": [
        "model.compile(optimizer='rmsprop',\n",
        "              loss='binary_crossentropy',\n",
        "              metrics=['acc'])"
      ],
      "metadata": {
        "id": "bEv5oCcn2sCL"
      },
      "execution_count": 15,
      "outputs": []
    },
    {
      "cell_type": "code",
      "source": [
        "x_val = x_train[:10000]\n",
        "partial_x_train = x_train[10000:]\n",
        "y_val = y_train[:10000]\n",
        "partial_y_train = y_train[10000:]"
      ],
      "metadata": {
        "id": "Y9kvzgcf2x_b"
      },
      "execution_count": 16,
      "outputs": []
    },
    {
      "cell_type": "code",
      "source": [
        "history = model.fit(partial_x_train,\n",
        "                    partial_y_train,\n",
        "                    epochs=5,\n",
        "                    batch_size=512,\n",
        "                    validation_data=(x_val, y_val))"
      ],
      "metadata": {
        "colab": {
          "base_uri": "https://localhost:8080/"
        },
        "id": "sIu_DspB270C",
        "outputId": "795b0bf7-b7a6-43e9-e09f-d91fd9c78987"
      },
      "execution_count": 17,
      "outputs": [
        {
          "output_type": "stream",
          "name": "stdout",
          "text": [
            "Epoch 1/5\n",
            "30/30 [==============================] - 5s 46ms/step - loss: 0.5215 - acc: 0.7901 - val_loss: 0.4103 - val_acc: 0.8425\n",
            "Epoch 2/5\n",
            "30/30 [==============================] - 1s 23ms/step - loss: 0.3149 - acc: 0.9016 - val_loss: 0.3065 - val_acc: 0.8886\n",
            "Epoch 3/5\n",
            "30/30 [==============================] - 1s 20ms/step - loss: 0.2278 - acc: 0.9268 - val_loss: 0.2783 - val_acc: 0.8929\n",
            "Epoch 4/5\n",
            "30/30 [==============================] - 1s 24ms/step - loss: 0.1779 - acc: 0.9415 - val_loss: 0.2798 - val_acc: 0.8881\n",
            "Epoch 5/5\n",
            "30/30 [==============================] - 1s 19ms/step - loss: 0.1436 - acc: 0.9547 - val_loss: 0.2845 - val_acc: 0.8857\n"
          ]
        }
      ]
    },
    {
      "cell_type": "code",
      "source": [
        "history_dict = history.history\n",
        "history_dict.keys()"
      ],
      "metadata": {
        "colab": {
          "base_uri": "https://localhost:8080/"
        },
        "id": "hW1Y0XQR3Cae",
        "outputId": "69a180c2-b260-48c3-b0d1-90e5b74ca327"
      },
      "execution_count": 18,
      "outputs": [
        {
          "output_type": "execute_result",
          "data": {
            "text/plain": [
              "dict_keys(['loss', 'acc', 'val_loss', 'val_acc'])"
            ]
          },
          "metadata": {},
          "execution_count": 18
        }
      ]
    },
    {
      "cell_type": "code",
      "source": [
        "import matplotlib.pyplot as plt\n",
        "history_dict = history.history\n",
        "loss_values = history_dict['loss']\n",
        "val_loss_values = history_dict['val_loss']\n",
        "epochs = range(1, len(loss_values)+1)\n",
        "\n",
        "plt.plot(epochs, loss_values, 'bo', label='Training Loss')\n",
        "plt.plot(epochs, val_loss_values, 'b', label='Validation Loss')\n",
        "plt.title('training and val loss')\n",
        "plt.xlabel('epochs')\n",
        "plt.ylabel('loss')\n",
        "plt.legend()\n",
        "plt.show()"
      ],
      "metadata": {
        "colab": {
          "base_uri": "https://localhost:8080/",
          "height": 295
        },
        "id": "61lhG6AO3IzP",
        "outputId": "6c5db17c-f5a9-4d3c-d1e4-d22c366d0201"
      },
      "execution_count": 20,
      "outputs": [
        {
          "output_type": "display_data",
          "data": {
            "text/plain": [
              "<Figure size 432x288 with 1 Axes>"
            ],
            "image/png": "[encoded data removed]"
          },
          "metadata": {
            "needs_background": "light"
          }
        }
      ]
    },
    {
      "cell_type": "code",
      "source": [
        "plt.clf()\n",
        "acc = history_dict[\"acc\"]\n",
        "val_acc = history_dict[\"val_acc\"]\n",
        "plt.plot(epochs, acc, \"bo\", label=\"Training acc\")\n",
        "plt.plot(epochs, val_acc, \"b\", label=\"Validation acc\")\n",
        "plt.title(\"Training and validation accuracy\")\n",
        "plt.xlabel(\"Epochs\")\n",
        "plt.ylabel(\"Accuracy\")\n",
        "plt.legend()\n",
        "plt.show()"
      ],
      "metadata": {
        "colab": {
          "base_uri": "https://localhost:8080/",
          "height": 295
        },
        "id": "T5PyCA363nBT",
        "outputId": "cba65ef4-a580-4901-bbba-b6b495122c0a"
      },
      "execution_count": 21,
      "outputs": [
        {
          "output_type": "display_data",
          "data": {
            "text/plain": [
              "<Figure size 432x288 with 1 Axes>"
            ],
            "image/png": "[encoded data removed]"
          },
          "metadata": {
            "needs_background": "light"
          }
        }
      ]
    },
    {
      "cell_type": "code",
      "source": [
        "preds = model.predict(x_test)"
      ],
      "metadata": {
        "id": "o14U0lCB3zIz"
      },
      "execution_count": 23,
      "outputs": []
    },
    {
      "cell_type": "code",
      "source": [
        "print(preds[:5])\n",
        "print(preds.shape)"
      ],
      "metadata": {
        "colab": {
          "base_uri": "https://localhost:8080/"
        },
        "id": "Z6nD5iGX34b1",
        "outputId": "22fe35bf-0e4b-4739-fdd9-5c872b83c9b7"
      },
      "execution_count": 26,
      "outputs": [
        {
          "output_type": "stream",
          "name": "stdout",
          "text": [
            "[[0.1564748 ]\n",
            " [0.9993242 ]\n",
            " [0.9002793 ]\n",
            " [0.559243  ]\n",
            " [0.91541946]]\n",
            "(25000, 1)\n"
          ]
        }
      ]
    },
    {
      "cell_type": "code",
      "source": [
        "model.evaluate(x_test, y_test)"
      ],
      "metadata": {
        "colab": {
          "base_uri": "https://localhost:8080/"
        },
        "id": "DNeNlhov38YJ",
        "outputId": "ef499421-1fe6-4f26-e243-627ac8be7e85"
      },
      "execution_count": 28,
      "outputs": [
        {
          "output_type": "stream",
          "name": "stdout",
          "text": [
            "782/782 [==============================] - 4s 5ms/step - loss: 0.3072 - acc: 0.8768\n"
          ]
        },
        {
          "output_type": "execute_result",
          "data": {
            "text/plain": [
              "[0.30722713470458984, 0.8767600059509277]"
            ]
          },
          "metadata": {},
          "execution_count": 28
        }
      ]
    },
    {
      "cell_type": "markdown",
      "source": [
        "## Multiclass classificaton"
      ],
      "metadata": {
        "id": "6eW7woVk4iRG"
      }
    },
    {
      "cell_type": "code",
      "source": [
        "from tensorflow.keras.datasets import reuters\n",
        "(train_data, train_labels), (test_data, test_labels) = reuters.load_data(num_words=10000)"
      ],
      "metadata": {
        "id": "NJTeGfLg4DxH"
      },
      "execution_count": 111,
      "outputs": []
    },
    {
      "cell_type": "code",
      "source": [
        "print('number of train data: ', len(train_data))\n",
        "print('number of train label: ', len(train_labels))\n",
        "print('number of test data: ', len(test_data))\n",
        "print('number of test label: ', len(test_labels))"
      ],
      "metadata": {
        "colab": {
          "base_uri": "https://localhost:8080/"
        },
        "id": "pzRgwUVx4tuf",
        "outputId": "e5bf2b78-4849-470b-d690-8bcfc2061114"
      },
      "execution_count": 112,
      "outputs": [
        {
          "output_type": "stream",
          "name": "stdout",
          "text": [
            "number of train data:  8982\n",
            "number of train label:  8982\n",
            "number of test data:  2246\n",
            "number of test label:  2246\n"
          ]
        }
      ]
    },
    {
      "cell_type": "code",
      "source": [
        "print(test_labels[:5])"
      ],
      "metadata": {
        "colab": {
          "base_uri": "https://localhost:8080/"
        },
        "id": "fOi9njZQ42AY",
        "outputId": "b05b684e-40e5-4c5a-88b4-7641e1a453a0"
      },
      "execution_count": 113,
      "outputs": [
        {
          "output_type": "stream",
          "name": "stdout",
          "text": [
            "[ 3 10  1  4  4]\n"
          ]
        }
      ]
    },
    {
      "cell_type": "code",
      "source": [
        "word_index = reuters.get_word_index()\n",
        "reverse_word_index = dict(\n",
        "    [(value, key) for (key, value) in word_index.items()]\n",
        ")\n",
        "decoded_newswire=' '.join([reverse_word_index.get(i-3, '?') for i in train_data[0]])"
      ],
      "metadata": {
        "id": "3u6qBJ5t43iq"
      },
      "execution_count": 114,
      "outputs": []
    },
    {
      "cell_type": "code",
      "source": [
        "decoded_newswire"
      ],
      "metadata": {
        "colab": {
          "base_uri": "https://localhost:8080/",
          "height": 88
        },
        "id": "rjg6lJt95OuK",
        "outputId": "5ef5ab00-08d7-4254-8aa6-d12a86913cc7"
      },
      "execution_count": 115,
      "outputs": [
        {
          "output_type": "execute_result",
          "data": {
            "text/plain": [
              "'? ? ? said as a result of its december acquisition of space co it expects earnings per share in 1987 of 1 15 to 1 30 dlrs per share up from 70 cts in 1986 the company said pretax net should rise to nine to 10 mln dlrs from six mln dlrs in 1986 and rental operation revenues to 19 to 22 mln dlrs from 12 5 mln dlrs it said cash flow per share this year should be 2 50 to three dlrs reuter 3'"
            ],
            "application/vnd.google.colaboratory.intrinsic+json": {
              "type": "string"
            }
          },
          "metadata": {},
          "execution_count": 115
        }
      ]
    },
    {
      "cell_type": "code",
      "source": [
        "x_train = vectorize_sequences(train_data)\n",
        "x_test = vectorize_sequences(test_data)"
      ],
      "metadata": {
        "id": "zZzAVZog5QZq"
      },
      "execution_count": 116,
      "outputs": []
    },
    {
      "cell_type": "code",
      "source": [
        "print(x_train.shape)\n",
        "print(x_test.shape)"
      ],
      "metadata": {
        "colab": {
          "base_uri": "https://localhost:8080/"
        },
        "id": "JqPPW8Yp7Rwh",
        "outputId": "3f4e2171-7e7b-4085-c982-59cd04c1dc29"
      },
      "execution_count": 117,
      "outputs": [
        {
          "output_type": "stream",
          "name": "stdout",
          "text": [
            "(8982, 10000)\n",
            "(2246, 10000)\n"
          ]
        }
      ]
    },
    {
      "cell_type": "code",
      "source": [
        "from tensorflow.keras.utils import to_categorical\n",
        "# Make labels as one-hot encoded form and use 'categorical_crossentropy' as loss\n",
        "# But we can just leave it and use 'sparse_categorical_crossentropy' as loss\n",
        "y_train = to_categorical(train_labels)\n",
        "y_test = to_categorical(test_labels)"
      ],
      "metadata": {
        "id": "tyQLTGxz8GRk"
      },
      "execution_count": 118,
      "outputs": []
    },
    {
      "cell_type": "code",
      "source": [
        "print(y_train.shape)\n",
        "print(y_test.shape)"
      ],
      "metadata": {
        "colab": {
          "base_uri": "https://localhost:8080/"
        },
        "id": "2izgoA9m8LiS",
        "outputId": "7c1e9ba9-5bc7-4ca8-a238-c38cc3cdb6a1"
      },
      "execution_count": 119,
      "outputs": [
        {
          "output_type": "stream",
          "name": "stdout",
          "text": [
            "(8982, 46)\n",
            "(2246, 46)\n"
          ]
        }
      ]
    },
    {
      "cell_type": "code",
      "source": [
        "print(train_labels[0])\n",
        "print(y_train[0])"
      ],
      "metadata": {
        "colab": {
          "base_uri": "https://localhost:8080/"
        },
        "id": "K9UcLvO-8OGn",
        "outputId": "27d08518-c5a5-476e-fefd-48bcde0cb01c"
      },
      "execution_count": 120,
      "outputs": [
        {
          "output_type": "stream",
          "name": "stdout",
          "text": [
            "3\n",
            "[0. 0. 0. 1. 0. 0. 0. 0. 0. 0. 0. 0. 0. 0. 0. 0. 0. 0. 0. 0. 0. 0. 0. 0.\n",
            " 0. 0. 0. 0. 0. 0. 0. 0. 0. 0. 0. 0. 0. 0. 0. 0. 0. 0. 0. 0. 0. 0.]\n"
          ]
        }
      ]
    },
    {
      "cell_type": "code",
      "source": [
        "multi_model = keras.Sequential([\n",
        "    layers.Dense(64, activation='relu'),\n",
        "    layers.Dense(64, activation='relu'),\n",
        "    layers.Dense(46, activation='softmax')\n",
        "])"
      ],
      "metadata": {
        "id": "bJkk7NII5Ymz"
      },
      "execution_count": 121,
      "outputs": []
    },
    {
      "cell_type": "code",
      "source": [
        "multi_model.compile(optimizer='rmsprop',\n",
        "                    loss='categorical_crossentropy',\n",
        "                    metrics=['acc'])"
      ],
      "metadata": {
        "id": "XPQIEuTj5yuT"
      },
      "execution_count": 122,
      "outputs": []
    },
    {
      "cell_type": "code",
      "source": [
        "multi_model.summary()"
      ],
      "metadata": {
        "colab": {
          "base_uri": "https://localhost:8080/"
        },
        "id": "R1gneHZj-dhq",
        "outputId": "d7900333-93c6-4b54-cad6-7d2afd906375"
      },
      "execution_count": 129,
      "outputs": [
        {
          "output_type": "stream",
          "name": "stdout",
          "text": [
            "Model: \"sequential_4\"\n",
            "_________________________________________________________________\n",
            " Layer (type)                Output Shape              Param #   \n",
            "=================================================================\n",
            " dense_14 (Dense)            (None, 64)                640064    \n",
            "                                                                 \n",
            " dense_15 (Dense)            (None, 64)                4160      \n",
            "                                                                 \n",
            " dense_16 (Dense)            (None, 46)                2990      \n",
            "                                                                 \n",
            "=================================================================\n",
            "Total params: 647,214\n",
            "Trainable params: 647,214\n",
            "Non-trainable params: 0\n",
            "_________________________________________________________________\n"
          ]
        }
      ]
    },
    {
      "cell_type": "code",
      "source": [
        "x_val = x_train[:1000]\n",
        "partial_x_train = x_train[1000:]\n",
        "y_val = y_train[:1000]\n",
        "partial_y_train = y_train[1000:]"
      ],
      "metadata": {
        "id": "vrcfgtuD55TW"
      },
      "execution_count": 123,
      "outputs": []
    },
    {
      "cell_type": "code",
      "source": [
        "print(x_val.shape)\n",
        "print(partial_x_train.shape)\n",
        "print(y_val.shape)\n",
        "print(partial_y_train.shape)"
      ],
      "metadata": {
        "colab": {
          "base_uri": "https://localhost:8080/"
        },
        "id": "qbmI1_Vi6lsx",
        "outputId": "b1ae6040-b4ef-4ef4-9b61-0b01534c1edb"
      },
      "execution_count": 124,
      "outputs": [
        {
          "output_type": "stream",
          "name": "stdout",
          "text": [
            "(1000, 10000)\n",
            "(7982, 10000)\n",
            "(1000, 46)\n",
            "(7982, 46)\n"
          ]
        }
      ]
    },
    {
      "cell_type": "code",
      "source": [
        "multi_history = multi_model.fit(partial_x_train,\n",
        "                          partial_y_train,\n",
        "                          epochs=5,\n",
        "                          verbose=2,\n",
        "                          batch_size=512,\n",
        "                          validation_data=(x_val, y_val))"
      ],
      "metadata": {
        "colab": {
          "base_uri": "https://localhost:8080/"
        },
        "id": "YzfN9U1Z6Eom",
        "outputId": "1ec9e620-2f40-4a6d-f59d-c9ed62954f16"
      },
      "execution_count": 125,
      "outputs": [
        {
          "output_type": "stream",
          "name": "stdout",
          "text": [
            "Epoch 1/5\n",
            "16/16 - 1s - loss: 2.6722 - acc: 0.5388 - val_loss: 1.7880 - val_acc: 0.6400 - 1s/epoch - 71ms/step\n",
            "Epoch 2/5\n",
            "16/16 - 0s - loss: 1.4529 - acc: 0.7028 - val_loss: 1.3232 - val_acc: 0.7190 - 250ms/epoch - 16ms/step\n",
            "Epoch 3/5\n",
            "16/16 - 0s - loss: 1.0768 - acc: 0.7720 - val_loss: 1.1516 - val_acc: 0.7460 - 247ms/epoch - 15ms/step\n",
            "Epoch 4/5\n",
            "16/16 - 0s - loss: 0.8445 - acc: 0.8215 - val_loss: 1.0434 - val_acc: 0.7870 - 255ms/epoch - 16ms/step\n",
            "Epoch 5/5\n",
            "16/16 - 0s - loss: 0.6692 - acc: 0.8587 - val_loss: 0.9740 - val_acc: 0.8010 - 234ms/epoch - 15ms/step\n"
          ]
        }
      ]
    },
    {
      "cell_type": "code",
      "source": [
        "loss = multi_history.history[\"loss\"]\n",
        "val_loss = multi_history.history[\"val_loss\"]\n",
        "epochs = range(1, len(loss) + 1)\n",
        "plt.plot(epochs, loss, \"bo\", label=\"Training loss\")\n",
        "plt.plot(epochs, val_loss, \"b\", label=\"Validation loss\")\n",
        "plt.title(\"Training and validation loss\")\n",
        "plt.xlabel(\"Epochs\")\n",
        "plt.ylabel(\"Loss\")\n",
        "plt.legend()\n",
        "plt.show()"
      ],
      "metadata": {
        "colab": {
          "base_uri": "https://localhost:8080/",
          "height": 295
        },
        "id": "w3SQFmK46NWg",
        "outputId": "4e29874c-b457-43f0-9d04-647c1e70f5f7"
      },
      "execution_count": 127,
      "outputs": [
        {
          "output_type": "display_data",
          "data": {
            "text/plain": [
              "<Figure size 432x288 with 1 Axes>"
            ],
            "image/png": "[encoded data removed]"
          },
          "metadata": {
            "needs_background": "light"
          }
        }
      ]
    },
    {
      "cell_type": "code",
      "source": [
        "plt.clf()\n",
        "acc = multi_history.history[\"acc\"]\n",
        "val_acc = multi_history.history[\"val_acc\"]\n",
        "plt.plot(epochs, acc, \"bo\", label=\"Training accuracy\")\n",
        "plt.plot(epochs, val_acc, \"b\", label=\"Validation accuracy\")\n",
        "plt.title(\"Training and validation accuracy\")\n",
        "plt.xlabel(\"Epochs\")\n",
        "plt.ylabel(\"Accuracy\")\n",
        "plt.legend()\n",
        "plt.show()"
      ],
      "metadata": {
        "colab": {
          "base_uri": "https://localhost:8080/",
          "height": 295
        },
        "id": "aRHStfSD-MkM",
        "outputId": "bee35e77-d219-41c3-f502-3498a03d737f"
      },
      "execution_count": 128,
      "outputs": [
        {
          "output_type": "display_data",
          "data": {
            "text/plain": [
              "<Figure size 432x288 with 1 Axes>"
            ],
            "image/png": "[encoded data removed]"
          },
          "metadata": {
            "needs_background": "light"
          }
        }
      ]
    },
    {
      "cell_type": "code",
      "source": [
        "results = multi_model.evaluate(x_test, y_test)\n",
        "results"
      ],
      "metadata": {
        "colab": {
          "base_uri": "https://localhost:8080/"
        },
        "id": "RjPTqjuJ-WFN",
        "outputId": "fbb838e6-6b46-444e-f606-461f778345cb"
      },
      "execution_count": 131,
      "outputs": [
        {
          "output_type": "stream",
          "name": "stdout",
          "text": [
            "71/71 [==============================] - 0s 6ms/step - loss: 1.0514 - acc: 0.7631\n"
          ]
        },
        {
          "output_type": "execute_result",
          "data": {
            "text/plain": [
              "[1.0513660907745361, 0.7631344795227051]"
            ]
          },
          "metadata": {},
          "execution_count": 131
        }
      ]
    },
    {
      "cell_type": "code",
      "source": [
        "preds = multi_model.predict(x_test)"
      ],
      "metadata": {
        "id": "PPUDYJhG-h29"
      },
      "execution_count": 136,
      "outputs": []
    },
    {
      "cell_type": "code",
      "source": [
        "preds.shape"
      ],
      "metadata": {
        "colab": {
          "base_uri": "https://localhost:8080/"
        },
        "id": "5pFwdqOR-qXH",
        "outputId": "5fe1b7cb-aff3-48ad-c244-aa269a8a9b43"
      },
      "execution_count": 137,
      "outputs": [
        {
          "output_type": "execute_result",
          "data": {
            "text/plain": [
              "(2246, 46)"
            ]
          },
          "metadata": {},
          "execution_count": 137
        }
      ]
    },
    {
      "cell_type": "code",
      "source": [
        "print(preds[0])\n",
        "print(len(preds[0]))\n",
        "print(np.sum(preds[0]))\n",
        "print(np.argmax(preds[0]))"
      ],
      "metadata": {
        "colab": {
          "base_uri": "https://localhost:8080/"
        },
        "id": "46z40yIp-q8D",
        "outputId": "322d3111-809c-4770-e3ee-5082be8997e0"
      },
      "execution_count": 142,
      "outputs": [
        {
          "output_type": "stream",
          "name": "stdout",
          "text": [
            "[1.03963430e-04 7.91425584e-04 9.14650518e-05 6.07645333e-01\n",
            " 3.76960009e-01 3.91208923e-05 2.84736918e-04 2.11976694e-05\n",
            " 2.67096958e-03 7.11547691e-05 9.78521784e-05 8.18134693e-04\n",
            " 5.41018162e-05 1.05568196e-03 2.85096117e-04 2.08310721e-05\n",
            " 3.15561052e-03 2.31993574e-04 8.27113327e-05 5.57250169e-04\n",
            " 4.96667402e-04 1.21624430e-03 2.85404476e-05 1.22641941e-04\n",
            " 5.84755289e-05 2.22211645e-04 5.12316547e-05 8.41980946e-05\n",
            " 5.80924425e-05 2.87820614e-04 1.92377483e-04 7.55030487e-05\n",
            " 8.56714541e-05 9.03327527e-05 1.43129855e-05 5.25791402e-05\n",
            " 4.19791962e-04 1.63509631e-05 4.03726481e-05 9.88230458e-04\n",
            " 9.57081738e-06 2.00500101e-04 1.01900741e-05 1.58486819e-05\n",
            " 8.73130648e-06 1.14842405e-04]\n",
            "46\n",
            "1.0\n",
            "3\n"
          ]
        }
      ]
    },
    {
      "cell_type": "markdown",
      "source": [
        "## Regression"
      ],
      "metadata": {
        "id": "gDdgcOH8_Km-"
      }
    },
    {
      "cell_type": "code",
      "source": [
        "from tensorflow.keras.datasets import boston_housing\n",
        "(train_data, train_targets), (test_data, test_targets) = boston_housing.load_data()"
      ],
      "metadata": {
        "colab": {
          "base_uri": "https://localhost:8080/"
        },
        "id": "Vcj0sMWO-svK",
        "outputId": "04482575-3e2c-43fc-ae9f-b440cda24ca8"
      },
      "execution_count": 143,
      "outputs": [
        {
          "output_type": "stream",
          "name": "stdout",
          "text": [
            "Downloading data from https://storage.googleapis.com/tensorflow/tf-keras-datasets/boston_housing.npz\n",
            "57344/57026 [==============================] - 0s 0us/step\n",
            "65536/57026 [==================================] - 0s 0us/step\n"
          ]
        }
      ]
    },
    {
      "cell_type": "code",
      "source": [
        "print(train_data.shape)\n",
        "print(test_data.shape)\n",
        "print(train_targets.shape)\n",
        "print(test_targets.shape)"
      ],
      "metadata": {
        "colab": {
          "base_uri": "https://localhost:8080/"
        },
        "id": "bPd2mHam_UeM",
        "outputId": "704cf5ff-0f7c-4b84-e70c-3be837e21040"
      },
      "execution_count": 145,
      "outputs": [
        {
          "output_type": "stream",
          "name": "stdout",
          "text": [
            "(404, 13)\n",
            "(102, 13)\n",
            "(404,)\n",
            "(102,)\n"
          ]
        }
      ]
    },
    {
      "cell_type": "code",
      "source": [
        "for i in range(3):\n",
        "    print(f'train data No.{i} \\n {train_data[i]}')\n",
        "    print(f'Price: {train_targets[i]}')"
      ],
      "metadata": {
        "colab": {
          "base_uri": "https://localhost:8080/"
        },
        "id": "vV5AuhR8_aZn",
        "outputId": "9b43a584-e6c4-4fde-cb43-8d656bae210a"
      },
      "execution_count": 152,
      "outputs": [
        {
          "output_type": "stream",
          "name": "stdout",
          "text": [
            "train data No.0 \n",
            " [  1.23247   0.        8.14      0.        0.538     6.142    91.7\n",
            "   3.9769    4.      307.       21.      396.9      18.72   ]\n",
            "Price: 15.2\n",
            "train data No.1 \n",
            " [2.1770e-02 8.2500e+01 2.0300e+00 0.0000e+00 4.1500e-01 7.6100e+00\n",
            " 1.5700e+01 6.2700e+00 2.0000e+00 3.4800e+02 1.4700e+01 3.9538e+02\n",
            " 3.1100e+00]\n",
            "Price: 42.3\n",
            "train data No.2 \n",
            " [4.89822e+00 0.00000e+00 1.81000e+01 0.00000e+00 6.31000e-01 4.97000e+00\n",
            " 1.00000e+02 1.33250e+00 2.40000e+01 6.66000e+02 2.02000e+01 3.75520e+02\n",
            " 3.26000e+00]\n",
            "Price: 50.0\n"
          ]
        }
      ]
    },
    {
      "cell_type": "code",
      "source": [
        "mean = train_data.mean(axis=0)\n",
        "std = train_data.std(axis=0)\n",
        "train_data -= mean\n",
        "train_data /= std\n",
        "test_data -= mean\n",
        "test_data /= std"
      ],
      "metadata": {
        "id": "_MCOuKiQARDc"
      },
      "execution_count": 156,
      "outputs": []
    },
    {
      "cell_type": "code",
      "source": [
        "def build_model():\n",
        "    model = keras.Sequential([\n",
        "        layers.Dense(64, activation=\"relu\"),\n",
        "        layers.Dense(64, activation=\"relu\"),\n",
        "        layers.Dense(1)\n",
        "    ])\n",
        "    model.compile(optimizer=\"rmsprop\", loss=\"mse\", metrics=[\"mae\"])\n",
        "    return model"
      ],
      "metadata": {
        "id": "UFNhLaJRAlkz"
      },
      "execution_count": 157,
      "outputs": []
    },
    {
      "cell_type": "code",
      "source": [
        "len(train_data)"
      ],
      "metadata": {
        "colab": {
          "base_uri": "https://localhost:8080/"
        },
        "id": "j_lJj7mWAraz",
        "outputId": "d498364c-e9f1-480f-c5c1-314c84daa91d"
      },
      "execution_count": 158,
      "outputs": [
        {
          "output_type": "execute_result",
          "data": {
            "text/plain": [
              "404"
            ]
          },
          "metadata": {},
          "execution_count": 158
        }
      ]
    },
    {
      "cell_type": "code",
      "source": [
        "# K-fold validation\n",
        "k = 4\n",
        "num_val_samples = len(train_data) // k\n",
        "num_epochs = 100\n",
        "all_scores = []\n",
        "for i in range(k):\n",
        "    print(f\"Processing fold #{i}\")\n",
        "    val_data = train_data[i * num_val_samples: (i + 1) * num_val_samples]\n",
        "    val_targets = train_targets[i * num_val_samples: (i + 1) * num_val_samples]\n",
        "    partial_train_data = np.concatenate(\n",
        "        [train_data[:i * num_val_samples],\n",
        "         train_data[(i + 1) * num_val_samples:]],\n",
        "        axis=0)\n",
        "    partial_train_targets = np.concatenate(\n",
        "        [train_targets[:i * num_val_samples],\n",
        "         train_targets[(i + 1) * num_val_samples:]],\n",
        "        axis=0)\n",
        "    model = build_model()\n",
        "    model.fit(partial_train_data, partial_train_targets,\n",
        "              epochs=num_epochs, batch_size=32, verbose=2)\n",
        "    val_mse, val_mae = model.evaluate(val_data, val_targets, verbose=2)\n",
        "    all_scores.append(val_mae)"
      ],
      "metadata": {
        "colab": {
          "base_uri": "https://localhost:8080/"
        },
        "id": "X8EnR7h4A0rN",
        "outputId": "0066523f-9c9f-43dd-9f64-18b043299a62"
      },
      "execution_count": 159,
      "outputs": [
        {
          "output_type": "stream",
          "name": "stdout",
          "text": [
            "Processing fold #0\n",
            "Epoch 1/100\n",
            "10/10 - 1s - loss: 561.1290 - mae: 21.9358 - 777ms/epoch - 78ms/step\n",
            "Epoch 2/100\n",
            "10/10 - 0s - loss: 485.4208 - mae: 20.2132 - 39ms/epoch - 4ms/step\n",
            "Epoch 3/100\n",
            "10/10 - 0s - loss: 407.8231 - mae: 18.3489 - 37ms/epoch - 4ms/step\n",
            "Epoch 4/100\n",
            "10/10 - 0s - loss: 329.1550 - mae: 16.2345 - 41ms/epoch - 4ms/step\n",
            "Epoch 5/100\n",
            "10/10 - 0s - loss: 253.2776 - mae: 13.9010 - 37ms/epoch - 4ms/step\n",
            "Epoch 6/100\n",
            "10/10 - 0s - loss: 183.6062 - mae: 11.4106 - 36ms/epoch - 4ms/step\n",
            "Epoch 7/100\n",
            "10/10 - 0s - loss: 127.5641 - mae: 9.2220 - 39ms/epoch - 4ms/step\n",
            "Epoch 8/100\n",
            "10/10 - 0s - loss: 90.2013 - mae: 7.5493 - 45ms/epoch - 4ms/step\n",
            "Epoch 9/100\n",
            "10/10 - 0s - loss: 67.7876 - mae: 6.4508 - 39ms/epoch - 4ms/step\n",
            "Epoch 10/100\n",
            "10/10 - 0s - loss: 53.0240 - mae: 5.6410 - 39ms/epoch - 4ms/step\n",
            "Epoch 11/100\n",
            "10/10 - 0s - loss: 43.4054 - mae: 5.0236 - 41ms/epoch - 4ms/step\n",
            "Epoch 12/100\n",
            "10/10 - 0s - loss: 36.7835 - mae: 4.5180 - 41ms/epoch - 4ms/step\n",
            "Epoch 13/100\n",
            "10/10 - 0s - loss: 32.3067 - mae: 4.2268 - 39ms/epoch - 4ms/step\n",
            "Epoch 14/100\n",
            "10/10 - 0s - loss: 29.1013 - mae: 3.9654 - 48ms/epoch - 5ms/step\n",
            "Epoch 15/100\n",
            "10/10 - 0s - loss: 26.7856 - mae: 3.7942 - 38ms/epoch - 4ms/step\n",
            "Epoch 16/100\n",
            "10/10 - 0s - loss: 25.0669 - mae: 3.6087 - 49ms/epoch - 5ms/step\n",
            "Epoch 17/100\n",
            "10/10 - 0s - loss: 23.1471 - mae: 3.4841 - 44ms/epoch - 4ms/step\n",
            "Epoch 18/100\n",
            "10/10 - 0s - loss: 21.6757 - mae: 3.3524 - 50ms/epoch - 5ms/step\n",
            "Epoch 19/100\n",
            "10/10 - 0s - loss: 20.4286 - mae: 3.2350 - 40ms/epoch - 4ms/step\n",
            "Epoch 20/100\n",
            "10/10 - 0s - loss: 19.0606 - mae: 3.1281 - 42ms/epoch - 4ms/step\n",
            "Epoch 21/100\n",
            "10/10 - 0s - loss: 17.9627 - mae: 3.0200 - 40ms/epoch - 4ms/step\n",
            "Epoch 22/100\n",
            "10/10 - 0s - loss: 17.2671 - mae: 2.9644 - 39ms/epoch - 4ms/step\n",
            "Epoch 23/100\n",
            "10/10 - 0s - loss: 16.5411 - mae: 2.8598 - 41ms/epoch - 4ms/step\n",
            "Epoch 24/100\n",
            "10/10 - 0s - loss: 15.7238 - mae: 2.8037 - 39ms/epoch - 4ms/step\n",
            "Epoch 25/100\n",
            "10/10 - 0s - loss: 14.8170 - mae: 2.7092 - 43ms/epoch - 4ms/step\n",
            "Epoch 26/100\n",
            "10/10 - 0s - loss: 14.7613 - mae: 2.6696 - 37ms/epoch - 4ms/step\n",
            "Epoch 27/100\n",
            "10/10 - 0s - loss: 13.8123 - mae: 2.5882 - 38ms/epoch - 4ms/step\n",
            "Epoch 28/100\n",
            "10/10 - 0s - loss: 13.5889 - mae: 2.5931 - 43ms/epoch - 4ms/step\n",
            "Epoch 29/100\n",
            "10/10 - 0s - loss: 13.0319 - mae: 2.5336 - 37ms/epoch - 4ms/step\n",
            "Epoch 30/100\n",
            "10/10 - 0s - loss: 12.8371 - mae: 2.4966 - 39ms/epoch - 4ms/step\n",
            "Epoch 31/100\n",
            "10/10 - 0s - loss: 12.2076 - mae: 2.4862 - 41ms/epoch - 4ms/step\n",
            "Epoch 32/100\n",
            "10/10 - 0s - loss: 12.2273 - mae: 2.4627 - 43ms/epoch - 4ms/step\n",
            "Epoch 33/100\n",
            "10/10 - 0s - loss: 11.7479 - mae: 2.3900 - 39ms/epoch - 4ms/step\n",
            "Epoch 34/100\n",
            "10/10 - 0s - loss: 11.7417 - mae: 2.3961 - 37ms/epoch - 4ms/step\n",
            "Epoch 35/100\n",
            "10/10 - 0s - loss: 11.3849 - mae: 2.3836 - 45ms/epoch - 4ms/step\n",
            "Epoch 36/100\n",
            "10/10 - 0s - loss: 11.2879 - mae: 2.3190 - 38ms/epoch - 4ms/step\n",
            "Epoch 37/100\n",
            "10/10 - 0s - loss: 10.9336 - mae: 2.2996 - 48ms/epoch - 5ms/step\n",
            "Epoch 38/100\n",
            "10/10 - 0s - loss: 10.5547 - mae: 2.2561 - 39ms/epoch - 4ms/step\n",
            "Epoch 39/100\n",
            "10/10 - 0s - loss: 10.7586 - mae: 2.3127 - 39ms/epoch - 4ms/step\n",
            "Epoch 40/100\n",
            "10/10 - 0s - loss: 10.4919 - mae: 2.2482 - 38ms/epoch - 4ms/step\n",
            "Epoch 41/100\n",
            "10/10 - 0s - loss: 10.4574 - mae: 2.2687 - 37ms/epoch - 4ms/step\n",
            "Epoch 42/100\n",
            "10/10 - 0s - loss: 10.2528 - mae: 2.2153 - 37ms/epoch - 4ms/step\n",
            "Epoch 43/100\n",
            "10/10 - 0s - loss: 10.0543 - mae: 2.2243 - 38ms/epoch - 4ms/step\n",
            "Epoch 44/100\n",
            "10/10 - 0s - loss: 9.7824 - mae: 2.1709 - 36ms/epoch - 4ms/step\n",
            "Epoch 45/100\n",
            "10/10 - 0s - loss: 9.7178 - mae: 2.1711 - 40ms/epoch - 4ms/step\n",
            "Epoch 46/100\n",
            "10/10 - 0s - loss: 9.6163 - mae: 2.1531 - 39ms/epoch - 4ms/step\n",
            "Epoch 47/100\n",
            "10/10 - 0s - loss: 9.6672 - mae: 2.1682 - 37ms/epoch - 4ms/step\n",
            "Epoch 48/100\n",
            "10/10 - 0s - loss: 9.5970 - mae: 2.1380 - 37ms/epoch - 4ms/step\n",
            "Epoch 49/100\n",
            "10/10 - 0s - loss: 9.3651 - mae: 2.1324 - 35ms/epoch - 3ms/step\n",
            "Epoch 50/100\n",
            "10/10 - 0s - loss: 9.2218 - mae: 2.0963 - 44ms/epoch - 4ms/step\n",
            "Epoch 51/100\n",
            "10/10 - 0s - loss: 9.2947 - mae: 2.0994 - 44ms/epoch - 4ms/step\n",
            "Epoch 52/100\n",
            "10/10 - 0s - loss: 8.9797 - mae: 2.1161 - 37ms/epoch - 4ms/step\n",
            "Epoch 53/100\n",
            "10/10 - 0s - loss: 8.9730 - mae: 2.0864 - 39ms/epoch - 4ms/step\n",
            "Epoch 54/100\n",
            "10/10 - 0s - loss: 9.0407 - mae: 2.0791 - 38ms/epoch - 4ms/step\n",
            "Epoch 55/100\n",
            "10/10 - 0s - loss: 8.7664 - mae: 2.0513 - 39ms/epoch - 4ms/step\n",
            "Epoch 56/100\n",
            "10/10 - 0s - loss: 8.7669 - mae: 2.0947 - 45ms/epoch - 4ms/step\n",
            "Epoch 57/100\n",
            "10/10 - 0s - loss: 8.6408 - mae: 2.0517 - 38ms/epoch - 4ms/step\n",
            "Epoch 58/100\n",
            "10/10 - 0s - loss: 8.5585 - mae: 2.0076 - 38ms/epoch - 4ms/step\n",
            "Epoch 59/100\n",
            "10/10 - 0s - loss: 8.6438 - mae: 2.0513 - 50ms/epoch - 5ms/step\n",
            "Epoch 60/100\n",
            "10/10 - 0s - loss: 8.3511 - mae: 2.0201 - 38ms/epoch - 4ms/step\n",
            "Epoch 61/100\n",
            "10/10 - 0s - loss: 8.4052 - mae: 2.0314 - 40ms/epoch - 4ms/step\n",
            "Epoch 62/100\n",
            "10/10 - 0s - loss: 8.3743 - mae: 2.0446 - 37ms/epoch - 4ms/step\n",
            "Epoch 63/100\n",
            "10/10 - 0s - loss: 8.2186 - mae: 1.9980 - 42ms/epoch - 4ms/step\n",
            "Epoch 64/100\n",
            "10/10 - 0s - loss: 8.4697 - mae: 2.0265 - 38ms/epoch - 4ms/step\n",
            "Epoch 65/100\n",
            "10/10 - 0s - loss: 8.3179 - mae: 2.0215 - 38ms/epoch - 4ms/step\n",
            "Epoch 66/100\n",
            "10/10 - 0s - loss: 8.0880 - mae: 2.0064 - 45ms/epoch - 4ms/step\n",
            "Epoch 67/100\n",
            "10/10 - 0s - loss: 8.1830 - mae: 1.9916 - 38ms/epoch - 4ms/step\n",
            "Epoch 68/100\n",
            "10/10 - 0s - loss: 7.9983 - mae: 1.9673 - 37ms/epoch - 4ms/step\n",
            "Epoch 69/100\n",
            "10/10 - 0s - loss: 8.0201 - mae: 1.9799 - 37ms/epoch - 4ms/step\n",
            "Epoch 70/100\n",
            "10/10 - 0s - loss: 7.9123 - mae: 1.9792 - 36ms/epoch - 4ms/step\n",
            "Epoch 71/100\n",
            "10/10 - 0s - loss: 7.9518 - mae: 1.9605 - 38ms/epoch - 4ms/step\n",
            "Epoch 72/100\n",
            "10/10 - 0s - loss: 8.0198 - mae: 1.9669 - 39ms/epoch - 4ms/step\n",
            "Epoch 73/100\n",
            "10/10 - 0s - loss: 7.9201 - mae: 1.9647 - 38ms/epoch - 4ms/step\n",
            "Epoch 74/100\n",
            "10/10 - 0s - loss: 7.8816 - mae: 1.9816 - 38ms/epoch - 4ms/step\n",
            "Epoch 75/100\n",
            "10/10 - 0s - loss: 7.7451 - mae: 1.9485 - 40ms/epoch - 4ms/step\n",
            "Epoch 76/100\n",
            "10/10 - 0s - loss: 7.5728 - mae: 1.9455 - 41ms/epoch - 4ms/step\n",
            "Epoch 77/100\n",
            "10/10 - 0s - loss: 7.5115 - mae: 1.9235 - 39ms/epoch - 4ms/step\n",
            "Epoch 78/100\n",
            "10/10 - 0s - loss: 7.7441 - mae: 1.9605 - 40ms/epoch - 4ms/step\n",
            "Epoch 79/100\n",
            "10/10 - 0s - loss: 7.4192 - mae: 1.9065 - 39ms/epoch - 4ms/step\n",
            "Epoch 80/100\n",
            "10/10 - 0s - loss: 7.3472 - mae: 1.8990 - 38ms/epoch - 4ms/step\n",
            "Epoch 81/100\n",
            "10/10 - 0s - loss: 7.4721 - mae: 1.9238 - 48ms/epoch - 5ms/step\n",
            "Epoch 82/100\n",
            "10/10 - 0s - loss: 7.3682 - mae: 1.9317 - 40ms/epoch - 4ms/step\n",
            "Epoch 83/100\n",
            "10/10 - 0s - loss: 7.3792 - mae: 1.8891 - 40ms/epoch - 4ms/step\n",
            "Epoch 84/100\n",
            "10/10 - 0s - loss: 7.1853 - mae: 1.8655 - 38ms/epoch - 4ms/step\n",
            "Epoch 85/100\n",
            "10/10 - 0s - loss: 7.3463 - mae: 1.9162 - 41ms/epoch - 4ms/step\n",
            "Epoch 86/100\n",
            "10/10 - 0s - loss: 7.2168 - mae: 1.8983 - 36ms/epoch - 4ms/step\n",
            "Epoch 87/100\n",
            "10/10 - 0s - loss: 7.2147 - mae: 1.8877 - 38ms/epoch - 4ms/step\n",
            "Epoch 88/100\n",
            "10/10 - 0s - loss: 7.2804 - mae: 1.8952 - 36ms/epoch - 4ms/step\n",
            "Epoch 89/100\n",
            "10/10 - 0s - loss: 7.2860 - mae: 1.8916 - 37ms/epoch - 4ms/step\n",
            "Epoch 90/100\n",
            "10/10 - 0s - loss: 7.0642 - mae: 1.8564 - 37ms/epoch - 4ms/step\n",
            "Epoch 91/100\n",
            "10/10 - 0s - loss: 7.1098 - mae: 1.8784 - 43ms/epoch - 4ms/step\n",
            "Epoch 92/100\n",
            "10/10 - 0s - loss: 7.2262 - mae: 1.8581 - 37ms/epoch - 4ms/step\n",
            "Epoch 93/100\n",
            "10/10 - 0s - loss: 6.8875 - mae: 1.8300 - 39ms/epoch - 4ms/step\n",
            "Epoch 94/100\n",
            "10/10 - 0s - loss: 6.8903 - mae: 1.8237 - 38ms/epoch - 4ms/step\n",
            "Epoch 95/100\n",
            "10/10 - 0s - loss: 7.0370 - mae: 1.8675 - 38ms/epoch - 4ms/step\n",
            "Epoch 96/100\n",
            "10/10 - 0s - loss: 6.8479 - mae: 1.8358 - 38ms/epoch - 4ms/step\n",
            "Epoch 97/100\n",
            "10/10 - 0s - loss: 6.9064 - mae: 1.8565 - 37ms/epoch - 4ms/step\n",
            "Epoch 98/100\n",
            "10/10 - 0s - loss: 6.8105 - mae: 1.8360 - 41ms/epoch - 4ms/step\n",
            "Epoch 99/100\n",
            "10/10 - 0s - loss: 6.9849 - mae: 1.8458 - 37ms/epoch - 4ms/step\n",
            "Epoch 100/100\n",
            "10/10 - 0s - loss: 6.8465 - mae: 1.8577 - 36ms/epoch - 4ms/step\n",
            "4/4 - 0s - loss: 7.9234 - mae: 1.9561 - 141ms/epoch - 35ms/step\n",
            "Processing fold #1\n",
            "Epoch 1/100\n",
            "10/10 - 1s - loss: 571.4127 - mae: 22.0368 - 641ms/epoch - 64ms/step\n",
            "Epoch 2/100\n",
            "10/10 - 0s - loss: 514.0394 - mae: 20.7867 - 36ms/epoch - 4ms/step\n",
            "Epoch 3/100\n",
            "10/10 - 0s - loss: 453.9324 - mae: 19.4155 - 35ms/epoch - 4ms/step\n",
            "Epoch 4/100\n",
            "10/10 - 0s - loss: 386.1969 - mae: 17.7358 - 37ms/epoch - 4ms/step\n",
            "Epoch 5/100\n",
            "10/10 - 0s - loss: 313.3374 - mae: 15.7676 - 36ms/epoch - 4ms/step\n",
            "Epoch 6/100\n",
            "10/10 - 0s - loss: 240.7797 - mae: 13.5229 - 36ms/epoch - 4ms/step\n",
            "Epoch 7/100\n",
            "10/10 - 0s - loss: 176.0078 - mae: 11.1710 - 37ms/epoch - 4ms/step\n",
            "Epoch 8/100\n",
            "10/10 - 0s - loss: 122.6230 - mae: 8.8379 - 46ms/epoch - 5ms/step\n",
            "Epoch 9/100\n",
            "10/10 - 0s - loss: 86.7012 - mae: 7.1182 - 36ms/epoch - 4ms/step\n",
            "Epoch 10/100\n",
            "10/10 - 0s - loss: 65.3338 - mae: 6.0825 - 36ms/epoch - 4ms/step\n",
            "Epoch 11/100\n",
            "10/10 - 0s - loss: 51.8346 - mae: 5.3117 - 39ms/epoch - 4ms/step\n",
            "Epoch 12/100\n",
            "10/10 - 0s - loss: 42.6142 - mae: 4.7464 - 38ms/epoch - 4ms/step\n",
            "Epoch 13/100\n",
            "10/10 - 0s - loss: 36.4141 - mae: 4.3160 - 43ms/epoch - 4ms/step\n",
            "Epoch 14/100\n",
            "10/10 - 0s - loss: 32.3385 - mae: 4.0007 - 36ms/epoch - 4ms/step\n",
            "Epoch 15/100\n",
            "10/10 - 0s - loss: 29.1784 - mae: 3.8318 - 36ms/epoch - 4ms/step\n",
            "Epoch 16/100\n",
            "10/10 - 0s - loss: 27.2717 - mae: 3.6541 - 37ms/epoch - 4ms/step\n",
            "Epoch 17/100\n",
            "10/10 - 0s - loss: 25.8433 - mae: 3.5578 - 37ms/epoch - 4ms/step\n",
            "Epoch 18/100\n",
            "10/10 - 0s - loss: 24.1732 - mae: 3.4576 - 37ms/epoch - 4ms/step\n",
            "Epoch 19/100\n",
            "10/10 - 0s - loss: 23.0144 - mae: 3.3375 - 38ms/epoch - 4ms/step\n",
            "Epoch 20/100\n",
            "10/10 - 0s - loss: 21.5779 - mae: 3.2213 - 37ms/epoch - 4ms/step\n",
            "Epoch 21/100\n",
            "10/10 - 0s - loss: 20.3806 - mae: 3.1151 - 37ms/epoch - 4ms/step\n",
            "Epoch 22/100\n",
            "10/10 - 0s - loss: 19.3448 - mae: 3.0408 - 39ms/epoch - 4ms/step\n",
            "Epoch 23/100\n",
            "10/10 - 0s - loss: 18.3734 - mae: 2.9616 - 39ms/epoch - 4ms/step\n",
            "Epoch 24/100\n",
            "10/10 - 0s - loss: 17.4410 - mae: 2.8684 - 40ms/epoch - 4ms/step\n",
            "Epoch 25/100\n",
            "10/10 - 0s - loss: 16.4963 - mae: 2.8067 - 42ms/epoch - 4ms/step\n",
            "Epoch 26/100\n",
            "10/10 - 0s - loss: 16.2822 - mae: 2.7865 - 44ms/epoch - 4ms/step\n",
            "Epoch 27/100\n",
            "10/10 - 0s - loss: 15.1298 - mae: 2.6547 - 36ms/epoch - 4ms/step\n",
            "Epoch 28/100\n",
            "10/10 - 0s - loss: 14.8323 - mae: 2.6371 - 35ms/epoch - 4ms/step\n",
            "Epoch 29/100\n",
            "10/10 - 0s - loss: 14.0392 - mae: 2.5628 - 40ms/epoch - 4ms/step\n",
            "Epoch 30/100\n",
            "10/10 - 0s - loss: 13.7013 - mae: 2.5054 - 49ms/epoch - 5ms/step\n",
            "Epoch 31/100\n",
            "10/10 - 0s - loss: 13.0107 - mae: 2.4378 - 37ms/epoch - 4ms/step\n",
            "Epoch 32/100\n",
            "10/10 - 0s - loss: 12.6393 - mae: 2.4448 - 40ms/epoch - 4ms/step\n",
            "Epoch 33/100\n",
            "10/10 - 0s - loss: 12.3092 - mae: 2.3760 - 37ms/epoch - 4ms/step\n",
            "Epoch 34/100\n",
            "10/10 - 0s - loss: 11.8533 - mae: 2.3319 - 38ms/epoch - 4ms/step\n",
            "Epoch 35/100\n",
            "10/10 - 0s - loss: 11.5349 - mae: 2.3898 - 37ms/epoch - 4ms/step\n",
            "Epoch 36/100\n",
            "10/10 - 0s - loss: 11.4144 - mae: 2.2998 - 36ms/epoch - 4ms/step\n",
            "Epoch 37/100\n",
            "10/10 - 0s - loss: 11.2622 - mae: 2.3312 - 36ms/epoch - 4ms/step\n",
            "Epoch 38/100\n",
            "10/10 - 0s - loss: 10.9789 - mae: 2.2905 - 37ms/epoch - 4ms/step\n",
            "Epoch 39/100\n",
            "10/10 - 0s - loss: 10.6074 - mae: 2.3074 - 40ms/epoch - 4ms/step\n",
            "Epoch 40/100\n",
            "10/10 - 0s - loss: 10.5637 - mae: 2.2346 - 41ms/epoch - 4ms/step\n",
            "Epoch 41/100\n",
            "10/10 - 0s - loss: 10.2760 - mae: 2.2208 - 36ms/epoch - 4ms/step\n",
            "Epoch 42/100\n",
            "10/10 - 0s - loss: 10.4047 - mae: 2.2606 - 36ms/epoch - 4ms/step\n",
            "Epoch 43/100\n",
            "10/10 - 0s - loss: 9.8681 - mae: 2.1929 - 37ms/epoch - 4ms/step\n",
            "Epoch 44/100\n",
            "10/10 - 0s - loss: 9.9432 - mae: 2.2093 - 42ms/epoch - 4ms/step\n",
            "Epoch 45/100\n",
            "10/10 - 0s - loss: 9.9139 - mae: 2.2210 - 39ms/epoch - 4ms/step\n",
            "Epoch 46/100\n",
            "10/10 - 0s - loss: 9.6056 - mae: 2.1850 - 37ms/epoch - 4ms/step\n",
            "Epoch 47/100\n",
            "10/10 - 0s - loss: 9.3697 - mae: 2.1323 - 36ms/epoch - 4ms/step\n",
            "Epoch 48/100\n",
            "10/10 - 0s - loss: 9.4026 - mae: 2.1542 - 37ms/epoch - 4ms/step\n",
            "Epoch 49/100\n",
            "10/10 - 0s - loss: 9.3556 - mae: 2.1504 - 38ms/epoch - 4ms/step\n",
            "Epoch 50/100\n",
            "10/10 - 0s - loss: 9.1547 - mae: 2.1117 - 38ms/epoch - 4ms/step\n",
            "Epoch 51/100\n",
            "10/10 - 0s - loss: 9.1251 - mae: 2.1055 - 39ms/epoch - 4ms/step\n",
            "Epoch 52/100\n",
            "10/10 - 0s - loss: 8.9882 - mae: 2.0788 - 43ms/epoch - 4ms/step\n",
            "Epoch 53/100\n",
            "10/10 - 0s - loss: 9.0875 - mae: 2.0900 - 45ms/epoch - 5ms/step\n",
            "Epoch 54/100\n",
            "10/10 - 0s - loss: 8.9528 - mae: 2.0908 - 37ms/epoch - 4ms/step\n",
            "Epoch 55/100\n",
            "10/10 - 0s - loss: 8.8503 - mae: 2.0998 - 37ms/epoch - 4ms/step\n",
            "Epoch 56/100\n",
            "10/10 - 0s - loss: 8.6019 - mae: 2.0676 - 38ms/epoch - 4ms/step\n",
            "Epoch 57/100\n",
            "10/10 - 0s - loss: 8.6003 - mae: 2.0600 - 39ms/epoch - 4ms/step\n",
            "Epoch 58/100\n",
            "10/10 - 0s - loss: 8.5977 - mae: 2.0815 - 37ms/epoch - 4ms/step\n",
            "Epoch 59/100\n",
            "10/10 - 0s - loss: 8.6542 - mae: 2.0726 - 39ms/epoch - 4ms/step\n",
            "Epoch 60/100\n",
            "10/10 - 0s - loss: 8.6208 - mae: 2.0802 - 38ms/epoch - 4ms/step\n",
            "Epoch 61/100\n",
            "10/10 - 0s - loss: 8.4230 - mae: 2.0452 - 36ms/epoch - 4ms/step\n",
            "Epoch 62/100\n",
            "10/10 - 0s - loss: 8.5115 - mae: 2.0634 - 37ms/epoch - 4ms/step\n",
            "Epoch 63/100\n",
            "10/10 - 0s - loss: 8.2909 - mae: 2.0106 - 39ms/epoch - 4ms/step\n",
            "Epoch 64/100\n",
            "10/10 - 0s - loss: 8.0844 - mae: 2.0060 - 40ms/epoch - 4ms/step\n",
            "Epoch 65/100\n",
            "10/10 - 0s - loss: 8.2546 - mae: 2.0347 - 37ms/epoch - 4ms/step\n",
            "Epoch 66/100\n",
            "10/10 - 0s - loss: 8.0681 - mae: 1.9880 - 39ms/epoch - 4ms/step\n",
            "Epoch 67/100\n",
            "10/10 - 0s - loss: 8.0383 - mae: 2.0006 - 37ms/epoch - 4ms/step\n",
            "Epoch 68/100\n",
            "10/10 - 0s - loss: 8.1237 - mae: 2.0260 - 39ms/epoch - 4ms/step\n",
            "Epoch 69/100\n",
            "10/10 - 0s - loss: 7.9568 - mae: 1.9588 - 37ms/epoch - 4ms/step\n",
            "Epoch 70/100\n",
            "10/10 - 0s - loss: 8.0712 - mae: 2.0179 - 37ms/epoch - 4ms/step\n",
            "Epoch 71/100\n",
            "10/10 - 0s - loss: 7.8038 - mae: 1.9874 - 44ms/epoch - 4ms/step\n",
            "Epoch 72/100\n",
            "10/10 - 0s - loss: 8.2384 - mae: 2.0468 - 35ms/epoch - 4ms/step\n",
            "Epoch 73/100\n",
            "10/10 - 0s - loss: 7.9251 - mae: 1.9960 - 45ms/epoch - 4ms/step\n",
            "Epoch 74/100\n",
            "10/10 - 0s - loss: 7.6537 - mae: 1.9596 - 38ms/epoch - 4ms/step\n",
            "Epoch 75/100\n",
            "10/10 - 0s - loss: 7.5908 - mae: 1.9514 - 48ms/epoch - 5ms/step\n",
            "Epoch 76/100\n",
            "10/10 - 0s - loss: 7.5695 - mae: 1.9594 - 38ms/epoch - 4ms/step\n",
            "Epoch 77/100\n",
            "10/10 - 0s - loss: 7.6674 - mae: 1.9546 - 38ms/epoch - 4ms/step\n",
            "Epoch 78/100\n",
            "10/10 - 0s - loss: 7.8067 - mae: 1.9477 - 38ms/epoch - 4ms/step\n",
            "Epoch 79/100\n",
            "10/10 - 0s - loss: 7.5855 - mae: 1.9380 - 37ms/epoch - 4ms/step\n",
            "Epoch 80/100\n",
            "10/10 - 0s - loss: 7.4262 - mae: 1.9040 - 37ms/epoch - 4ms/step\n",
            "Epoch 81/100\n",
            "10/10 - 0s - loss: 7.3716 - mae: 1.9465 - 37ms/epoch - 4ms/step\n",
            "Epoch 82/100\n",
            "10/10 - 0s - loss: 7.4644 - mae: 1.9112 - 39ms/epoch - 4ms/step\n",
            "Epoch 83/100\n",
            "10/10 - 0s - loss: 7.3780 - mae: 1.9273 - 41ms/epoch - 4ms/step\n",
            "Epoch 84/100\n",
            "10/10 - 0s - loss: 7.4338 - mae: 1.9016 - 39ms/epoch - 4ms/step\n",
            "Epoch 85/100\n",
            "10/10 - 0s - loss: 7.3818 - mae: 1.9248 - 38ms/epoch - 4ms/step\n",
            "Epoch 86/100\n",
            "10/10 - 0s - loss: 7.1633 - mae: 1.8855 - 38ms/epoch - 4ms/step\n",
            "Epoch 87/100\n",
            "10/10 - 0s - loss: 7.3360 - mae: 1.9284 - 42ms/epoch - 4ms/step\n",
            "Epoch 88/100\n",
            "10/10 - 0s - loss: 7.2318 - mae: 1.8907 - 37ms/epoch - 4ms/step\n",
            "Epoch 89/100\n",
            "10/10 - 0s - loss: 6.9701 - mae: 1.8639 - 38ms/epoch - 4ms/step\n",
            "Epoch 90/100\n",
            "10/10 - 0s - loss: 6.9428 - mae: 1.8823 - 42ms/epoch - 4ms/step\n",
            "Epoch 91/100\n",
            "10/10 - 0s - loss: 7.3674 - mae: 1.9263 - 37ms/epoch - 4ms/step\n",
            "Epoch 92/100\n",
            "10/10 - 0s - loss: 7.3615 - mae: 1.9214 - 37ms/epoch - 4ms/step\n",
            "Epoch 93/100\n",
            "10/10 - 0s - loss: 7.0586 - mae: 1.8919 - 37ms/epoch - 4ms/step\n",
            "Epoch 94/100\n",
            "10/10 - 0s - loss: 6.8518 - mae: 1.8684 - 37ms/epoch - 4ms/step\n",
            "Epoch 95/100\n",
            "10/10 - 0s - loss: 7.0036 - mae: 1.8594 - 45ms/epoch - 4ms/step\n",
            "Epoch 96/100\n",
            "10/10 - 0s - loss: 6.9019 - mae: 1.8599 - 38ms/epoch - 4ms/step\n",
            "Epoch 97/100\n",
            "10/10 - 0s - loss: 6.8968 - mae: 1.8608 - 49ms/epoch - 5ms/step\n",
            "Epoch 98/100\n",
            "10/10 - 0s - loss: 6.8513 - mae: 1.8567 - 37ms/epoch - 4ms/step\n",
            "Epoch 99/100\n",
            "10/10 - 0s - loss: 6.8688 - mae: 1.8459 - 37ms/epoch - 4ms/step\n",
            "Epoch 100/100\n",
            "10/10 - 0s - loss: 6.7428 - mae: 1.8320 - 37ms/epoch - 4ms/step\n",
            "4/4 - 0s - loss: 11.1644 - mae: 2.6395 - 129ms/epoch - 32ms/step\n",
            "Processing fold #2\n",
            "Epoch 1/100\n",
            "10/10 - 1s - loss: 577.6615 - mae: 22.1057 - 653ms/epoch - 65ms/step\n",
            "Epoch 2/100\n",
            "10/10 - 0s - loss: 518.1059 - mae: 20.6914 - 39ms/epoch - 4ms/step\n",
            "Epoch 3/100\n",
            "10/10 - 0s - loss: 456.9846 - mae: 19.2315 - 41ms/epoch - 4ms/step\n",
            "Epoch 4/100\n",
            "10/10 - 0s - loss: 384.5224 - mae: 17.4080 - 37ms/epoch - 4ms/step\n",
            "Epoch 5/100\n",
            "10/10 - 0s - loss: 307.0643 - mae: 15.3256 - 37ms/epoch - 4ms/step\n",
            "Epoch 6/100\n",
            "10/10 - 0s - loss: 233.5136 - mae: 13.0104 - 49ms/epoch - 5ms/step\n",
            "Epoch 7/100\n",
            "10/10 - 0s - loss: 168.2778 - mae: 10.6818 - 39ms/epoch - 4ms/step\n",
            "Epoch 8/100\n",
            "10/10 - 0s - loss: 116.4459 - mae: 8.5675 - 37ms/epoch - 4ms/step\n",
            "Epoch 9/100\n",
            "10/10 - 0s - loss: 82.7731 - mae: 7.0981 - 36ms/epoch - 4ms/step\n",
            "Epoch 10/100\n",
            "10/10 - 0s - loss: 61.9718 - mae: 6.0683 - 42ms/epoch - 4ms/step\n",
            "Epoch 11/100\n",
            "10/10 - 0s - loss: 48.0921 - mae: 5.2525 - 37ms/epoch - 4ms/step\n",
            "Epoch 12/100\n",
            "10/10 - 0s - loss: 39.0025 - mae: 4.5950 - 42ms/epoch - 4ms/step\n",
            "Epoch 13/100\n",
            "10/10 - 0s - loss: 32.2695 - mae: 4.1470 - 39ms/epoch - 4ms/step\n",
            "Epoch 14/100\n",
            "10/10 - 0s - loss: 27.9342 - mae: 3.8296 - 37ms/epoch - 4ms/step\n",
            "Epoch 15/100\n",
            "10/10 - 0s - loss: 25.1257 - mae: 3.5771 - 38ms/epoch - 4ms/step\n",
            "Epoch 16/100\n",
            "10/10 - 0s - loss: 23.0861 - mae: 3.4056 - 39ms/epoch - 4ms/step\n",
            "Epoch 17/100\n",
            "10/10 - 0s - loss: 21.9218 - mae: 3.3337 - 36ms/epoch - 4ms/step\n",
            "Epoch 18/100\n",
            "10/10 - 0s - loss: 20.2388 - mae: 3.2328 - 38ms/epoch - 4ms/step\n",
            "Epoch 19/100\n",
            "10/10 - 0s - loss: 19.0584 - mae: 3.1074 - 37ms/epoch - 4ms/step\n",
            "Epoch 20/100\n",
            "10/10 - 0s - loss: 18.0429 - mae: 3.0310 - 38ms/epoch - 4ms/step\n",
            "Epoch 21/100\n",
            "10/10 - 0s - loss: 16.9439 - mae: 2.9665 - 38ms/epoch - 4ms/step\n",
            "Epoch 22/100\n",
            "10/10 - 0s - loss: 15.9812 - mae: 2.8381 - 37ms/epoch - 4ms/step\n",
            "Epoch 23/100\n",
            "10/10 - 0s - loss: 15.5216 - mae: 2.8342 - 48ms/epoch - 5ms/step\n",
            "Epoch 24/100\n",
            "10/10 - 0s - loss: 14.7688 - mae: 2.7456 - 36ms/epoch - 4ms/step\n",
            "Epoch 25/100\n",
            "10/10 - 0s - loss: 14.2548 - mae: 2.6862 - 38ms/epoch - 4ms/step\n",
            "Epoch 26/100\n",
            "10/10 - 0s - loss: 13.6417 - mae: 2.6359 - 43ms/epoch - 4ms/step\n",
            "Epoch 27/100\n",
            "10/10 - 0s - loss: 13.3449 - mae: 2.5851 - 37ms/epoch - 4ms/step\n",
            "Epoch 28/100\n",
            "10/10 - 0s - loss: 12.5836 - mae: 2.4995 - 39ms/epoch - 4ms/step\n",
            "Epoch 29/100\n",
            "10/10 - 0s - loss: 12.3046 - mae: 2.4807 - 37ms/epoch - 4ms/step\n",
            "Epoch 30/100\n",
            "10/10 - 0s - loss: 11.7287 - mae: 2.4316 - 38ms/epoch - 4ms/step\n",
            "Epoch 31/100\n",
            "10/10 - 0s - loss: 11.4653 - mae: 2.4257 - 36ms/epoch - 4ms/step\n",
            "Epoch 32/100\n",
            "10/10 - 0s - loss: 11.1893 - mae: 2.3682 - 43ms/epoch - 4ms/step\n",
            "Epoch 33/100\n",
            "10/10 - 0s - loss: 10.8376 - mae: 2.3445 - 39ms/epoch - 4ms/step\n",
            "Epoch 34/100\n",
            "10/10 - 0s - loss: 10.5634 - mae: 2.3321 - 42ms/epoch - 4ms/step\n",
            "Epoch 35/100\n",
            "10/10 - 0s - loss: 10.3704 - mae: 2.3068 - 38ms/epoch - 4ms/step\n",
            "Epoch 36/100\n",
            "10/10 - 0s - loss: 10.2706 - mae: 2.3073 - 39ms/epoch - 4ms/step\n",
            "Epoch 37/100\n",
            "10/10 - 0s - loss: 9.5708 - mae: 2.2343 - 38ms/epoch - 4ms/step\n",
            "Epoch 38/100\n",
            "10/10 - 0s - loss: 9.7481 - mae: 2.2506 - 45ms/epoch - 5ms/step\n",
            "Epoch 39/100\n",
            "10/10 - 0s - loss: 9.6578 - mae: 2.2234 - 37ms/epoch - 4ms/step\n",
            "Epoch 40/100\n",
            "10/10 - 0s - loss: 9.3555 - mae: 2.1901 - 37ms/epoch - 4ms/step\n",
            "Epoch 41/100\n",
            "10/10 - 0s - loss: 9.3470 - mae: 2.2109 - 40ms/epoch - 4ms/step\n",
            "Epoch 42/100\n",
            "10/10 - 0s - loss: 9.0846 - mae: 2.1727 - 37ms/epoch - 4ms/step\n",
            "Epoch 43/100\n",
            "10/10 - 0s - loss: 9.0158 - mae: 2.1705 - 39ms/epoch - 4ms/step\n",
            "Epoch 44/100\n",
            "10/10 - 0s - loss: 8.9112 - mae: 2.1395 - 36ms/epoch - 4ms/step\n",
            "Epoch 45/100\n",
            "10/10 - 0s - loss: 8.7549 - mae: 2.1649 - 49ms/epoch - 5ms/step\n",
            "Epoch 46/100\n",
            "10/10 - 0s - loss: 8.6118 - mae: 2.1343 - 37ms/epoch - 4ms/step\n",
            "Epoch 47/100\n",
            "10/10 - 0s - loss: 8.5020 - mae: 2.1157 - 38ms/epoch - 4ms/step\n",
            "Epoch 48/100\n",
            "10/10 - 0s - loss: 8.6267 - mae: 2.1273 - 42ms/epoch - 4ms/step\n",
            "Epoch 49/100\n",
            "10/10 - 0s - loss: 8.3273 - mae: 2.0971 - 41ms/epoch - 4ms/step\n",
            "Epoch 50/100\n",
            "10/10 - 0s - loss: 8.2025 - mae: 2.0577 - 39ms/epoch - 4ms/step\n",
            "Epoch 51/100\n",
            "10/10 - 0s - loss: 8.0244 - mae: 2.0766 - 39ms/epoch - 4ms/step\n",
            "Epoch 52/100\n",
            "10/10 - 0s - loss: 7.9734 - mae: 2.0574 - 38ms/epoch - 4ms/step\n",
            "Epoch 53/100\n",
            "10/10 - 0s - loss: 7.9811 - mae: 2.0480 - 36ms/epoch - 4ms/step\n",
            "Epoch 54/100\n",
            "10/10 - 0s - loss: 7.9330 - mae: 2.0233 - 39ms/epoch - 4ms/step\n",
            "Epoch 55/100\n",
            "10/10 - 0s - loss: 7.8487 - mae: 2.0268 - 39ms/epoch - 4ms/step\n",
            "Epoch 56/100\n",
            "10/10 - 0s - loss: 7.7579 - mae: 2.0175 - 39ms/epoch - 4ms/step\n",
            "Epoch 57/100\n",
            "10/10 - 0s - loss: 7.5534 - mae: 2.0161 - 40ms/epoch - 4ms/step\n",
            "Epoch 58/100\n",
            "10/10 - 0s - loss: 7.6465 - mae: 1.9797 - 38ms/epoch - 4ms/step\n",
            "Epoch 59/100\n",
            "10/10 - 0s - loss: 7.4676 - mae: 1.9589 - 37ms/epoch - 4ms/step\n",
            "Epoch 60/100\n",
            "10/10 - 0s - loss: 7.4479 - mae: 1.9823 - 37ms/epoch - 4ms/step\n",
            "Epoch 61/100\n",
            "10/10 - 0s - loss: 7.4313 - mae: 1.9927 - 50ms/epoch - 5ms/step\n",
            "Epoch 62/100\n",
            "10/10 - 0s - loss: 7.3348 - mae: 1.9504 - 40ms/epoch - 4ms/step\n",
            "Epoch 63/100\n",
            "10/10 - 0s - loss: 7.3056 - mae: 1.9317 - 37ms/epoch - 4ms/step\n",
            "Epoch 64/100\n",
            "10/10 - 0s - loss: 7.2284 - mae: 1.9218 - 38ms/epoch - 4ms/step\n",
            "Epoch 65/100\n",
            "10/10 - 0s - loss: 7.1663 - mae: 1.9508 - 39ms/epoch - 4ms/step\n",
            "Epoch 66/100\n",
            "10/10 - 0s - loss: 6.9280 - mae: 1.9061 - 38ms/epoch - 4ms/step\n",
            "Epoch 67/100\n",
            "10/10 - 0s - loss: 7.0456 - mae: 1.8754 - 59ms/epoch - 6ms/step\n",
            "Epoch 68/100\n",
            "10/10 - 0s - loss: 7.0081 - mae: 1.9008 - 37ms/epoch - 4ms/step\n",
            "Epoch 69/100\n",
            "10/10 - 0s - loss: 6.9687 - mae: 1.9001 - 38ms/epoch - 4ms/step\n",
            "Epoch 70/100\n",
            "10/10 - 0s - loss: 6.9060 - mae: 1.8913 - 38ms/epoch - 4ms/step\n",
            "Epoch 71/100\n",
            "10/10 - 0s - loss: 6.6920 - mae: 1.8590 - 38ms/epoch - 4ms/step\n",
            "Epoch 72/100\n",
            "10/10 - 0s - loss: 6.7163 - mae: 1.8538 - 39ms/epoch - 4ms/step\n",
            "Epoch 73/100\n",
            "10/10 - 0s - loss: 6.6432 - mae: 1.8614 - 43ms/epoch - 4ms/step\n",
            "Epoch 74/100\n",
            "10/10 - 0s - loss: 6.5680 - mae: 1.8564 - 38ms/epoch - 4ms/step\n",
            "Epoch 75/100\n",
            "10/10 - 0s - loss: 6.6536 - mae: 1.8774 - 38ms/epoch - 4ms/step\n",
            "Epoch 76/100\n",
            "10/10 - 0s - loss: 6.3586 - mae: 1.8110 - 42ms/epoch - 4ms/step\n",
            "Epoch 77/100\n",
            "10/10 - 0s - loss: 6.2518 - mae: 1.8203 - 40ms/epoch - 4ms/step\n",
            "Epoch 78/100\n",
            "10/10 - 0s - loss: 6.3388 - mae: 1.8747 - 38ms/epoch - 4ms/step\n",
            "Epoch 79/100\n",
            "10/10 - 0s - loss: 6.2428 - mae: 1.7971 - 39ms/epoch - 4ms/step\n",
            "Epoch 80/100\n",
            "10/10 - 0s - loss: 6.0869 - mae: 1.8206 - 42ms/epoch - 4ms/step\n",
            "Epoch 81/100\n",
            "10/10 - 0s - loss: 6.1424 - mae: 1.7918 - 39ms/epoch - 4ms/step\n",
            "Epoch 82/100\n",
            "10/10 - 0s - loss: 6.2020 - mae: 1.8168 - 37ms/epoch - 4ms/step\n",
            "Epoch 83/100\n",
            "10/10 - 0s - loss: 6.0118 - mae: 1.7800 - 38ms/epoch - 4ms/step\n",
            "Epoch 84/100\n",
            "10/10 - 0s - loss: 5.9936 - mae: 1.7973 - 40ms/epoch - 4ms/step\n",
            "Epoch 85/100\n",
            "10/10 - 0s - loss: 5.9695 - mae: 1.7955 - 37ms/epoch - 4ms/step\n",
            "Epoch 86/100\n",
            "10/10 - 0s - loss: 5.8711 - mae: 1.7647 - 38ms/epoch - 4ms/step\n",
            "Epoch 87/100\n",
            "10/10 - 0s - loss: 5.7689 - mae: 1.7714 - 43ms/epoch - 4ms/step\n",
            "Epoch 88/100\n",
            "10/10 - 0s - loss: 5.9150 - mae: 1.7538 - 38ms/epoch - 4ms/step\n",
            "Epoch 89/100\n",
            "10/10 - 0s - loss: 5.9799 - mae: 1.7644 - 44ms/epoch - 4ms/step\n",
            "Epoch 90/100\n",
            "10/10 - 0s - loss: 5.9043 - mae: 1.7621 - 38ms/epoch - 4ms/step\n",
            "Epoch 91/100\n",
            "10/10 - 0s - loss: 5.8131 - mae: 1.7318 - 37ms/epoch - 4ms/step\n",
            "Epoch 92/100\n",
            "10/10 - 0s - loss: 5.6853 - mae: 1.7358 - 38ms/epoch - 4ms/step\n",
            "Epoch 93/100\n",
            "10/10 - 0s - loss: 5.4707 - mae: 1.6965 - 38ms/epoch - 4ms/step\n",
            "Epoch 94/100\n",
            "10/10 - 0s - loss: 5.8552 - mae: 1.7865 - 38ms/epoch - 4ms/step\n",
            "Epoch 95/100\n",
            "10/10 - 0s - loss: 5.5552 - mae: 1.7242 - 39ms/epoch - 4ms/step\n",
            "Epoch 96/100\n",
            "10/10 - 0s - loss: 5.6181 - mae: 1.7223 - 41ms/epoch - 4ms/step\n",
            "Epoch 97/100\n",
            "10/10 - 0s - loss: 5.3855 - mae: 1.6860 - 42ms/epoch - 4ms/step\n",
            "Epoch 98/100\n",
            "10/10 - 0s - loss: 5.5178 - mae: 1.6998 - 41ms/epoch - 4ms/step\n",
            "Epoch 99/100\n",
            "10/10 - 0s - loss: 5.3453 - mae: 1.6786 - 39ms/epoch - 4ms/step\n",
            "Epoch 100/100\n",
            "10/10 - 0s - loss: 5.3710 - mae: 1.6948 - 37ms/epoch - 4ms/step\n",
            "4/4 - 0s - loss: 15.1848 - mae: 2.7865 - 131ms/epoch - 33ms/step\n",
            "Processing fold #3\n",
            "Epoch 1/100\n",
            "10/10 - 1s - loss: 508.7539 - mae: 20.7175 - 648ms/epoch - 65ms/step\n",
            "Epoch 2/100\n",
            "10/10 - 0s - loss: 439.2305 - mae: 18.9671 - 37ms/epoch - 4ms/step\n",
            "Epoch 3/100\n",
            "10/10 - 0s - loss: 368.1108 - mae: 17.0380 - 37ms/epoch - 4ms/step\n",
            "Epoch 4/100\n",
            "10/10 - 0s - loss: 292.3613 - mae: 14.9276 - 39ms/epoch - 4ms/step\n",
            "Epoch 5/100\n",
            "10/10 - 0s - loss: 219.1072 - mae: 12.6284 - 36ms/epoch - 4ms/step\n",
            "Epoch 6/100\n",
            "10/10 - 0s - loss: 157.0479 - mae: 10.3541 - 36ms/epoch - 4ms/step\n",
            "Epoch 7/100\n",
            "10/10 - 0s - loss: 109.4821 - mae: 8.4867 - 37ms/epoch - 4ms/step\n",
            "Epoch 8/100\n",
            "10/10 - 0s - loss: 79.0296 - mae: 7.0703 - 38ms/epoch - 4ms/step\n",
            "Epoch 9/100\n",
            "10/10 - 0s - loss: 61.1806 - mae: 6.0977 - 43ms/epoch - 4ms/step\n",
            "Epoch 10/100\n",
            "10/10 - 0s - loss: 48.6384 - mae: 5.3307 - 35ms/epoch - 4ms/step\n",
            "Epoch 11/100\n",
            "10/10 - 0s - loss: 39.3340 - mae: 4.6642 - 37ms/epoch - 4ms/step\n",
            "Epoch 12/100\n",
            "10/10 - 0s - loss: 32.0011 - mae: 4.0499 - 38ms/epoch - 4ms/step\n",
            "Epoch 13/100\n",
            "10/10 - 0s - loss: 27.0580 - mae: 3.6231 - 37ms/epoch - 4ms/step\n",
            "Epoch 14/100\n",
            "10/10 - 0s - loss: 23.7838 - mae: 3.3457 - 47ms/epoch - 5ms/step\n",
            "Epoch 15/100\n",
            "10/10 - 0s - loss: 21.8546 - mae: 3.1885 - 41ms/epoch - 4ms/step\n",
            "Epoch 16/100\n",
            "10/10 - 0s - loss: 20.2886 - mae: 3.0595 - 37ms/epoch - 4ms/step\n",
            "Epoch 17/100\n",
            "10/10 - 0s - loss: 19.2252 - mae: 2.9299 - 37ms/epoch - 4ms/step\n",
            "Epoch 18/100\n",
            "10/10 - 0s - loss: 18.1234 - mae: 2.8354 - 39ms/epoch - 4ms/step\n",
            "Epoch 19/100\n",
            "10/10 - 0s - loss: 17.2090 - mae: 2.7545 - 40ms/epoch - 4ms/step\n",
            "Epoch 20/100\n",
            "10/10 - 0s - loss: 16.3758 - mae: 2.6594 - 37ms/epoch - 4ms/step\n",
            "Epoch 21/100\n",
            "10/10 - 0s - loss: 15.6871 - mae: 2.5681 - 43ms/epoch - 4ms/step\n",
            "Epoch 22/100\n",
            "10/10 - 0s - loss: 14.8579 - mae: 2.5520 - 41ms/epoch - 4ms/step\n",
            "Epoch 23/100\n",
            "10/10 - 0s - loss: 14.4814 - mae: 2.4959 - 37ms/epoch - 4ms/step\n",
            "Epoch 24/100\n",
            "10/10 - 0s - loss: 13.8074 - mae: 2.4642 - 38ms/epoch - 4ms/step\n",
            "Epoch 25/100\n",
            "10/10 - 0s - loss: 13.4293 - mae: 2.4998 - 45ms/epoch - 5ms/step\n",
            "Epoch 26/100\n",
            "10/10 - 0s - loss: 12.8653 - mae: 2.3663 - 37ms/epoch - 4ms/step\n",
            "Epoch 27/100\n",
            "10/10 - 0s - loss: 12.4398 - mae: 2.3648 - 39ms/epoch - 4ms/step\n",
            "Epoch 28/100\n",
            "10/10 - 0s - loss: 12.0661 - mae: 2.3119 - 38ms/epoch - 4ms/step\n",
            "Epoch 29/100\n",
            "10/10 - 0s - loss: 11.8801 - mae: 2.3955 - 51ms/epoch - 5ms/step\n",
            "Epoch 30/100\n",
            "10/10 - 0s - loss: 11.3201 - mae: 2.3273 - 37ms/epoch - 4ms/step\n",
            "Epoch 31/100\n",
            "10/10 - 0s - loss: 11.1818 - mae: 2.2866 - 36ms/epoch - 4ms/step\n",
            "Epoch 32/100\n",
            "10/10 - 0s - loss: 11.0535 - mae: 2.2469 - 37ms/epoch - 4ms/step\n",
            "Epoch 33/100\n",
            "10/10 - 0s - loss: 10.6822 - mae: 2.2565 - 36ms/epoch - 4ms/step\n",
            "Epoch 34/100\n",
            "10/10 - 0s - loss: 10.4357 - mae: 2.1442 - 44ms/epoch - 4ms/step\n",
            "Epoch 35/100\n",
            "10/10 - 0s - loss: 10.2271 - mae: 2.2217 - 37ms/epoch - 4ms/step\n",
            "Epoch 36/100\n",
            "10/10 - 0s - loss: 10.3429 - mae: 2.2008 - 48ms/epoch - 5ms/step\n",
            "Epoch 37/100\n",
            "10/10 - 0s - loss: 9.8340 - mae: 2.1464 - 36ms/epoch - 4ms/step\n",
            "Epoch 38/100\n",
            "10/10 - 0s - loss: 10.0580 - mae: 2.1969 - 36ms/epoch - 4ms/step\n",
            "Epoch 39/100\n",
            "10/10 - 0s - loss: 9.8498 - mae: 2.1255 - 36ms/epoch - 4ms/step\n",
            "Epoch 40/100\n",
            "10/10 - 0s - loss: 9.4222 - mae: 2.1533 - 38ms/epoch - 4ms/step\n",
            "Epoch 41/100\n",
            "10/10 - 0s - loss: 9.5527 - mae: 2.1296 - 36ms/epoch - 4ms/step\n",
            "Epoch 42/100\n",
            "10/10 - 0s - loss: 9.1816 - mae: 2.1000 - 39ms/epoch - 4ms/step\n",
            "Epoch 43/100\n",
            "10/10 - 0s - loss: 9.2453 - mae: 2.0736 - 36ms/epoch - 4ms/step\n",
            "Epoch 44/100\n",
            "10/10 - 0s - loss: 9.0248 - mae: 2.0964 - 40ms/epoch - 4ms/step\n",
            "Epoch 45/100\n",
            "10/10 - 0s - loss: 9.0368 - mae: 2.0823 - 36ms/epoch - 4ms/step\n",
            "Epoch 46/100\n",
            "10/10 - 0s - loss: 9.0681 - mae: 2.0779 - 36ms/epoch - 4ms/step\n",
            "Epoch 47/100\n",
            "10/10 - 0s - loss: 8.9045 - mae: 2.0426 - 36ms/epoch - 4ms/step\n",
            "Epoch 48/100\n",
            "10/10 - 0s - loss: 8.7617 - mae: 2.0683 - 36ms/epoch - 4ms/step\n",
            "Epoch 49/100\n",
            "10/10 - 0s - loss: 8.5967 - mae: 2.0148 - 38ms/epoch - 4ms/step\n",
            "Epoch 50/100\n",
            "10/10 - 0s - loss: 8.7204 - mae: 2.0574 - 36ms/epoch - 4ms/step\n",
            "Epoch 51/100\n",
            "10/10 - 0s - loss: 8.5062 - mae: 2.0165 - 41ms/epoch - 4ms/step\n",
            "Epoch 52/100\n",
            "10/10 - 0s - loss: 8.3877 - mae: 2.0002 - 42ms/epoch - 4ms/step\n",
            "Epoch 53/100\n",
            "10/10 - 0s - loss: 8.3684 - mae: 2.0090 - 37ms/epoch - 4ms/step\n",
            "Epoch 54/100\n",
            "10/10 - 0s - loss: 8.2889 - mae: 1.9960 - 38ms/epoch - 4ms/step\n",
            "Epoch 55/100\n",
            "10/10 - 0s - loss: 8.3878 - mae: 2.0308 - 38ms/epoch - 4ms/step\n",
            "Epoch 56/100\n",
            "10/10 - 0s - loss: 8.0809 - mae: 1.9773 - 42ms/epoch - 4ms/step\n",
            "Epoch 57/100\n",
            "10/10 - 0s - loss: 8.3070 - mae: 1.9786 - 36ms/epoch - 4ms/step\n",
            "Epoch 58/100\n",
            "10/10 - 0s - loss: 8.0809 - mae: 1.9956 - 45ms/epoch - 4ms/step\n",
            "Epoch 59/100\n",
            "10/10 - 0s - loss: 8.0513 - mae: 1.9516 - 37ms/epoch - 4ms/step\n",
            "Epoch 60/100\n",
            "10/10 - 0s - loss: 7.9787 - mae: 1.9157 - 36ms/epoch - 4ms/step\n",
            "Epoch 61/100\n",
            "10/10 - 0s - loss: 7.9708 - mae: 1.9503 - 36ms/epoch - 4ms/step\n",
            "Epoch 62/100\n",
            "10/10 - 0s - loss: 7.7847 - mae: 1.9653 - 39ms/epoch - 4ms/step\n",
            "Epoch 63/100\n",
            "10/10 - 0s - loss: 7.9959 - mae: 1.9704 - 38ms/epoch - 4ms/step\n",
            "Epoch 64/100\n",
            "10/10 - 0s - loss: 7.7703 - mae: 1.9552 - 36ms/epoch - 4ms/step\n",
            "Epoch 65/100\n",
            "10/10 - 0s - loss: 7.6799 - mae: 1.9240 - 36ms/epoch - 4ms/step\n",
            "Epoch 66/100\n",
            "10/10 - 0s - loss: 7.6702 - mae: 1.9375 - 39ms/epoch - 4ms/step\n",
            "Epoch 67/100\n",
            "10/10 - 0s - loss: 7.5282 - mae: 1.9035 - 40ms/epoch - 4ms/step\n",
            "Epoch 68/100\n",
            "10/10 - 0s - loss: 7.4476 - mae: 1.8899 - 37ms/epoch - 4ms/step\n",
            "Epoch 69/100\n",
            "10/10 - 0s - loss: 7.7587 - mae: 1.9044 - 46ms/epoch - 5ms/step\n",
            "Epoch 70/100\n",
            "10/10 - 0s - loss: 7.4296 - mae: 1.8712 - 37ms/epoch - 4ms/step\n",
            "Epoch 71/100\n",
            "10/10 - 0s - loss: 7.6002 - mae: 1.9099 - 37ms/epoch - 4ms/step\n",
            "Epoch 72/100\n",
            "10/10 - 0s - loss: 7.3650 - mae: 1.8747 - 37ms/epoch - 4ms/step\n",
            "Epoch 73/100\n",
            "10/10 - 0s - loss: 7.4660 - mae: 1.8902 - 41ms/epoch - 4ms/step\n",
            "Epoch 74/100\n",
            "10/10 - 0s - loss: 7.3655 - mae: 1.8767 - 36ms/epoch - 4ms/step\n",
            "Epoch 75/100\n",
            "10/10 - 0s - loss: 7.1930 - mae: 1.8537 - 37ms/epoch - 4ms/step\n",
            "Epoch 76/100\n",
            "10/10 - 0s - loss: 7.4462 - mae: 1.8943 - 35ms/epoch - 3ms/step\n",
            "Epoch 77/100\n",
            "10/10 - 0s - loss: 7.2103 - mae: 1.8389 - 36ms/epoch - 4ms/step\n",
            "Epoch 78/100\n",
            "10/10 - 0s - loss: 7.1781 - mae: 1.8652 - 38ms/epoch - 4ms/step\n",
            "Epoch 79/100\n",
            "10/10 - 0s - loss: 7.3008 - mae: 1.8707 - 38ms/epoch - 4ms/step\n",
            "Epoch 80/100\n",
            "10/10 - 0s - loss: 7.0736 - mae: 1.8491 - 36ms/epoch - 4ms/step\n",
            "Epoch 81/100\n",
            "10/10 - 0s - loss: 7.2071 - mae: 1.8671 - 47ms/epoch - 5ms/step\n",
            "Epoch 82/100\n",
            "10/10 - 0s - loss: 7.0220 - mae: 1.8308 - 37ms/epoch - 4ms/step\n",
            "Epoch 83/100\n",
            "10/10 - 0s - loss: 6.9653 - mae: 1.7800 - 40ms/epoch - 4ms/step\n",
            "Epoch 84/100\n",
            "10/10 - 0s - loss: 6.9149 - mae: 1.8055 - 37ms/epoch - 4ms/step\n",
            "Epoch 85/100\n",
            "10/10 - 0s - loss: 6.9935 - mae: 1.8000 - 39ms/epoch - 4ms/step\n",
            "Epoch 86/100\n",
            "10/10 - 0s - loss: 7.0847 - mae: 1.8351 - 38ms/epoch - 4ms/step\n",
            "Epoch 87/100\n",
            "10/10 - 0s - loss: 6.7172 - mae: 1.7955 - 36ms/epoch - 4ms/step\n",
            "Epoch 88/100\n",
            "10/10 - 0s - loss: 6.9043 - mae: 1.8121 - 39ms/epoch - 4ms/step\n",
            "Epoch 89/100\n",
            "10/10 - 0s - loss: 6.8048 - mae: 1.8010 - 40ms/epoch - 4ms/step\n",
            "Epoch 90/100\n",
            "10/10 - 0s - loss: 6.7514 - mae: 1.7795 - 37ms/epoch - 4ms/step\n",
            "Epoch 91/100\n",
            "10/10 - 0s - loss: 6.6714 - mae: 1.7630 - 40ms/epoch - 4ms/step\n",
            "Epoch 92/100\n",
            "10/10 - 0s - loss: 6.8624 - mae: 1.7674 - 46ms/epoch - 5ms/step\n",
            "Epoch 93/100\n",
            "10/10 - 0s - loss: 6.7120 - mae: 1.8050 - 36ms/epoch - 4ms/step\n",
            "Epoch 94/100\n",
            "10/10 - 0s - loss: 6.6965 - mae: 1.7476 - 38ms/epoch - 4ms/step\n",
            "Epoch 95/100\n",
            "10/10 - 0s - loss: 6.4373 - mae: 1.7361 - 41ms/epoch - 4ms/step\n",
            "Epoch 96/100\n",
            "10/10 - 0s - loss: 6.5702 - mae: 1.7569 - 42ms/epoch - 4ms/step\n",
            "Epoch 97/100\n",
            "10/10 - 0s - loss: 6.6550 - mae: 1.7802 - 37ms/epoch - 4ms/step\n",
            "Epoch 98/100\n",
            "10/10 - 0s - loss: 6.3755 - mae: 1.7548 - 39ms/epoch - 4ms/step\n",
            "Epoch 99/100\n",
            "10/10 - 0s - loss: 6.5135 - mae: 1.7602 - 38ms/epoch - 4ms/step\n",
            "Epoch 100/100\n",
            "10/10 - 0s - loss: 6.4700 - mae: 1.7110 - 39ms/epoch - 4ms/step\n",
            "4/4 - 0s - loss: 11.4501 - mae: 2.4044 - 139ms/epoch - 35ms/step\n"
          ]
        }
      ]
    },
    {
      "cell_type": "code",
      "source": [
        "all_scores"
      ],
      "metadata": {
        "colab": {
          "base_uri": "https://localhost:8080/"
        },
        "id": "u2CFZIDzBMOK",
        "outputId": "d74209db-5779-4ae5-c995-17494c49c0ad"
      },
      "execution_count": 160,
      "outputs": [
        {
          "output_type": "execute_result",
          "data": {
            "text/plain": [
              "[1.9561474323272705,\n",
              " 2.6395435333251953,\n",
              " 2.7865421772003174,\n",
              " 2.4043564796447754]"
            ]
          },
          "metadata": {},
          "execution_count": 160
        }
      ]
    },
    {
      "cell_type": "code",
      "source": [
        "np.mean(all_scores)"
      ],
      "metadata": {
        "colab": {
          "base_uri": "https://localhost:8080/"
        },
        "id": "9i4e1kuMBWvR",
        "outputId": "1b588f41-a9ef-4816-8180-7265607614eb"
      },
      "execution_count": 161,
      "outputs": [
        {
          "output_type": "execute_result",
          "data": {
            "text/plain": [
              "2.4466474056243896"
            ]
          },
          "metadata": {},
          "execution_count": 161
        }
      ]
    },
    {
      "cell_type": "code",
      "source": [
        "model = build_model()\n",
        "model.fit(train_data, train_targets,\n",
        "          epochs=10, batch_size=32, verbose=2)\n",
        "test_mse_score, test_mae_score = model.evaluate(test_data, test_targets)"
      ],
      "metadata": {
        "colab": {
          "base_uri": "https://localhost:8080/"
        },
        "id": "lLai6mmeBYHF",
        "outputId": "864d6c57-3354-4206-ea9a-eb3d684c55c1"
      },
      "execution_count": 162,
      "outputs": [
        {
          "output_type": "stream",
          "name": "stdout",
          "text": [
            "Epoch 1/10\n",
            "13/13 - 1s - loss: 537.6948 - mae: 21.3482 - 1s/epoch - 86ms/step\n",
            "Epoch 2/10\n",
            "13/13 - 0s - loss: 452.4908 - mae: 19.3629 - 46ms/epoch - 4ms/step\n",
            "Epoch 3/10\n",
            "13/13 - 0s - loss: 362.4708 - mae: 17.0410 - 46ms/epoch - 4ms/step\n",
            "Epoch 4/10\n",
            "13/13 - 0s - loss: 264.5793 - mae: 14.1580 - 48ms/epoch - 4ms/step\n",
            "Epoch 5/10\n",
            "13/13 - 0s - loss: 174.3870 - mae: 10.8968 - 49ms/epoch - 4ms/step\n",
            "Epoch 6/10\n",
            "13/13 - 0s - loss: 112.5699 - mae: 8.3064 - 71ms/epoch - 5ms/step\n",
            "Epoch 7/10\n",
            "13/13 - 0s - loss: 76.8149 - mae: 6.7590 - 46ms/epoch - 4ms/step\n",
            "Epoch 8/10\n",
            "13/13 - 0s - loss: 55.2392 - mae: 5.6467 - 47ms/epoch - 4ms/step\n",
            "Epoch 9/10\n",
            "13/13 - 0s - loss: 42.1877 - mae: 4.8828 - 48ms/epoch - 4ms/step\n",
            "Epoch 10/10\n",
            "13/13 - 0s - loss: 33.8257 - mae: 4.2965 - 46ms/epoch - 4ms/step\n",
            "4/4 [==============================] - 0s 4ms/step - loss: 31.6916 - mae: 4.4534\n"
          ]
        }
      ]
    },
    {
      "cell_type": "code",
      "source": [
        "test_mae_score"
      ],
      "metadata": {
        "colab": {
          "base_uri": "https://localhost:8080/"
        },
        "id": "_CejTD74Blmx",
        "outputId": "55fde617-c310-4ae0-b0ee-ce5eb55b8b9d"
      },
      "execution_count": 163,
      "outputs": [
        {
          "output_type": "execute_result",
          "data": {
            "text/plain": [
              "4.453360080718994"
            ]
          },
          "metadata": {},
          "execution_count": 163
        }
      ]
    },
    {
      "cell_type": "code",
      "source": [
        "preds = model.predict(test_data)\n",
        "print(preds[8])\n",
        "print(test_targets[8])"
      ],
      "metadata": {
        "colab": {
          "base_uri": "https://localhost:8080/"
        },
        "id": "69-9dXquBoVD",
        "outputId": "b0ebde87-9fad-429e-b334-1568dd9b856c"
      },
      "execution_count": 168,
      "outputs": [
        {
          "output_type": "stream",
          "name": "stdout",
          "text": [
            "[17.263218]\n",
            "20.5\n"
          ]
        }
      ]
    }
  ]
}