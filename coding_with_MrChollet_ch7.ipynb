{
  "nbformat": 4,
  "nbformat_minor": 0,
  "metadata": {
    "colab": {
      "name": "coding_with_MrChollet_ch7.ipynb",
      "provenance": [],
      "authorship_tag": "ABX9TyNErUyZYkHNb18WFrY0qe8C",
      "include_colab_link": true
    },
    "kernelspec": {
      "name": "python3",
      "display_name": "Python 3"
    },
    "language_info": {
      "name": "python"
    },
    "accelerator": "GPU"
  },
  "cells": [
    {
      "cell_type": "markdown",
      "metadata": {
        "id": "view-in-github",
        "colab_type": "text"
      },
      "source": [
        "<a href=\"https://colab.research.google.com/github/JulieOnIsland/DeepLearningforAI_class_2022/blob/main/coding_with_MrChollet_ch7.ipynb\" target=\"_parent\"><img src=\"https://colab.research.google.com/assets/colab-badge.svg\" alt=\"Open In Colab\"/></a>"
      ]
    },
    {
      "cell_type": "markdown",
      "source": [
        "# Ch 7: Working with Keras: A deep dive\n",
        "\n",
        "This chapter covers the following:\n",
        "* Functional API\n",
        "* Using built-in Keras training and evaluation loops\n",
        "* Using Keras callbacks to customize training\n",
        "* Using TensorBoard to monitor training and evaluation metrics"
      ],
      "metadata": {
        "id": "cQ7QchiAntct"
      }
    },
    {
      "cell_type": "code",
      "execution_count": null,
      "metadata": {
        "id": "q6zzmyvtVPTU"
      },
      "outputs": [],
      "source": [
        "import tensorflow as tf\n",
        "from tensorflow import keras"
      ]
    },
    {
      "cell_type": "code",
      "source": [
        "from tensorflow.keras import layers"
      ],
      "metadata": {
        "id": "qkgYw82ZVToG"
      },
      "execution_count": null,
      "outputs": []
    },
    {
      "cell_type": "markdown",
      "source": [
        "## Functional API"
      ],
      "metadata": {
        "id": "TRxLxGeRh4Le"
      }
    },
    {
      "cell_type": "code",
      "source": [
        "inputs = keras.Input(shape=(3,), name='my_input')\n",
        "features = layers.Dense(64, activation='relu')(inputs)\n",
        "outputs = layers.Dense(10, activation='softmax')(features)\n",
        "model = keras.Model(inputs=inputs, outputs=outputs)"
      ],
      "metadata": {
        "id": "0A03uYc1VWoZ"
      },
      "execution_count": null,
      "outputs": []
    },
    {
      "cell_type": "code",
      "source": [
        "features.shape"
      ],
      "metadata": {
        "colab": {
          "base_uri": "https://localhost:8080/"
        },
        "id": "evwvyoxHVizd",
        "outputId": "01bc9b0b-5c85-4c09-a4ce-9330b5f708b7"
      },
      "execution_count": null,
      "outputs": [
        {
          "output_type": "execute_result",
          "data": {
            "text/plain": [
              "TensorShape([None, 64])"
            ]
          },
          "metadata": {},
          "execution_count": 6
        }
      ]
    },
    {
      "cell_type": "code",
      "source": [
        "model.summary()"
      ],
      "metadata": {
        "colab": {
          "base_uri": "https://localhost:8080/"
        },
        "id": "4O4TYqtoVpE2",
        "outputId": "87c2fd3b-13d4-4075-9855-dad6363004f1"
      },
      "execution_count": null,
      "outputs": [
        {
          "output_type": "stream",
          "name": "stdout",
          "text": [
            "Model: \"model\"\n",
            "_________________________________________________________________\n",
            " Layer (type)                Output Shape              Param #   \n",
            "=================================================================\n",
            " my_input (InputLayer)       [(None, 3)]               0         \n",
            "                                                                 \n",
            " dense (Dense)               (None, 64)                256       \n",
            "                                                                 \n",
            " dense_1 (Dense)             (None, 10)                650       \n",
            "                                                                 \n",
            "=================================================================\n",
            "Total params: 906\n",
            "Trainable params: 906\n",
            "Non-trainable params: 0\n",
            "_________________________________________________________________\n"
          ]
        }
      ]
    },
    {
      "cell_type": "markdown",
      "source": [
        "## Multi-input, Multi-output model"
      ],
      "metadata": {
        "id": "-UpLB1HLh6l4"
      }
    },
    {
      "cell_type": "code",
      "source": [
        "vocabulary_size = 10000\n",
        "num_tags = 100\n",
        "num_departments = 4\n",
        "\n",
        "title = keras.Input(shape=(vocabulary_size,), name=\"title\")\n",
        "text_body = keras.Input(shape=(vocabulary_size,), name=\"text_body\")\n",
        "tags = keras.Input(shape=(num_tags,), name=\"tags\")\n"
      ],
      "metadata": {
        "id": "gVBmTVxSVqSv"
      },
      "execution_count": null,
      "outputs": []
    },
    {
      "cell_type": "code",
      "source": [
        "features = layers.Concatenate()([title, text_body, tags])"
      ],
      "metadata": {
        "id": "KY2ulnQ4V8gG"
      },
      "execution_count": null,
      "outputs": []
    },
    {
      "cell_type": "code",
      "source": [
        "features.shape"
      ],
      "metadata": {
        "colab": {
          "base_uri": "https://localhost:8080/"
        },
        "id": "SpnAK3-cV-a7",
        "outputId": "9b352851-323d-4a52-ec1d-baee1fdf02f7"
      },
      "execution_count": null,
      "outputs": [
        {
          "output_type": "execute_result",
          "data": {
            "text/plain": [
              "TensorShape([None, 20100])"
            ]
          },
          "metadata": {},
          "execution_count": 10
        }
      ]
    },
    {
      "cell_type": "code",
      "source": [
        "featuers = layers.Dense(64, activation='relu')(features)"
      ],
      "metadata": {
        "id": "2ibzMsuOV_Ek"
      },
      "execution_count": null,
      "outputs": []
    },
    {
      "cell_type": "code",
      "source": [
        "priority = layers.Dense(1, activation='sigmoid', name='priority')(features)\n",
        "department = layers.Dense(\n",
        "    num_departments, activation='softmax', name='department'\n",
        ")(features)\n",
        "\n",
        "model = keras.Model(inputs=[title, text_body, tags], outputs=[priority, department])"
      ],
      "metadata": {
        "id": "4vsohs04WDre"
      },
      "execution_count": null,
      "outputs": []
    },
    {
      "cell_type": "code",
      "source": [
        "import numpy as np\n",
        "num_samples = 1280\n",
        "\n",
        "title_data = np.random.randint(0, 2, size=(num_samples, vocabulary_size))\n",
        "text_body_data = np.random.randint(0, 2, size=(num_samples, vocabulary_size))\n",
        "tags_data = np.random.randint(0, 2, size=(num_samples, num_tags))\n",
        "\n",
        "priority_data = np.random.random(size=(num_samples, 1))\n",
        "department_data = np.random.randint(0, 2, size=(num_samples, num_departments))"
      ],
      "metadata": {
        "id": "c0sDuK3ZYi_r"
      },
      "execution_count": null,
      "outputs": []
    },
    {
      "cell_type": "code",
      "source": [
        "print(priority_data)\n",
        "print(priority_data.shape)"
      ],
      "metadata": {
        "colab": {
          "base_uri": "https://localhost:8080/"
        },
        "id": "1ceeETNwZR_u",
        "outputId": "d55e43a5-0ff2-4898-9cea-73262ed0271a"
      },
      "execution_count": null,
      "outputs": [
        {
          "output_type": "stream",
          "name": "stdout",
          "text": [
            "[[0.38605503]\n",
            " [0.07248777]\n",
            " [0.82582524]\n",
            " ...\n",
            " [0.73982489]\n",
            " [0.97650184]\n",
            " [0.2867654 ]]\n",
            "(1280, 1)\n"
          ]
        }
      ]
    },
    {
      "cell_type": "code",
      "source": [
        "print(department_data)\n",
        "print(department_data.shape)"
      ],
      "metadata": {
        "colab": {
          "base_uri": "https://localhost:8080/"
        },
        "id": "uFtYMGGmZYnG",
        "outputId": "1c7f3b0c-dd77-4a29-a642-b639e91ae5b6"
      },
      "execution_count": null,
      "outputs": [
        {
          "output_type": "stream",
          "name": "stdout",
          "text": [
            "[[1 0 0 0]\n",
            " [1 0 0 0]\n",
            " [1 1 1 0]\n",
            " ...\n",
            " [1 1 1 0]\n",
            " [1 1 1 0]\n",
            " [0 0 1 0]]\n",
            "(1280, 4)\n"
          ]
        }
      ]
    },
    {
      "cell_type": "code",
      "source": [
        "model.compile(optimizer='rmsprop',\n",
        "              loss=['mean_squared_error', 'categorical_crossentropy'],\n",
        "              metrics=[['mae'], ['acc']])\n",
        "model.fit([title_data, text_body_data, tags_data],\n",
        "          [priority_data, department_data],\n",
        "          epochs=2)"
      ],
      "metadata": {
        "colab": {
          "base_uri": "https://localhost:8080/"
        },
        "id": "CzgEiYdZZg6H",
        "outputId": "fdf3d0e2-750a-4421-de5d-f5d90a6a1ee2"
      },
      "execution_count": null,
      "outputs": [
        {
          "output_type": "stream",
          "name": "stdout",
          "text": [
            "Epoch 1/2\n",
            "40/40 [==============================] - 1s 5ms/step - loss: 15.6892 - priority_loss: 0.3188 - department_loss: 15.3704 - priority_mae: 0.4846 - department_acc: 0.2719\n",
            "Epoch 2/2\n",
            "40/40 [==============================] - 0s 5ms/step - loss: 12.3627 - priority_loss: 0.3188 - department_loss: 12.0439 - priority_mae: 0.4846 - department_acc: 0.2680\n"
          ]
        },
        {
          "output_type": "execute_result",
          "data": {
            "text/plain": [
              "<keras.callbacks.History at 0x7f916026fc90>"
            ]
          },
          "metadata": {},
          "execution_count": 26
        }
      ]
    },
    {
      "cell_type": "code",
      "source": [
        "model.evaluate([title_data, text_body_data, tags_data],\n",
        "               [priority_data, department_data])"
      ],
      "metadata": {
        "colab": {
          "base_uri": "https://localhost:8080/"
        },
        "id": "q-opAi8aZ_VM",
        "outputId": "8b1be19d-a0c2-4c40-8819-3007b67a490a"
      },
      "execution_count": null,
      "outputs": [
        {
          "output_type": "stream",
          "name": "stdout",
          "text": [
            "40/40 [==============================] - 0s 5ms/step - loss: 18.8285 - priority_loss: 0.3188 - department_loss: 18.5097 - priority_mae: 0.4846 - department_acc: 0.1336\n"
          ]
        },
        {
          "output_type": "execute_result",
          "data": {
            "text/plain": [
              "[18.828536987304688,\n",
              " 0.31880250573158264,\n",
              " 18.509733200073242,\n",
              " 0.4846019148826599,\n",
              " 0.13359375298023224]"
            ]
          },
          "metadata": {},
          "execution_count": 27
        }
      ]
    },
    {
      "cell_type": "code",
      "source": [
        "priority_preds, department_preds = model.predict([title_data, \n",
        "                                                  text_body_data, \n",
        "                                                  tags_data])"
      ],
      "metadata": {
        "id": "w0pTfTtJaekq"
      },
      "execution_count": null,
      "outputs": []
    },
    {
      "cell_type": "code",
      "source": [
        "print(priority_preds)\n",
        "print('----------------------------')\n",
        "print(department_preds)"
      ],
      "metadata": {
        "colab": {
          "base_uri": "https://localhost:8080/"
        },
        "id": "zsSDM52Ja3D7",
        "outputId": "6984f585-0aad-448b-fdfa-db3f453348ed"
      },
      "execution_count": null,
      "outputs": [
        {
          "output_type": "stream",
          "name": "stdout",
          "text": [
            "[[1.6149061e-11]\n",
            " [7.0753642e-12]\n",
            " [7.9185321e-12]\n",
            " ...\n",
            " [2.3224018e-11]\n",
            " [1.5549340e-11]\n",
            " [1.3666791e-11]]\n",
            "----------------------------\n",
            "[[4.5369379e-04 1.5891300e-06 9.9954385e-01 8.8055185e-07]\n",
            " [7.2697067e-06 1.9513145e-07 9.9999249e-01 2.1457899e-08]\n",
            " [3.7549227e-05 2.2585262e-07 9.9996150e-01 7.0930940e-07]\n",
            " ...\n",
            " [7.3805434e-04 4.1175963e-07 9.9926156e-01 5.2963205e-08]\n",
            " [2.6941334e-04 1.4831872e-07 9.9973041e-01 2.4688402e-08]\n",
            " [1.0468077e-03 2.7422291e-07 9.9895239e-01 4.3059771e-07]]\n"
          ]
        }
      ]
    },
    {
      "cell_type": "code",
      "source": [
        "keras.utils.plot_model(model, 'ticket_classifier.png')"
      ],
      "metadata": {
        "colab": {
          "base_uri": "https://localhost:8080/",
          "height": 272
        },
        "id": "-bEwMDHba68q",
        "outputId": "f51b1328-1bc5-406d-f3d2-ecd1362ac81c"
      },
      "execution_count": null,
      "outputs": [
        {
          "output_type": "execute_result",
          "data": {
            "text/plain": [
              "<IPython.core.display.Image object>"
            ],
            "image/png": "[encoded data removed]"
          },
          "metadata": {},
          "execution_count": 32
        }
      ]
    },
    {
      "cell_type": "code",
      "source": [
        "keras.utils.plot_model(model, 'ticket_classifier_with_shape_info.png', show_shapes=True)"
      ],
      "metadata": {
        "colab": {
          "base_uri": "https://localhost:8080/",
          "height": 172
        },
        "id": "gNSSUzOybMkU",
        "outputId": "e9e65ac5-485f-4df4-8c9b-10f64c92e06a"
      },
      "execution_count": null,
      "outputs": [
        {
          "output_type": "execute_result",
          "data": {
            "text/plain": [
              "<IPython.core.display.Image object>"
            ],
            "image/png": "[encoded data removed]"
          },
          "metadata": {},
          "execution_count": 34
        }
      ]
    },
    {
      "cell_type": "markdown",
      "source": [
        "## Evaluation loops\n",
        "\n",
        "\n",
        "```\n",
        "The standard workflow: \n",
        "compile() ➡ fit() ➡ evaluate() ➡ predict()\n",
        "```\n",
        "\n"
      ],
      "metadata": {
        "id": "1zWTD1czfFpn"
      }
    },
    {
      "cell_type": "code",
      "source": [
        "from tensorflow.keras.datasets import mnist\n",
        "\n",
        "def get_mnist_model():\n",
        "    inputs = keras.Input(shape=(28*28,))\n",
        "    features = layers.Dense(512, activation='relu')(inputs)\n",
        "    features = layers.Dropout(0.5)(features)\n",
        "    outputs = layers.Dense(10, activation='softmax')(features)\n",
        "    model = keras.Model(inputs, outputs)\n",
        "    return model\n",
        "\n",
        "(images, labels), (test_images, test_labels) = mnist.load_data()\n",
        "images = images.reshape((60000, 28*28)).astype('float32') / 255\n",
        "test_images = test_images.reshape((10000, 28*28)).astype('float32') / 255\n",
        "train_images, val_images = images[10000:], images[:10000]\n",
        "train_labels, val_labels = labels[10000:], labels[:10000]"
      ],
      "metadata": {
        "colab": {
          "base_uri": "https://localhost:8080/"
        },
        "id": "xGVHK7W_bSen",
        "outputId": "9e2fbe1b-0f55-4bcb-9135-1d71a45e9584"
      },
      "execution_count": null,
      "outputs": [
        {
          "output_type": "stream",
          "name": "stdout",
          "text": [
            "Downloading data from https://storage.googleapis.com/tensorflow/tf-keras-datasets/mnist.npz\n",
            "11493376/11490434 [==============================] - 0s 0us/step\n",
            "11501568/11490434 [==============================] - 0s 0us/step\n"
          ]
        }
      ]
    },
    {
      "cell_type": "code",
      "source": [
        "model = get_mnist_model()\n",
        "model.compile(optimizer='adam',\n",
        "              loss='sparse_categorical_crossentropy',\n",
        "              metrics=['acc'])\n",
        "model.fit(train_images, \n",
        "          train_labels,\n",
        "          epochs=3,\n",
        "          verbose=2,\n",
        "          validation_data=(val_images, val_labels))\n",
        "test_metrics = model.evaluate(test_images, test_labels)\n",
        "predictions = model.predict(test_images)"
      ],
      "metadata": {
        "colab": {
          "base_uri": "https://localhost:8080/"
        },
        "id": "yhIAlw7Gcn1e",
        "outputId": "150d3e5e-b2e5-4723-8f2f-56e6162cdf7e"
      },
      "execution_count": null,
      "outputs": [
        {
          "output_type": "stream",
          "name": "stdout",
          "text": [
            "Epoch 1/3\n",
            "1563/1563 - 5s - loss: 0.2893 - acc: 0.9117 - val_loss: 0.1407 - val_acc: 0.9558 - 5s/epoch - 3ms/step\n",
            "Epoch 2/3\n",
            "1563/1563 - 4s - loss: 0.1475 - acc: 0.9561 - val_loss: 0.1035 - val_acc: 0.9681 - 4s/epoch - 2ms/step\n",
            "Epoch 3/3\n",
            "1563/1563 - 4s - loss: 0.1146 - acc: 0.9642 - val_loss: 0.0929 - val_acc: 0.9725 - 4s/epoch - 2ms/step\n",
            "313/313 [==============================] - 1s 3ms/step - loss: 0.0862 - acc: 0.9732\n"
          ]
        }
      ]
    },
    {
      "cell_type": "code",
      "source": [
        "print(test_metrics)\n",
        "print('--------------')\n",
        "print(predictions)"
      ],
      "metadata": {
        "colab": {
          "base_uri": "https://localhost:8080/"
        },
        "id": "GI2msWY1drKP",
        "outputId": "8d45067f-af4d-4844-a150-57fb14a8742c"
      },
      "execution_count": null,
      "outputs": [
        {
          "output_type": "stream",
          "name": "stdout",
          "text": [
            "[0.08618069440126419, 0.9732000231742859]\n",
            "--------------\n",
            "[[1.99312126e-07 1.81769181e-07 2.77504805e-05 ... 9.99931931e-01\n",
            "  1.19343184e-07 1.12797634e-05]\n",
            " [6.07104855e-09 7.80272312e-05 9.99893665e-01 ... 1.45705933e-10\n",
            "  1.45851303e-07 2.03698300e-12]\n",
            " [2.14893845e-07 9.99805510e-01 1.38379846e-05 ... 1.00639074e-04\n",
            "  1.44756787e-05 1.53709735e-07]\n",
            " ...\n",
            " [4.23690971e-10 1.16068977e-08 1.30034405e-09 ... 1.12642356e-05\n",
            "  3.05174376e-06 2.56704836e-04]\n",
            " [3.29262775e-07 6.38115125e-08 1.78785778e-10 ... 6.39547360e-10\n",
            "  3.04011955e-05 2.07242579e-09]\n",
            " [2.74315592e-08 5.42740713e-11 6.08862791e-08 ... 1.75224662e-13\n",
            "  7.78009213e-09 2.32238829e-11]]\n"
          ]
        }
      ]
    },
    {
      "cell_type": "code",
      "source": [
        "print(predictions.shape)"
      ],
      "metadata": {
        "colab": {
          "base_uri": "https://localhost:8080/"
        },
        "id": "RSkPzqBAdy2W",
        "outputId": "28b7f20f-40d6-4b56-b8e2-b0f616726f5d"
      },
      "execution_count": null,
      "outputs": [
        {
          "output_type": "stream",
          "name": "stdout",
          "text": [
            "(10000, 10)\n"
          ]
        }
      ]
    },
    {
      "cell_type": "code",
      "source": [
        "predictions[0]"
      ],
      "metadata": {
        "colab": {
          "base_uri": "https://localhost:8080/"
        },
        "id": "CtOXiscdeLar",
        "outputId": "66fb8f75-710d-41a0-efe1-55081f535072"
      },
      "execution_count": null,
      "outputs": [
        {
          "output_type": "execute_result",
          "data": {
            "text/plain": [
              "array([1.9931213e-07, 1.8176918e-07, 2.7750481e-05, 2.8053477e-05,\n",
              "       4.1617079e-10, 4.5780604e-07, 1.4038265e-11, 9.9993193e-01,\n",
              "       1.1934318e-07, 1.1279763e-05], dtype=float32)"
            ]
          },
          "metadata": {},
          "execution_count": 46
        }
      ]
    },
    {
      "cell_type": "code",
      "source": [
        "preds = []\n",
        "for i in range(predictions.shape[0]):\n",
        "    preds.append(np.argmax(predictions[i]))"
      ],
      "metadata": {
        "id": "4Y0OBevKeQn_"
      },
      "execution_count": null,
      "outputs": []
    },
    {
      "cell_type": "code",
      "source": [
        "preds[:5]"
      ],
      "metadata": {
        "colab": {
          "base_uri": "https://localhost:8080/"
        },
        "id": "orXtWNfceYSW",
        "outputId": "3a2985fe-fc7f-4c54-feb6-bb0c9341d9c0"
      },
      "execution_count": null,
      "outputs": [
        {
          "output_type": "execute_result",
          "data": {
            "text/plain": [
              "[7, 2, 1, 0, 4]"
            ]
          },
          "metadata": {},
          "execution_count": 50
        }
      ]
    },
    {
      "cell_type": "markdown",
      "source": [
        "## Using callbacks\n",
        "* EarlyStopping\n",
        "* ModelCheckpoint"
      ],
      "metadata": {
        "id": "-rs8U2vNfAMJ"
      }
    },
    {
      "cell_type": "code",
      "source": [
        "callbacks_list = [\n",
        "    keras.callbacks.EarlyStopping(\n",
        "        monitor='val_acc',\n",
        "        patience=2,\n",
        "    ),\n",
        "    keras.callbacks.ModelCheckpoint(\n",
        "        filepath='checkpoint_path.keras',\n",
        "        monitor='val_loss',\n",
        "        save_best_only=True\n",
        "    )\n",
        "]"
      ],
      "metadata": {
        "id": "SLKR1a-heEyS"
      },
      "execution_count": null,
      "outputs": []
    },
    {
      "cell_type": "code",
      "source": [
        "model = get_mnist_model()\n",
        "model.compile(optimizer='adam',\n",
        "              loss='sparse_categorical_crossentropy',\n",
        "              metrics=['acc'])\n",
        "model.fit(train_images,\n",
        "          train_labels,\n",
        "          epochs=10,\n",
        "          verbose=2,\n",
        "          callbacks=callbacks_list,\n",
        "          validation_data=(val_images, val_labels))"
      ],
      "metadata": {
        "colab": {
          "base_uri": "https://localhost:8080/"
        },
        "id": "Y5ut-FJJf5rs",
        "outputId": "a17e78a6-afc3-443b-c483-878cda9e04a3"
      },
      "execution_count": null,
      "outputs": [
        {
          "output_type": "stream",
          "name": "stdout",
          "text": [
            "Epoch 1/10\n",
            "1563/1563 - 4s - loss: 0.2893 - acc: 0.9133 - val_loss: 0.1439 - val_acc: 0.9583 - 4s/epoch - 3ms/step\n",
            "Epoch 2/10\n",
            "1563/1563 - 4s - loss: 0.1478 - acc: 0.9549 - val_loss: 0.1060 - val_acc: 0.9690 - 4s/epoch - 2ms/step\n",
            "Epoch 3/10\n",
            "1563/1563 - 4s - loss: 0.1139 - acc: 0.9635 - val_loss: 0.0821 - val_acc: 0.9759 - 4s/epoch - 2ms/step\n",
            "Epoch 4/10\n",
            "1563/1563 - 3s - loss: 0.0986 - acc: 0.9685 - val_loss: 0.0818 - val_acc: 0.9743 - 3s/epoch - 2ms/step\n",
            "Epoch 5/10\n",
            "1563/1563 - 4s - loss: 0.0833 - acc: 0.9736 - val_loss: 0.0754 - val_acc: 0.9777 - 4s/epoch - 2ms/step\n",
            "Epoch 6/10\n",
            "1563/1563 - 3s - loss: 0.0770 - acc: 0.9761 - val_loss: 0.0733 - val_acc: 0.9781 - 3s/epoch - 2ms/step\n",
            "Epoch 7/10\n",
            "1563/1563 - 3s - loss: 0.0675 - acc: 0.9781 - val_loss: 0.0728 - val_acc: 0.9788 - 3s/epoch - 2ms/step\n",
            "Epoch 8/10\n",
            "1563/1563 - 4s - loss: 0.0616 - acc: 0.9797 - val_loss: 0.0683 - val_acc: 0.9802 - 4s/epoch - 2ms/step\n",
            "Epoch 9/10\n",
            "1563/1563 - 3s - loss: 0.0573 - acc: 0.9810 - val_loss: 0.0710 - val_acc: 0.9803 - 3s/epoch - 2ms/step\n",
            "Epoch 10/10\n",
            "1563/1563 - 4s - loss: 0.0550 - acc: 0.9820 - val_loss: 0.0810 - val_acc: 0.9789 - 4s/epoch - 2ms/step\n"
          ]
        },
        {
          "output_type": "execute_result",
          "data": {
            "text/plain": [
              "<keras.callbacks.History at 0x7f927684f050>"
            ]
          },
          "metadata": {},
          "execution_count": 57
        }
      ]
    },
    {
      "cell_type": "code",
      "source": [
        "saved_model = keras.models.load_model('checkpoint_path.keras')"
      ],
      "metadata": {
        "id": "-o787rNCgIBf"
      },
      "execution_count": null,
      "outputs": []
    },
    {
      "cell_type": "code",
      "source": [
        "saved_model.evaluate(test_images, test_labels)"
      ],
      "metadata": {
        "colab": {
          "base_uri": "https://localhost:8080/"
        },
        "id": "aY37LnEUgvTp",
        "outputId": "6a80bde9-2c2f-4097-b565-f2cc49574488"
      },
      "execution_count": null,
      "outputs": [
        {
          "output_type": "stream",
          "name": "stdout",
          "text": [
            "313/313 [==============================] - 1s 2ms/step - loss: 0.0651 - acc: 0.9797\n"
          ]
        },
        {
          "output_type": "execute_result",
          "data": {
            "text/plain": [
              "[0.06512525677680969, 0.9797000288963318]"
            ]
          },
          "metadata": {},
          "execution_count": 60
        }
      ]
    },
    {
      "cell_type": "markdown",
      "source": [
        "Compared to the previous model's test metrics ([0.086, 0.973]), saved_model's loss and accuracy are better."
      ],
      "metadata": {
        "id": "qLPS3C9ahBMz"
      }
    }
  ]
}