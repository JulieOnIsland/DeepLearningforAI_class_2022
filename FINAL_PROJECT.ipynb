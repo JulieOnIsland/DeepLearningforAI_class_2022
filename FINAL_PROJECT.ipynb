{
  "nbformat": 4,
  "nbformat_minor": 0,
  "metadata": {
    "colab": {
      "name": "FINAL_PROJECT.ipynb",
      "provenance": [],
      "authorship_tag": "ABX9TyNjWQ3tcxTEi70qr13QUPFP",
      "include_colab_link": true
    },
    "kernelspec": {
      "name": "python3",
      "display_name": "Python 3"
    },
    "language_info": {
      "name": "python"
    },
    "accelerator": "GPU"
  },
  "cells": [
    {
      "cell_type": "markdown",
      "metadata": {
        "id": "view-in-github",
        "colab_type": "text"
      },
      "source": [
        "<a href=\"https://colab.research.google.com/github/JulieOnIsland/DeepLearningforAI_class_2022/blob/main/FINAL_PROJECT.ipynb\" target=\"_parent\"><img src=\"https://colab.research.google.com/assets/colab-badge.svg\" alt=\"Open In Colab\"/></a>"
      ]
    },
    {
      "cell_type": "markdown",
      "source": [
        "# Zindi competition"
      ],
      "metadata": {
        "id": "xDrwp9hcTiMc"
      }
    },
    {
      "cell_type": "markdown",
      "source": [
        "**Order**\n",
        "* Preprocessing and visualizing the data\n",
        "* Construct the model (w/ transfer learning)\n",
        "    1. VGG16 (Baseline)\n",
        "    - Feature extraction\n",
        "    - Fine tuning\n",
        "    2. Resnet50\n",
        "    - Feature extraction\n",
        "    - Fine tuning\n",
        "    3. Efficientnet\n",
        "    - Feature extraction\n",
        "    - Fine tuning\n",
        "\n",
        "Final model that we chose is EfficientnetB2 fine-tuning version. And\n",
        "its accuracy score is 0.995."
      ],
      "metadata": {
        "id": "RxtE7_pcToHn"
      }
    },
    {
      "cell_type": "markdown",
      "source": [
        "## Prepare the data"
      ],
      "metadata": {
        "id": "yVIG1DDTYhVU"
      }
    },
    {
      "cell_type": "code",
      "source": [
        "from google.colab import drive\n",
        "drive.mount('/content/drive')"
      ],
      "metadata": {
        "colab": {
          "base_uri": "https://localhost:8080/"
        },
        "id": "LL-psmxAJpjw",
        "outputId": "da26d063-7d09-4461-c3ef-6fe0688b7913"
      },
      "execution_count": null,
      "outputs": [
        {
          "output_type": "stream",
          "name": "stdout",
          "text": [
            "Mounted at /content/drive\n"
          ]
        }
      ]
    },
    {
      "cell_type": "code",
      "execution_count": null,
      "metadata": {
        "id": "Y1s6uWlmJli3"
      },
      "outputs": [],
      "source": [
        "import pandas as pd\n",
        "dpath = '/content/drive/MyDrive/data/zindi_crop/'"
      ]
    },
    {
      "cell_type": "code",
      "source": [
        "df_train = pd.read_csv(dpath+'Train.csv')\n",
        "df_train.head()"
      ],
      "metadata": {
        "colab": {
          "base_uri": "https://localhost:8080/",
          "height": 206
        },
        "id": "9kK5DLsdJuev",
        "outputId": "ebf78842-c010-4560-bf7e-232e254c2fe7"
      },
      "execution_count": null,
      "outputs": [
        {
          "output_type": "execute_result",
          "data": {
            "text/plain": [
              "               Image_id  Label\n",
              "0  id_02amazy34fgh2.jpg      1\n",
              "1  id_02mh3w48pmyc9.jpg      0\n",
              "2  id_02rpb463h9d3w.jpg      0\n",
              "3  id_02wc3jeeao8ol.jpg      1\n",
              "4  id_03t2hapb8wz8p.jpg      1"
            ],
            "text/html": [
              "\n",
              "  <div id=\"df-cdf6e4c4-dc1d-4653-9655-7c81b626c356\">\n",
              "    <div class=\"colab-df-container\">\n",
              "      <div>\n",
              "<style scoped>\n",
              "    .dataframe tbody tr th:only-of-type {\n",
              "        vertical-align: middle;\n",
              "    }\n",
              "\n",
              "    .dataframe tbody tr th {\n",
              "        vertical-align: top;\n",
              "    }\n",
              "\n",
              "    .dataframe thead th {\n",
              "        text-align: right;\n",
              "    }\n",
              "</style>\n",
              "<table border=\"1\" class=\"dataframe\">\n",
              "  <thead>\n",
              "    <tr style=\"text-align: right;\">\n",
              "      <th></th>\n",
              "      <th>Image_id</th>\n",
              "      <th>Label</th>\n",
              "    </tr>\n",
              "  </thead>\n",
              "  <tbody>\n",
              "    <tr>\n",
              "      <th>0</th>\n",
              "      <td>id_02amazy34fgh2.jpg</td>\n",
              "      <td>1</td>\n",
              "    </tr>\n",
              "    <tr>\n",
              "      <th>1</th>\n",
              "      <td>id_02mh3w48pmyc9.jpg</td>\n",
              "      <td>0</td>\n",
              "    </tr>\n",
              "    <tr>\n",
              "      <th>2</th>\n",
              "      <td>id_02rpb463h9d3w.jpg</td>\n",
              "      <td>0</td>\n",
              "    </tr>\n",
              "    <tr>\n",
              "      <th>3</th>\n",
              "      <td>id_02wc3jeeao8ol.jpg</td>\n",
              "      <td>1</td>\n",
              "    </tr>\n",
              "    <tr>\n",
              "      <th>4</th>\n",
              "      <td>id_03t2hapb8wz8p.jpg</td>\n",
              "      <td>1</td>\n",
              "    </tr>\n",
              "  </tbody>\n",
              "</table>\n",
              "</div>\n",
              "      <button class=\"colab-df-convert\" onclick=\"convertToInteractive('df-cdf6e4c4-dc1d-4653-9655-7c81b626c356')\"\n",
              "              title=\"Convert this dataframe to an interactive table.\"\n",
              "              style=\"display:none;\">\n",
              "        \n",
              "  <svg xmlns=\"http://www.w3.org/2000/svg\" height=\"24px\"viewBox=\"0 0 24 24\"\n",
              "       width=\"24px\">\n",
              "    <path d=\"M0 0h24v24H0V0z\" fill=\"none\"/>\n",
              "    <path d=\"M18.56 5.44l.94 2.06.94-2.06 2.06-.94-2.06-.94-.94-2.06-.94 2.06-2.06.94zm-11 1L8.5 8.5l.94-2.06 2.06-.94-2.06-.94L8.5 2.5l-.94 2.06-2.06.94zm10 10l.94 2.06.94-2.06 2.06-.94-2.06-.94-.94-2.06-.94 2.06-2.06.94z\"/><path d=\"M17.41 7.96l-1.37-1.37c-.4-.4-.92-.59-1.43-.59-.52 0-1.04.2-1.43.59L10.3 9.45l-7.72 7.72c-.78.78-.78 2.05 0 2.83L4 21.41c.39.39.9.59 1.41.59.51 0 1.02-.2 1.41-.59l7.78-7.78 2.81-2.81c.8-.78.8-2.07 0-2.86zM5.41 20L4 18.59l7.72-7.72 1.47 1.35L5.41 20z\"/>\n",
              "  </svg>\n",
              "      </button>\n",
              "      \n",
              "  <style>\n",
              "    .colab-df-container {\n",
              "      display:flex;\n",
              "      flex-wrap:wrap;\n",
              "      gap: 12px;\n",
              "    }\n",
              "\n",
              "    .colab-df-convert {\n",
              "      background-color: #E8F0FE;\n",
              "      border: none;\n",
              "      border-radius: 50%;\n",
              "      cursor: pointer;\n",
              "      display: none;\n",
              "      fill: #1967D2;\n",
              "      height: 32px;\n",
              "      padding: 0 0 0 0;\n",
              "      width: 32px;\n",
              "    }\n",
              "\n",
              "    .colab-df-convert:hover {\n",
              "      background-color: #E2EBFA;\n",
              "      box-shadow: 0px 1px 2px rgba(60, 64, 67, 0.3), 0px 1px 3px 1px rgba(60, 64, 67, 0.15);\n",
              "      fill: #174EA6;\n",
              "    }\n",
              "\n",
              "    [theme=dark] .colab-df-convert {\n",
              "      background-color: #3B4455;\n",
              "      fill: #D2E3FC;\n",
              "    }\n",
              "\n",
              "    [theme=dark] .colab-df-convert:hover {\n",
              "      background-color: #434B5C;\n",
              "      box-shadow: 0px 1px 3px 1px rgba(0, 0, 0, 0.15);\n",
              "      filter: drop-shadow(0px 1px 2px rgba(0, 0, 0, 0.3));\n",
              "      fill: #FFFFFF;\n",
              "    }\n",
              "  </style>\n",
              "\n",
              "      <script>\n",
              "        const buttonEl =\n",
              "          document.querySelector('#df-cdf6e4c4-dc1d-4653-9655-7c81b626c356 button.colab-df-convert');\n",
              "        buttonEl.style.display =\n",
              "          google.colab.kernel.accessAllowed ? 'block' : 'none';\n",
              "\n",
              "        async function convertToInteractive(key) {\n",
              "          const element = document.querySelector('#df-cdf6e4c4-dc1d-4653-9655-7c81b626c356');\n",
              "          const dataTable =\n",
              "            await google.colab.kernel.invokeFunction('convertToInteractive',\n",
              "                                                     [key], {});\n",
              "          if (!dataTable) return;\n",
              "\n",
              "          const docLinkHtml = 'Like what you see? Visit the ' +\n",
              "            '<a target=\"_blank\" href=https://colab.research.google.com/notebooks/data_table.ipynb>data table notebook</a>'\n",
              "            + ' to learn more about interactive tables.';\n",
              "          element.innerHTML = '';\n",
              "          dataTable['output_type'] = 'display_data';\n",
              "          await google.colab.output.renderOutput(dataTable, element);\n",
              "          const docLink = document.createElement('div');\n",
              "          docLink.innerHTML = docLinkHtml;\n",
              "          element.appendChild(docLink);\n",
              "        }\n",
              "      </script>\n",
              "    </div>\n",
              "  </div>\n",
              "  "
            ]
          },
          "metadata": {},
          "execution_count": 3
        }
      ]
    },
    {
      "cell_type": "code",
      "source": [
        "train_data = df_train['Image_id'].tolist()\n",
        "train_data[:5]"
      ],
      "metadata": {
        "colab": {
          "base_uri": "https://localhost:8080/"
        },
        "id": "afI-YobPJvtQ",
        "outputId": "66f9d4c4-59a0-4a10-9269-53949f976fb7"
      },
      "execution_count": null,
      "outputs": [
        {
          "output_type": "execute_result",
          "data": {
            "text/plain": [
              "['id_02amazy34fgh2.jpg',\n",
              " 'id_02mh3w48pmyc9.jpg',\n",
              " 'id_02rpb463h9d3w.jpg',\n",
              " 'id_02wc3jeeao8ol.jpg',\n",
              " 'id_03t2hapb8wz8p.jpg']"
            ]
          },
          "metadata": {},
          "execution_count": 4
        }
      ]
    },
    {
      "cell_type": "code",
      "source": [
        "train_healthy_data=df_train[df_train['Label']==0]\n",
        "print(len(train_healthy_data))\n",
        "train_healthy_data = train_healthy_data['Image_id'].tolist()\n",
        "print(train_healthy_data[:5])\n",
        "\n",
        "train_pest_data=df_train[df_train['Label']==1]\n",
        "train_pest_data.head()\n",
        "print(len(train_pest_data))\n",
        "train_pest_data = train_pest_data['Image_id'].tolist()\n",
        "print(train_pest_data[:5])"
      ],
      "metadata": {
        "colab": {
          "base_uri": "https://localhost:8080/"
        },
        "id": "qbErNCDEJwlf",
        "outputId": "ecfa17d3-dcff-4627-dcdf-38ba60556f7a"
      },
      "execution_count": null,
      "outputs": [
        {
          "output_type": "stream",
          "name": "stdout",
          "text": [
            "810\n",
            "['id_02mh3w48pmyc9.jpg', 'id_02rpb463h9d3w.jpg', 'id_04xrxyd43rlgz.jpg', 'id_082w0qygo3eth.jpg', 'id_09v3am3ppzesz.jpg']\n",
            "809\n",
            "['id_02amazy34fgh2.jpg', 'id_02wc3jeeao8ol.jpg', 'id_03t2hapb8wz8p.jpg', 'id_05gqx7h8y6iye.jpg', 'id_06le9g89kqth5.jpg']\n"
          ]
        }
      ]
    },
    {
      "cell_type": "code",
      "source": [
        "df_test = pd.read_csv(dpath + 'Test.csv')\n",
        "df_test.head()"
      ],
      "metadata": {
        "colab": {
          "base_uri": "https://localhost:8080/",
          "height": 206
        },
        "id": "hhSgEZXeJy7P",
        "outputId": "0713320c-dd87-4293-d614-662dea57a308"
      },
      "execution_count": null,
      "outputs": [
        {
          "output_type": "execute_result",
          "data": {
            "text/plain": [
              "               Image_id\n",
              "0  id_00exusbkgzw1b.jpg\n",
              "1  id_03dqinf6w0znv.jpg\n",
              "2  id_046yl0cxn3ybz.jpg\n",
              "3  id_04athdtx2abyg.jpg\n",
              "4  id_062aauf9e9jk0.jpg"
            ],
            "text/html": [
              "\n",
              "  <div id=\"df-b175cc48-f4f2-4672-9bc5-976873b5d0c6\">\n",
              "    <div class=\"colab-df-container\">\n",
              "      <div>\n",
              "<style scoped>\n",
              "    .dataframe tbody tr th:only-of-type {\n",
              "        vertical-align: middle;\n",
              "    }\n",
              "\n",
              "    .dataframe tbody tr th {\n",
              "        vertical-align: top;\n",
              "    }\n",
              "\n",
              "    .dataframe thead th {\n",
              "        text-align: right;\n",
              "    }\n",
              "</style>\n",
              "<table border=\"1\" class=\"dataframe\">\n",
              "  <thead>\n",
              "    <tr style=\"text-align: right;\">\n",
              "      <th></th>\n",
              "      <th>Image_id</th>\n",
              "    </tr>\n",
              "  </thead>\n",
              "  <tbody>\n",
              "    <tr>\n",
              "      <th>0</th>\n",
              "      <td>id_00exusbkgzw1b.jpg</td>\n",
              "    </tr>\n",
              "    <tr>\n",
              "      <th>1</th>\n",
              "      <td>id_03dqinf6w0znv.jpg</td>\n",
              "    </tr>\n",
              "    <tr>\n",
              "      <th>2</th>\n",
              "      <td>id_046yl0cxn3ybz.jpg</td>\n",
              "    </tr>\n",
              "    <tr>\n",
              "      <th>3</th>\n",
              "      <td>id_04athdtx2abyg.jpg</td>\n",
              "    </tr>\n",
              "    <tr>\n",
              "      <th>4</th>\n",
              "      <td>id_062aauf9e9jk0.jpg</td>\n",
              "    </tr>\n",
              "  </tbody>\n",
              "</table>\n",
              "</div>\n",
              "      <button class=\"colab-df-convert\" onclick=\"convertToInteractive('df-b175cc48-f4f2-4672-9bc5-976873b5d0c6')\"\n",
              "              title=\"Convert this dataframe to an interactive table.\"\n",
              "              style=\"display:none;\">\n",
              "        \n",
              "  <svg xmlns=\"http://www.w3.org/2000/svg\" height=\"24px\"viewBox=\"0 0 24 24\"\n",
              "       width=\"24px\">\n",
              "    <path d=\"M0 0h24v24H0V0z\" fill=\"none\"/>\n",
              "    <path d=\"M18.56 5.44l.94 2.06.94-2.06 2.06-.94-2.06-.94-.94-2.06-.94 2.06-2.06.94zm-11 1L8.5 8.5l.94-2.06 2.06-.94-2.06-.94L8.5 2.5l-.94 2.06-2.06.94zm10 10l.94 2.06.94-2.06 2.06-.94-2.06-.94-.94-2.06-.94 2.06-2.06.94z\"/><path d=\"M17.41 7.96l-1.37-1.37c-.4-.4-.92-.59-1.43-.59-.52 0-1.04.2-1.43.59L10.3 9.45l-7.72 7.72c-.78.78-.78 2.05 0 2.83L4 21.41c.39.39.9.59 1.41.59.51 0 1.02-.2 1.41-.59l7.78-7.78 2.81-2.81c.8-.78.8-2.07 0-2.86zM5.41 20L4 18.59l7.72-7.72 1.47 1.35L5.41 20z\"/>\n",
              "  </svg>\n",
              "      </button>\n",
              "      \n",
              "  <style>\n",
              "    .colab-df-container {\n",
              "      display:flex;\n",
              "      flex-wrap:wrap;\n",
              "      gap: 12px;\n",
              "    }\n",
              "\n",
              "    .colab-df-convert {\n",
              "      background-color: #E8F0FE;\n",
              "      border: none;\n",
              "      border-radius: 50%;\n",
              "      cursor: pointer;\n",
              "      display: none;\n",
              "      fill: #1967D2;\n",
              "      height: 32px;\n",
              "      padding: 0 0 0 0;\n",
              "      width: 32px;\n",
              "    }\n",
              "\n",
              "    .colab-df-convert:hover {\n",
              "      background-color: #E2EBFA;\n",
              "      box-shadow: 0px 1px 2px rgba(60, 64, 67, 0.3), 0px 1px 3px 1px rgba(60, 64, 67, 0.15);\n",
              "      fill: #174EA6;\n",
              "    }\n",
              "\n",
              "    [theme=dark] .colab-df-convert {\n",
              "      background-color: #3B4455;\n",
              "      fill: #D2E3FC;\n",
              "    }\n",
              "\n",
              "    [theme=dark] .colab-df-convert:hover {\n",
              "      background-color: #434B5C;\n",
              "      box-shadow: 0px 1px 3px 1px rgba(0, 0, 0, 0.15);\n",
              "      filter: drop-shadow(0px 1px 2px rgba(0, 0, 0, 0.3));\n",
              "      fill: #FFFFFF;\n",
              "    }\n",
              "  </style>\n",
              "\n",
              "      <script>\n",
              "        const buttonEl =\n",
              "          document.querySelector('#df-b175cc48-f4f2-4672-9bc5-976873b5d0c6 button.colab-df-convert');\n",
              "        buttonEl.style.display =\n",
              "          google.colab.kernel.accessAllowed ? 'block' : 'none';\n",
              "\n",
              "        async function convertToInteractive(key) {\n",
              "          const element = document.querySelector('#df-b175cc48-f4f2-4672-9bc5-976873b5d0c6');\n",
              "          const dataTable =\n",
              "            await google.colab.kernel.invokeFunction('convertToInteractive',\n",
              "                                                     [key], {});\n",
              "          if (!dataTable) return;\n",
              "\n",
              "          const docLinkHtml = 'Like what you see? Visit the ' +\n",
              "            '<a target=\"_blank\" href=https://colab.research.google.com/notebooks/data_table.ipynb>data table notebook</a>'\n",
              "            + ' to learn more about interactive tables.';\n",
              "          element.innerHTML = '';\n",
              "          dataTable['output_type'] = 'display_data';\n",
              "          await google.colab.output.renderOutput(dataTable, element);\n",
              "          const docLink = document.createElement('div');\n",
              "          docLink.innerHTML = docLinkHtml;\n",
              "          element.appendChild(docLink);\n",
              "        }\n",
              "      </script>\n",
              "    </div>\n",
              "  </div>\n",
              "  "
            ]
          },
          "metadata": {},
          "execution_count": 6
        }
      ]
    },
    {
      "cell_type": "code",
      "source": [
        "test_data_list = df_test['Image_id'].to_list()\n",
        "test_data_list[:5]"
      ],
      "metadata": {
        "colab": {
          "base_uri": "https://localhost:8080/"
        },
        "id": "Qe3AHvdjJz1N",
        "outputId": "a4660864-92fc-4842-bbf7-888cc00204c1"
      },
      "execution_count": null,
      "outputs": [
        {
          "output_type": "execute_result",
          "data": {
            "text/plain": [
              "['id_00exusbkgzw1b.jpg',\n",
              " 'id_03dqinf6w0znv.jpg',\n",
              " 'id_046yl0cxn3ybz.jpg',\n",
              " 'id_04athdtx2abyg.jpg',\n",
              " 'id_062aauf9e9jk0.jpg']"
            ]
          },
          "metadata": {},
          "execution_count": 7
        }
      ]
    },
    {
      "cell_type": "code",
      "source": [
        "# Visualize the data\n",
        "import matplotlib.pyplot as plt\n",
        "import matplotlib.image as mpimg\n",
        "\n",
        "image_path = '/content/drive/MyDrive/data/zindi_crop/Images/'\n",
        "ex = image_path + train_data[3]\n",
        "img=mpimg.imread(ex)\n",
        "plt.imshow(img)\n",
        "plt.axis('off')\n",
        "print('Label=1 (pest)')\n",
        "print(f\"Image shape: {img.shape}\")"
      ],
      "metadata": {
        "colab": {
          "base_uri": "https://localhost:8080/",
          "height": 284
        },
        "id": "cju728tCJ00k",
        "outputId": "702486ff-d1fa-4720-f999-29969c65a29e"
      },
      "execution_count": null,
      "outputs": [
        {
          "output_type": "stream",
          "name": "stdout",
          "text": [
            "Label=1 (pest)\n",
            "Image shape: (1024, 498, 3)\n"
          ]
        },
        {
          "output_type": "display_data",
          "data": {
            "text/plain": [
              "<Figure size 432x288 with 1 Axes>"
            ],
            "image/png": "[encoded data removed]"
          },
          "metadata": {
            "needs_background": "light"
          }
        }
      ]
    },
    {
      "cell_type": "code",
      "source": [
        "ex2 = image_path + train_data[1]\n",
        "img=mpimg.imread(ex2)\n",
        "plt.imshow(img)\n",
        "plt.axis('off')\n",
        "print('Label=0 (healthy)')\n",
        "print(f\"Image shape: {img.shape}\")"
      ],
      "metadata": {
        "colab": {
          "base_uri": "https://localhost:8080/",
          "height": 284
        },
        "id": "DXj4cy4jJ4jK",
        "outputId": "7a209827-cdb4-46ab-a375-e8f8cc01888a"
      },
      "execution_count": null,
      "outputs": [
        {
          "output_type": "stream",
          "name": "stdout",
          "text": [
            "Label=0 (healthy)\n",
            "Image shape: (1024, 768, 3)\n"
          ]
        },
        {
          "output_type": "display_data",
          "data": {
            "text/plain": [
              "<Figure size 432x288 with 1 Axes>"
            ],
            "image/png": "[encoded data removed]"
          },
          "metadata": {
            "needs_background": "light"
          }
        }
      ]
    },
    {
      "cell_type": "code",
      "source": [
        "import os, shutil, pathlib\n",
        "\n",
        "# train, validation, and test dataset\n",
        "original_dir = pathlib.Path(image_path)\n",
        "new_base_dir = pathlib.Path(\"healthy_pest\")\n",
        "train_dir = new_base_dir / 'train'\n",
        "val_dir = new_base_dir / 'val'\n",
        "test_dir = new_base_dir / 'test'\n",
        "\n",
        "train_healthy_dir = train_dir / 'healthy'\n",
        "os.makedirs(train_healthy_dir)\n",
        "\n",
        "train_pest_dir = train_dir / 'pest'\n",
        "os.makedirs(train_pest_dir)\n",
        "\n",
        "val_healthy_dir = val_dir / 'healthy'\n",
        "os.makedirs(val_healthy_dir)\n",
        "\n",
        "val_pest_dir = val_dir / 'pest'\n",
        "os.makedirs(val_pest_dir)\n",
        "\n",
        "test_healthy_dir = test_dir / 'healthy'\n",
        "os.makedirs(test_healthy_dir)\n",
        "\n",
        "test_pest_dir = test_dir / 'pest'\n",
        "os.makedirs(test_pest_dir)\n",
        "\n",
        "\n",
        "for i in train_healthy_data[:610]:\n",
        "    shutil.copyfile(src=original_dir / i,\n",
        "                    dst=train_healthy_dir / i)\n",
        "\n",
        "for i in train_healthy_data[610:710]:\n",
        "    shutil.copyfile(src=original_dir / i,\n",
        "                    dst=val_healthy_dir / i)\n",
        "    \n",
        "for i in train_healthy_data[710:]:\n",
        "    shutil.copyfile(src=original_dir / i,\n",
        "                    dst=test_healthy_dir / i)\n",
        "    \n",
        "for i in train_pest_data[:609]:\n",
        "    shutil.copyfile(src=original_dir / i,\n",
        "                    dst=train_pest_dir / i)\n",
        "    \n",
        "for i in train_pest_data[609:709]:\n",
        "    shutil.copyfile(src=original_dir / i,\n",
        "                    dst=val_pest_dir / i)\n",
        "    \n",
        "for i in train_pest_data[709:]:\n",
        "    shutil.copyfile(src=original_dir / i,\n",
        "                    dst=test_pest_dir / i)"
      ],
      "metadata": {
        "id": "zky7SAqNJ_MH"
      },
      "execution_count": null,
      "outputs": []
    },
    {
      "cell_type": "code",
      "source": [
        "for dirpath, dirnames, filenames in os.walk(\"healthy_pest\"):\n",
        "  print(f\"There are {len(dirnames)} directories and {len(filenames)} images in '{dirpath}'.\")"
      ],
      "metadata": {
        "colab": {
          "base_uri": "https://localhost:8080/"
        },
        "id": "vCVGIUgMKbS5",
        "outputId": "2640910b-0fcd-4c58-8905-3e1f8c0d8c03"
      },
      "execution_count": null,
      "outputs": [
        {
          "output_type": "stream",
          "name": "stdout",
          "text": [
            "There are 3 directories and 0 images in 'healthy_pest'.\n",
            "There are 2 directories and 0 images in 'healthy_pest/train'.\n",
            "There are 0 directories and 610 images in 'healthy_pest/train/healthy'.\n",
            "There are 0 directories and 609 images in 'healthy_pest/train/pest'.\n",
            "There are 2 directories and 0 images in 'healthy_pest/val'.\n",
            "There are 0 directories and 100 images in 'healthy_pest/val/healthy'.\n",
            "There are 0 directories and 100 images in 'healthy_pest/val/pest'.\n",
            "There are 2 directories and 0 images in 'healthy_pest/test'.\n",
            "There are 0 directories and 100 images in 'healthy_pest/test/healthy'.\n",
            "There are 0 directories and 100 images in 'healthy_pest/test/pest'.\n"
          ]
        }
      ]
    },
    {
      "cell_type": "code",
      "source": [
        "from tensorflow.keras.utils import image_dataset_from_directory\n",
        "\n",
        "IMG_SIZE = (224, 224)\n",
        "\n",
        "train_dataset = image_dataset_from_directory(\n",
        "    train_dir,\n",
        "    image_size=IMG_SIZE,\n",
        "    label_mode=\"binary\", \n",
        "    batch_size=32\n",
        ")\n",
        "\n",
        "val_dataset = image_dataset_from_directory(\n",
        "    val_dir,\n",
        "    image_size=IMG_SIZE,\n",
        "    label_mode=\"binary\", \n",
        "    batch_size=32\n",
        ")\n",
        "\n",
        "test_dataset = image_dataset_from_directory(\n",
        "    test_dir,\n",
        "    image_size=IMG_SIZE,\n",
        "    label_mode=\"binary\", \n",
        "    batch_size=32\n",
        ")"
      ],
      "metadata": {
        "colab": {
          "base_uri": "https://localhost:8080/"
        },
        "id": "yYMq5A68KcSO",
        "outputId": "0d2e0adc-64e9-4308-9b44-c1a3f6f1eaef"
      },
      "execution_count": null,
      "outputs": [
        {
          "output_type": "stream",
          "name": "stdout",
          "text": [
            "Found 1219 files belonging to 2 classes.\n",
            "Found 200 files belonging to 2 classes.\n",
            "Found 200 files belonging to 2 classes.\n"
          ]
        }
      ]
    },
    {
      "cell_type": "code",
      "source": [
        "# Define plot_history function\n",
        "def plot_history(history):\n",
        "  \n",
        "  loss = history.history['loss']\n",
        "  val_loss = history.history['val_loss']\n",
        "\n",
        "  accuracy = history.history['accuracy']\n",
        "  val_accuracy = history.history['val_accuracy']\n",
        "\n",
        "  epochs = range(len(history.history['loss']))\n",
        "\n",
        "  # Plot loss\n",
        "  plt.plot(epochs, loss, label='training_loss')\n",
        "  plt.plot(epochs, val_loss, label='val_loss')\n",
        "  plt.title('Loss')\n",
        "  plt.xlabel('Epochs')\n",
        "  plt.legend()\n",
        "\n",
        "  # Plot accuracy\n",
        "  plt.figure()\n",
        "  plt.plot(epochs, accuracy, label='training_accuracy')\n",
        "  plt.plot(epochs, val_accuracy, label='val_accuracy')\n",
        "  plt.title('Accuracy')\n",
        "  plt.xlabel('Epochs')\n",
        "  plt.legend();"
      ],
      "metadata": {
        "id": "Pvfpt3tlKudS"
      },
      "execution_count": null,
      "outputs": []
    },
    {
      "cell_type": "markdown",
      "source": [
        "## VGG (Baseline)"
      ],
      "metadata": {
        "id": "YvXfS6OwK7ZV"
      }
    },
    {
      "cell_type": "markdown",
      "source": [
        "### Feature extraction with data augmentation"
      ],
      "metadata": {
        "id": "tepnU2W_K84H"
      }
    },
    {
      "cell_type": "code",
      "source": [
        "# Instantiating and freezing the VGG16 convolutional base\n",
        "import tensorflow as tf\n",
        "from tensorflow import keras\n",
        "\n",
        "conv_base = keras.applications.vgg16.VGG16(\n",
        "    weights='imagenet',\n",
        "    include_top=False,\n",
        "    input_shape=(224, 224, 3)\n",
        ")\n",
        "conv_base.trainable=False"
      ],
      "metadata": {
        "colab": {
          "base_uri": "https://localhost:8080/"
        },
        "id": "NwSGG8nOKvVw",
        "outputId": "08212df6-9144-455f-ab6d-07151f1abc4a"
      },
      "execution_count": null,
      "outputs": [
        {
          "output_type": "stream",
          "name": "stdout",
          "text": [
            "Downloading data from https://storage.googleapis.com/tensorflow/keras-applications/vgg16/vgg16_weights_tf_dim_ordering_tf_kernels_notop.h5\n",
            "58892288/58889256 [==============================] - 0s 0us/step\n",
            "58900480/58889256 [==============================] - 0s 0us/step\n"
          ]
        }
      ]
    },
    {
      "cell_type": "code",
      "source": [
        "conv_base.summary()"
      ],
      "metadata": {
        "colab": {
          "base_uri": "https://localhost:8080/"
        },
        "id": "qPQFTkVkLH4t",
        "outputId": "1293d302-152b-4b12-ce22-640f2365aec4"
      },
      "execution_count": null,
      "outputs": [
        {
          "output_type": "stream",
          "name": "stdout",
          "text": [
            "Model: \"vgg16\"\n",
            "_________________________________________________________________\n",
            " Layer (type)                Output Shape              Param #   \n",
            "=================================================================\n",
            " input_1 (InputLayer)        [(None, 224, 224, 3)]     0         \n",
            "                                                                 \n",
            " block1_conv1 (Conv2D)       (None, 224, 224, 64)      1792      \n",
            "                                                                 \n",
            " block1_conv2 (Conv2D)       (None, 224, 224, 64)      36928     \n",
            "                                                                 \n",
            " block1_pool (MaxPooling2D)  (None, 112, 112, 64)      0         \n",
            "                                                                 \n",
            " block2_conv1 (Conv2D)       (None, 112, 112, 128)     73856     \n",
            "                                                                 \n",
            " block2_conv2 (Conv2D)       (None, 112, 112, 128)     147584    \n",
            "                                                                 \n",
            " block2_pool (MaxPooling2D)  (None, 56, 56, 128)       0         \n",
            "                                                                 \n",
            " block3_conv1 (Conv2D)       (None, 56, 56, 256)       295168    \n",
            "                                                                 \n",
            " block3_conv2 (Conv2D)       (None, 56, 56, 256)       590080    \n",
            "                                                                 \n",
            " block3_conv3 (Conv2D)       (None, 56, 56, 256)       590080    \n",
            "                                                                 \n",
            " block3_pool (MaxPooling2D)  (None, 28, 28, 256)       0         \n",
            "                                                                 \n",
            " block4_conv1 (Conv2D)       (None, 28, 28, 512)       1180160   \n",
            "                                                                 \n",
            " block4_conv2 (Conv2D)       (None, 28, 28, 512)       2359808   \n",
            "                                                                 \n",
            " block4_conv3 (Conv2D)       (None, 28, 28, 512)       2359808   \n",
            "                                                                 \n",
            " block4_pool (MaxPooling2D)  (None, 14, 14, 512)       0         \n",
            "                                                                 \n",
            " block5_conv1 (Conv2D)       (None, 14, 14, 512)       2359808   \n",
            "                                                                 \n",
            " block5_conv2 (Conv2D)       (None, 14, 14, 512)       2359808   \n",
            "                                                                 \n",
            " block5_conv3 (Conv2D)       (None, 14, 14, 512)       2359808   \n",
            "                                                                 \n",
            " block5_pool (MaxPooling2D)  (None, 7, 7, 512)         0         \n",
            "                                                                 \n",
            "=================================================================\n",
            "Total params: 14,714,688\n",
            "Trainable params: 0\n",
            "Non-trainable params: 14,714,688\n",
            "_________________________________________________________________\n"
          ]
        }
      ]
    },
    {
      "cell_type": "code",
      "source": [
        "# Printing the list of trainable weights before and after freezing\n",
        "conv_base.trainable = True\n",
        "print('This is the number of trainable weights before freezing the conv base:\\n',\n",
        "      len(conv_base.trainable_weights))\n",
        "conv_base.trainable = False\n",
        "print('This is the number of trainable weights after freezing the conv base:\\n',\n",
        "      len(conv_base.trainable_weights))"
      ],
      "metadata": {
        "colab": {
          "base_uri": "https://localhost:8080/"
        },
        "id": "JapUVU7XLIzl",
        "outputId": "d4bef1ac-a6de-472f-c8f4-0068e54fa29e"
      },
      "execution_count": null,
      "outputs": [
        {
          "output_type": "stream",
          "name": "stdout",
          "text": [
            "This is the number of trainable weights before freezing the conv base:\n",
            " 26\n",
            "This is the number of trainable weights after freezing the conv base:\n",
            " 0\n"
          ]
        }
      ]
    },
    {
      "cell_type": "code",
      "source": [
        "# Adding a data augmentation stage and a classifier to the convolutional base\n",
        "from tensorflow.keras import layers\n",
        "data_augmentation = keras.Sequential([\n",
        "    layers.RandomFlip('horizontal'),\n",
        "    layers.RandomRotation(0.1),\n",
        "    layers.RandomZoom(0.2)\n",
        "])"
      ],
      "metadata": {
        "id": "PUeIeivRLKJs"
      },
      "execution_count": null,
      "outputs": []
    },
    {
      "cell_type": "code",
      "source": [
        "# Building the model\n",
        "inputs = keras.Input(shape=(224, 224, 3))\n",
        "x = data_augmentation(inputs)\n",
        "x = keras.applications.vgg16.preprocess_input(x)\n",
        "x = conv_base(x)\n",
        "x = layers.Flatten()(x)\n",
        "x = layers.Dense(256)(x)\n",
        "x = layers.Dropout(0.5)(x)\n",
        "outputs = layers.Dense(1, activation='sigmoid')(x)\n",
        "model_vgg = keras.Model(inputs, outputs)\n",
        "model_vgg.compile(loss='binary_crossentropy',\n",
        "                  optimizer='adam',\n",
        "                  metrics=['accuracy'])"
      ],
      "metadata": {
        "id": "e6zEqC0FLLwF"
      },
      "execution_count": null,
      "outputs": []
    },
    {
      "cell_type": "code",
      "source": [
        "model_vgg.summary()"
      ],
      "metadata": {
        "colab": {
          "base_uri": "https://localhost:8080/"
        },
        "id": "hqy0lBl8LSQH",
        "outputId": "be3cf15d-16db-4a6a-c91b-10261cf94b14"
      },
      "execution_count": null,
      "outputs": [
        {
          "output_type": "stream",
          "name": "stdout",
          "text": [
            "Model: \"model\"\n",
            "_________________________________________________________________\n",
            " Layer (type)                Output Shape              Param #   \n",
            "=================================================================\n",
            " input_2 (InputLayer)        [(None, 224, 224, 3)]     0         \n",
            "                                                                 \n",
            " sequential (Sequential)     (None, 224, 224, 3)       0         \n",
            "                                                                 \n",
            " tf.__operators__.getitem (S  (None, 224, 224, 3)      0         \n",
            " licingOpLambda)                                                 \n",
            "                                                                 \n",
            " tf.nn.bias_add (TFOpLambda)  (None, 224, 224, 3)      0         \n",
            "                                                                 \n",
            " vgg16 (Functional)          (None, 7, 7, 512)         14714688  \n",
            "                                                                 \n",
            " flatten (Flatten)           (None, 25088)             0         \n",
            "                                                                 \n",
            " dense (Dense)               (None, 256)               6422784   \n",
            "                                                                 \n",
            " dropout (Dropout)           (None, 256)               0         \n",
            "                                                                 \n",
            " dense_1 (Dense)             (None, 1)                 257       \n",
            "                                                                 \n",
            "=================================================================\n",
            "Total params: 21,137,729\n",
            "Trainable params: 6,423,041\n",
            "Non-trainable params: 14,714,688\n",
            "_________________________________________________________________\n"
          ]
        }
      ]
    },
    {
      "cell_type": "code",
      "source": [
        "callbacks=[\n",
        "    keras.callbacks.ModelCheckpoint(\n",
        "        filepath='vgg_feature_extraction.keras',\n",
        "        save_best_only=True,\n",
        "        monitor='val_loss'\n",
        "    )\n",
        "]"
      ],
      "metadata": {
        "id": "OHvcNr7fLTLq"
      },
      "execution_count": null,
      "outputs": []
    },
    {
      "cell_type": "code",
      "source": [
        "# Fit the model\n",
        "history_vgg = model_vgg.fit(\n",
        "    train_dataset,\n",
        "    epochs=10,\n",
        "    validation_data=val_dataset,\n",
        "    callbacks=callbacks\n",
        ")"
      ],
      "metadata": {
        "colab": {
          "base_uri": "https://localhost:8080/"
        },
        "id": "o6TTiuMyLUbF",
        "outputId": "a1bcbf44-8ff0-455a-9074-dd0e9f73d941"
      },
      "execution_count": null,
      "outputs": [
        {
          "output_type": "stream",
          "name": "stdout",
          "text": [
            "Epoch 1/10\n",
            "39/39 [==============================] - 26s 261ms/step - loss: 6.8401 - accuracy: 0.9081 - val_loss: 10.4278 - val_accuracy: 0.9400\n",
            "Epoch 2/10\n",
            "39/39 [==============================] - 9s 216ms/step - loss: 5.4180 - accuracy: 0.9532 - val_loss: 8.2697 - val_accuracy: 0.9500\n",
            "Epoch 3/10\n",
            "39/39 [==============================] - 10s 217ms/step - loss: 4.1500 - accuracy: 0.9573 - val_loss: 7.8653 - val_accuracy: 0.9500\n",
            "Epoch 4/10\n",
            "39/39 [==============================] - 9s 212ms/step - loss: 2.0403 - accuracy: 0.9746 - val_loss: 12.0456 - val_accuracy: 0.9250\n",
            "Epoch 5/10\n",
            "39/39 [==============================] - 9s 212ms/step - loss: 4.0235 - accuracy: 0.9713 - val_loss: 11.2389 - val_accuracy: 0.9300\n",
            "Epoch 6/10\n",
            "39/39 [==============================] - 9s 216ms/step - loss: 1.7965 - accuracy: 0.9828 - val_loss: 17.3369 - val_accuracy: 0.9300\n",
            "Epoch 7/10\n",
            "39/39 [==============================] - 9s 216ms/step - loss: 2.9947 - accuracy: 0.9779 - val_loss: 9.6424 - val_accuracy: 0.9550\n",
            "Epoch 8/10\n",
            "39/39 [==============================] - 11s 227ms/step - loss: 1.4602 - accuracy: 0.9844 - val_loss: 11.1228 - val_accuracy: 0.9350\n",
            "Epoch 9/10\n",
            "39/39 [==============================] - 12s 273ms/step - loss: 2.5148 - accuracy: 0.9762 - val_loss: 11.1842 - val_accuracy: 0.9500\n",
            "Epoch 10/10\n",
            "39/39 [==============================] - 10s 228ms/step - loss: 0.8995 - accuracy: 0.9852 - val_loss: 8.7840 - val_accuracy: 0.9600\n"
          ]
        }
      ]
    },
    {
      "cell_type": "code",
      "source": [
        "plot_history(history_vgg)"
      ],
      "metadata": {
        "colab": {
          "base_uri": "https://localhost:8080/",
          "height": 573
        },
        "id": "4MmpbFFFLYUP",
        "outputId": "f95beb26-942e-428d-f7d6-cccae376283e"
      },
      "execution_count": null,
      "outputs": [
        {
          "output_type": "display_data",
          "data": {
            "text/plain": [
              "<Figure size 432x288 with 1 Axes>"
            ],
            "image/png": "[encoded data removed]"
          },
          "metadata": {
            "needs_background": "light"
          }
        },
        {
          "output_type": "display_data",
          "data": {
            "text/plain": [
              "<Figure size 432x288 with 1 Axes>"
            ],
            "image/png": "[encoded data removed]"
          },
          "metadata": {
            "needs_background": "light"
          }
        }
      ]
    },
    {
      "cell_type": "code",
      "source": [
        "# Evaluating the model on the test set\n",
        "test_model = keras.models.load_model('vgg_feature_extraction.keras')\n",
        "test_loss, test_acc = test_model.evaluate(test_dataset)\n",
        "print(f'Test accuracy: {test_acc:.3f}')"
      ],
      "metadata": {
        "colab": {
          "base_uri": "https://localhost:8080/"
        },
        "id": "26UocTRiLZnM",
        "outputId": "d3dc3f62-0c6c-433a-926a-3214d0e3e5fe"
      },
      "execution_count": null,
      "outputs": [
        {
          "output_type": "stream",
          "name": "stdout",
          "text": [
            "7/7 [==============================] - 2s 151ms/step - loss: 1.4775 - accuracy: 0.9750\n",
            "Test accuracy: 0.975\n"
          ]
        }
      ]
    },
    {
      "cell_type": "markdown",
      "source": [
        "### Fine-tuning"
      ],
      "metadata": {
        "id": "_eKuF1CfLu1U"
      }
    },
    {
      "cell_type": "code",
      "source": [
        "# Fine-tuning the model\n",
        "model_vgg.compile(loss='binary_crossentropy',\n",
        "                  optimizer=keras.optimizers.Adam(learning_rate=1e-5),\n",
        "                  metrics=['accuracy'])"
      ],
      "metadata": {
        "id": "aALeFvJ0LtAc"
      },
      "execution_count": null,
      "outputs": []
    },
    {
      "cell_type": "code",
      "source": [
        "callbacks=[\n",
        "    keras.callbacks.ModelCheckpoint(\n",
        "        filepath='vgg_fine_tuning.keras',\n",
        "        save_best_only=True,\n",
        "        monitor='val_loss'\n",
        "    )\n",
        "]\n",
        "\n",
        "history_vgg_fine_tuning = model_vgg.fit(\n",
        "    train_dataset,\n",
        "    epochs=10,\n",
        "    validation_data=val_dataset,\n",
        "    callbacks=callbacks\n",
        ")"
      ],
      "metadata": {
        "colab": {
          "base_uri": "https://localhost:8080/"
        },
        "id": "Tgbq_EYpLyUl",
        "outputId": "21d52dd8-b960-4aaa-ee45-cfc015f84b1f"
      },
      "execution_count": null,
      "outputs": [
        {
          "output_type": "stream",
          "name": "stdout",
          "text": [
            "Epoch 1/10\n",
            "39/39 [==============================] - 11s 237ms/step - loss: 2.3301 - accuracy: 0.9803 - val_loss: 8.7101 - val_accuracy: 0.9650\n",
            "Epoch 2/10\n",
            "39/39 [==============================] - 10s 234ms/step - loss: 1.0501 - accuracy: 0.9877 - val_loss: 8.7121 - val_accuracy: 0.9550\n",
            "Epoch 3/10\n",
            "39/39 [==============================] - 10s 235ms/step - loss: 1.7670 - accuracy: 0.9844 - val_loss: 8.7449 - val_accuracy: 0.9550\n",
            "Epoch 4/10\n",
            "39/39 [==============================] - 12s 263ms/step - loss: 1.7732 - accuracy: 0.9828 - val_loss: 8.7492 - val_accuracy: 0.9550\n",
            "Epoch 5/10\n",
            "39/39 [==============================] - 11s 248ms/step - loss: 1.0104 - accuracy: 0.9885 - val_loss: 8.6892 - val_accuracy: 0.9550\n",
            "Epoch 6/10\n",
            "39/39 [==============================] - 12s 276ms/step - loss: 0.6394 - accuracy: 0.9885 - val_loss: 8.5783 - val_accuracy: 0.9650\n",
            "Epoch 7/10\n",
            "39/39 [==============================] - 12s 258ms/step - loss: 1.4620 - accuracy: 0.9902 - val_loss: 8.5627 - val_accuracy: 0.9650\n",
            "Epoch 8/10\n",
            "39/39 [==============================] - 11s 264ms/step - loss: 1.7011 - accuracy: 0.9828 - val_loss: 8.4983 - val_accuracy: 0.9650\n",
            "Epoch 9/10\n",
            "39/39 [==============================] - 11s 242ms/step - loss: 1.8332 - accuracy: 0.9795 - val_loss: 8.4094 - val_accuracy: 0.9650\n",
            "Epoch 10/10\n",
            "39/39 [==============================] - 12s 283ms/step - loss: 1.1627 - accuracy: 0.9844 - val_loss: 8.3458 - val_accuracy: 0.9650\n"
          ]
        }
      ]
    },
    {
      "cell_type": "code",
      "source": [
        "plot_history(history_vgg_fine_tuning)"
      ],
      "metadata": {
        "colab": {
          "base_uri": "https://localhost:8080/",
          "height": 573
        },
        "id": "9ZU4cl9qL1n7",
        "outputId": "713d133d-631c-4768-ba3b-83ee71863ea2"
      },
      "execution_count": null,
      "outputs": [
        {
          "output_type": "display_data",
          "data": {
            "text/plain": [
              "<Figure size 432x288 with 1 Axes>"
            ],
            "image/png": "[encoded data removed]"
          },
          "metadata": {
            "needs_background": "light"
          }
        },
        {
          "output_type": "display_data",
          "data": {
            "text/plain": [
              "<Figure size 432x288 with 1 Axes>"
            ],
            "image/png": "[encoded data removed]"
          },
          "metadata": {
            "needs_background": "light"
          }
        }
      ]
    },
    {
      "cell_type": "code",
      "source": [
        "# Evaluating the model on the test set\n",
        "test_model = keras.models.load_model('vgg_fine_tuning.keras')\n",
        "test_loss, test_acc = test_model.evaluate(test_dataset)\n",
        "print(f'Test accuracy: {test_acc:.3f}')"
      ],
      "metadata": {
        "colab": {
          "base_uri": "https://localhost:8080/"
        },
        "id": "P1-bDSwhL2e6",
        "outputId": "269e0b76-7263-44a2-9783-8c2d4229d202"
      },
      "execution_count": null,
      "outputs": [
        {
          "output_type": "stream",
          "name": "stdout",
          "text": [
            "7/7 [==============================] - 3s 160ms/step - loss: 1.5487 - accuracy: 0.9850\n",
            "Test accuracy: 0.985\n"
          ]
        }
      ]
    },
    {
      "cell_type": "markdown",
      "source": [
        "## Resnet50V2"
      ],
      "metadata": {
        "id": "y0REHKD4L7Ng"
      }
    },
    {
      "cell_type": "markdown",
      "source": [
        "### Feature extraction"
      ],
      "metadata": {
        "id": "iX7C2myfMNU5"
      }
    },
    {
      "cell_type": "code",
      "source": [
        "from tensorflow.keras.applications import ResNet50\n",
        "resnet = ResNet50(include_top = False, weights= 'imagenet', input_shape=(224,224,3))"
      ],
      "metadata": {
        "colab": {
          "base_uri": "https://localhost:8080/"
        },
        "id": "qef0He0DL-j1",
        "outputId": "522c86a5-05f6-431c-d18a-7264faa769b5"
      },
      "execution_count": null,
      "outputs": [
        {
          "output_type": "stream",
          "name": "stdout",
          "text": [
            "Downloading data from https://storage.googleapis.com/tensorflow/keras-applications/resnet/resnet50_weights_tf_dim_ordering_tf_kernels_notop.h5\n",
            "94773248/94765736 [==============================] - 9s 0us/step\n",
            "94781440/94765736 [==============================] - 9s 0us/step\n"
          ]
        }
      ]
    },
    {
      "cell_type": "code",
      "source": [
        "# resnet.summary()"
      ],
      "metadata": {
        "id": "il-pgBaYL_DA"
      },
      "execution_count": null,
      "outputs": []
    },
    {
      "cell_type": "code",
      "source": [
        "resnet.trainable = False"
      ],
      "metadata": {
        "id": "hIMnz5coL_3d"
      },
      "execution_count": null,
      "outputs": []
    },
    {
      "cell_type": "code",
      "source": [
        "# Build the model\n",
        "inputs = keras.Input(shape=(224, 224, 3))\n",
        "x = tf.keras.applications.resnet50.preprocess_input(inputs)\n",
        "x = resnet(x, training=False)\n",
        "x = keras.layers.GlobalAveragePooling2D()(x)\n",
        "outputs = keras.layers.Dense(1, activation=\"sigmoid\")(x)\n",
        "model_resnet = keras.Model(inputs, outputs)"
      ],
      "metadata": {
        "id": "iY_kC3bbMA5x"
      },
      "execution_count": null,
      "outputs": []
    },
    {
      "cell_type": "code",
      "source": [
        "model_resnet.summary()"
      ],
      "metadata": {
        "colab": {
          "base_uri": "https://localhost:8080/"
        },
        "id": "RwmD-YxCMEBN",
        "outputId": "092b9243-3476-4eed-c935-55cb495dc346"
      },
      "execution_count": null,
      "outputs": [
        {
          "output_type": "stream",
          "name": "stdout",
          "text": [
            "Model: \"model_1\"\n",
            "_________________________________________________________________\n",
            " Layer (type)                Output Shape              Param #   \n",
            "=================================================================\n",
            " input_4 (InputLayer)        [(None, 224, 224, 3)]     0         \n",
            "                                                                 \n",
            " tf.__operators__.getitem_1   (None, 224, 224, 3)      0         \n",
            " (SlicingOpLambda)                                               \n",
            "                                                                 \n",
            " tf.nn.bias_add_1 (TFOpLambd  (None, 224, 224, 3)      0         \n",
            " a)                                                              \n",
            "                                                                 \n",
            " resnet50 (Functional)       (None, 7, 7, 2048)        23587712  \n",
            "                                                                 \n",
            " global_average_pooling2d (G  (None, 2048)             0         \n",
            " lobalAveragePooling2D)                                          \n",
            "                                                                 \n",
            " dense_2 (Dense)             (None, 1)                 2049      \n",
            "                                                                 \n",
            "=================================================================\n",
            "Total params: 23,589,761\n",
            "Trainable params: 2,049\n",
            "Non-trainable params: 23,587,712\n",
            "_________________________________________________________________\n"
          ]
        }
      ]
    },
    {
      "cell_type": "code",
      "source": [
        "model_resnet.compile(loss=\"binary_crossentropy\",\n",
        "              optimizer='adam',\n",
        "              metrics=['accuracy'])"
      ],
      "metadata": {
        "id": "fi4ixc82MEtJ"
      },
      "execution_count": null,
      "outputs": []
    },
    {
      "cell_type": "code",
      "source": [
        "callbacks = [\n",
        "    keras.callbacks.ModelCheckpoint(\n",
        "        filepath=\"resnet_feature_extraction.keras\",\n",
        "        save_best_only=True,\n",
        "        monitor=\"val_accuracy\")\n",
        "]\n",
        "\n",
        "history_resnet = model_resnet.fit(\n",
        "    train_dataset,\n",
        "    epochs=10,\n",
        "    validation_data=val_dataset,\n",
        "    callbacks=callbacks) "
      ],
      "metadata": {
        "colab": {
          "base_uri": "https://localhost:8080/"
        },
        "id": "09oo9mi_MGVX",
        "outputId": "4e9412fd-7808-4eea-c875-c77cbcb3d34f"
      },
      "execution_count": null,
      "outputs": [
        {
          "output_type": "stream",
          "name": "stdout",
          "text": [
            "Epoch 1/10\n",
            "39/39 [==============================] - 13s 226ms/step - loss: 0.2630 - accuracy: 0.8934 - val_loss: 0.1779 - val_accuracy: 0.9300\n",
            "Epoch 2/10\n",
            "39/39 [==============================] - 9s 217ms/step - loss: 0.0885 - accuracy: 0.9754 - val_loss: 0.1325 - val_accuracy: 0.9500\n",
            "Epoch 3/10\n",
            "39/39 [==============================] - 8s 187ms/step - loss: 0.0625 - accuracy: 0.9861 - val_loss: 0.1100 - val_accuracy: 0.9550\n",
            "Epoch 4/10\n",
            "39/39 [==============================] - 8s 174ms/step - loss: 0.0513 - accuracy: 0.9869 - val_loss: 0.0998 - val_accuracy: 0.9500\n",
            "Epoch 5/10\n",
            "39/39 [==============================] - 8s 174ms/step - loss: 0.0410 - accuracy: 0.9926 - val_loss: 0.0927 - val_accuracy: 0.9550\n",
            "Epoch 6/10\n",
            "39/39 [==============================] - 8s 185ms/step - loss: 0.0341 - accuracy: 0.9951 - val_loss: 0.0870 - val_accuracy: 0.9600\n",
            "Epoch 7/10\n",
            "39/39 [==============================] - 8s 173ms/step - loss: 0.0294 - accuracy: 0.9943 - val_loss: 0.0851 - val_accuracy: 0.9550\n",
            "Epoch 8/10\n",
            "39/39 [==============================] - 8s 187ms/step - loss: 0.0254 - accuracy: 0.9959 - val_loss: 0.0823 - val_accuracy: 0.9650\n",
            "Epoch 9/10\n",
            "39/39 [==============================] - 8s 175ms/step - loss: 0.0221 - accuracy: 0.9959 - val_loss: 0.0789 - val_accuracy: 0.9650\n",
            "Epoch 10/10\n",
            "39/39 [==============================] - 8s 174ms/step - loss: 0.0194 - accuracy: 0.9975 - val_loss: 0.0767 - val_accuracy: 0.9650\n"
          ]
        }
      ]
    },
    {
      "cell_type": "code",
      "source": [
        "plot_history(history_resnet)"
      ],
      "metadata": {
        "colab": {
          "base_uri": "https://localhost:8080/",
          "height": 573
        },
        "id": "zBjLFaa6MQgA",
        "outputId": "8d8cb8b6-ecbc-44e4-9da0-5b21e317da81"
      },
      "execution_count": null,
      "outputs": [
        {
          "output_type": "display_data",
          "data": {
            "text/plain": [
              "<Figure size 432x288 with 1 Axes>"
            ],
            "image/png": "[encoded data removed]"
          },
          "metadata": {
            "needs_background": "light"
          }
        },
        {
          "output_type": "display_data",
          "data": {
            "text/plain": [
              "<Figure size 432x288 with 1 Axes>"
            ],
            "image/png": "[encoded data removed]"
          },
          "metadata": {
            "needs_background": "light"
          }
        }
      ]
    },
    {
      "cell_type": "code",
      "source": [
        "# Evaluating the model on the test set\n",
        "test_model = keras.models.load_model('resnet_feature_extraction.keras')\n",
        "test_loss, test_acc = test_model.evaluate(test_dataset)\n",
        "print(f'Test accuracy: {test_acc:.3f}')"
      ],
      "metadata": {
        "colab": {
          "base_uri": "https://localhost:8080/"
        },
        "id": "RQgqslwDQuMd",
        "outputId": "53314ec5-01d9-4e96-f9b6-13a5a8045a22"
      },
      "execution_count": null,
      "outputs": [
        {
          "output_type": "stream",
          "name": "stdout",
          "text": [
            "7/7 [==============================] - 3s 93ms/step - loss: 0.0501 - accuracy: 0.9900\n",
            "Test accuracy: 0.990\n"
          ]
        }
      ]
    },
    {
      "cell_type": "markdown",
      "source": [
        "### Fine-tuning"
      ],
      "metadata": {
        "id": "H5j4N9FvMS6N"
      }
    },
    {
      "cell_type": "code",
      "source": [
        "resnet.trainable = True\n",
        "for layer in resnet.layers[:-4]:\n",
        "    layer.trainable = False"
      ],
      "metadata": {
        "id": "uXXv5MheMRsW"
      },
      "execution_count": null,
      "outputs": []
    },
    {
      "cell_type": "code",
      "source": [
        "model_resnet.compile(loss=\"binary_crossentropy\",\n",
        "              optimizer=keras.optimizers.Adam(learning_rate=1e-5),\n",
        "              metrics=[\"accuracy\"])\n",
        "\n",
        "callbacks = [\n",
        "    keras.callbacks.ModelCheckpoint(\n",
        "        filepath=\"resnet_fine_tuning.keras\",\n",
        "        save_best_only=True,\n",
        "        monitor=\"val_accuracy\")\n",
        "]\n",
        "\n",
        "history_resnet_fine_tuning = model_resnet.fit(\n",
        "    train_dataset,\n",
        "    epochs=10,\n",
        "    validation_data=val_dataset,\n",
        "    callbacks=callbacks)"
      ],
      "metadata": {
        "colab": {
          "base_uri": "https://localhost:8080/"
        },
        "id": "BYgRCQWPMUdr",
        "outputId": "99638251-2ebc-4601-c730-cde9227c43fc"
      },
      "execution_count": null,
      "outputs": [
        {
          "output_type": "stream",
          "name": "stdout",
          "text": [
            "Epoch 1/10\n",
            "39/39 [==============================] - 13s 210ms/step - loss: 0.0180 - accuracy: 0.9975 - val_loss: 0.0779 - val_accuracy: 0.9650\n",
            "Epoch 2/10\n",
            "39/39 [==============================] - 8s 176ms/step - loss: 0.0160 - accuracy: 0.9984 - val_loss: 0.0796 - val_accuracy: 0.9650\n",
            "Epoch 3/10\n",
            "39/39 [==============================] - 8s 175ms/step - loss: 0.0153 - accuracy: 0.9984 - val_loss: 0.0772 - val_accuracy: 0.9650\n",
            "Epoch 4/10\n",
            "39/39 [==============================] - 8s 175ms/step - loss: 0.0135 - accuracy: 0.9992 - val_loss: 0.0786 - val_accuracy: 0.9650\n",
            "Epoch 5/10\n",
            "39/39 [==============================] - 8s 176ms/step - loss: 0.0126 - accuracy: 0.9992 - val_loss: 0.0782 - val_accuracy: 0.9650\n",
            "Epoch 6/10\n",
            "39/39 [==============================] - 8s 177ms/step - loss: 0.0118 - accuracy: 1.0000 - val_loss: 0.0782 - val_accuracy: 0.9650\n",
            "Epoch 7/10\n",
            "39/39 [==============================] - 8s 176ms/step - loss: 0.0111 - accuracy: 0.9992 - val_loss: 0.0766 - val_accuracy: 0.9650\n",
            "Epoch 8/10\n",
            "39/39 [==============================] - 8s 176ms/step - loss: 0.0104 - accuracy: 1.0000 - val_loss: 0.0771 - val_accuracy: 0.9650\n",
            "Epoch 9/10\n",
            "39/39 [==============================] - 8s 177ms/step - loss: 0.0096 - accuracy: 1.0000 - val_loss: 0.0773 - val_accuracy: 0.9650\n",
            "Epoch 10/10\n",
            "39/39 [==============================] - 8s 176ms/step - loss: 0.0092 - accuracy: 1.0000 - val_loss: 0.0760 - val_accuracy: 0.9650\n"
          ]
        }
      ]
    },
    {
      "cell_type": "code",
      "source": [
        "plot_history(history_resnet_fine_tuning)"
      ],
      "metadata": {
        "colab": {
          "base_uri": "https://localhost:8080/",
          "height": 573
        },
        "id": "7GKkjTLnQm2Z",
        "outputId": "fa85975a-b9b6-4744-aeac-765f2667b870"
      },
      "execution_count": null,
      "outputs": [
        {
          "output_type": "display_data",
          "data": {
            "text/plain": [
              "<Figure size 432x288 with 1 Axes>"
            ],
            "image/png": "[encoded data removed]"
          },
          "metadata": {
            "needs_background": "light"
          }
        },
        {
          "output_type": "display_data",
          "data": {
            "text/plain": [
              "<Figure size 432x288 with 1 Axes>"
            ],
            "image/png": "[encoded data removed]"
          },
          "metadata": {
            "needs_background": "light"
          }
        }
      ]
    },
    {
      "cell_type": "code",
      "source": [
        "# Evaluating the model on the test set\n",
        "test_model = keras.models.load_model('resnet_fine_tuning.keras')\n",
        "test_loss, test_acc = test_model.evaluate(test_dataset)\n",
        "print(f'Test accuracy: {test_acc:.3f}')"
      ],
      "metadata": {
        "colab": {
          "base_uri": "https://localhost:8080/"
        },
        "id": "8pl_WEayQrxP",
        "outputId": "e0726b92-ab0a-45b2-8d2f-58fbef6cfb5e"
      },
      "execution_count": null,
      "outputs": [
        {
          "output_type": "stream",
          "name": "stdout",
          "text": [
            "7/7 [==============================] - 2s 91ms/step - loss: 0.0453 - accuracy: 0.9900\n",
            "Test accuracy: 0.990\n"
          ]
        }
      ]
    },
    {
      "cell_type": "markdown",
      "source": [
        "## EfficientNetB0"
      ],
      "metadata": {
        "id": "tmEgicITROYp"
      }
    },
    {
      "cell_type": "markdown",
      "source": [
        "### Feature extraction"
      ],
      "metadata": {
        "id": "6ewnL362RQTE"
      }
    },
    {
      "cell_type": "code",
      "source": [
        "from tensorflow.keras.layers.experimental import preprocessing\n",
        "\n",
        "data_augmentation = keras.Sequential([\n",
        "  preprocessing.RandomFlip(\"horizontal\"),\n",
        "  preprocessing.RandomRotation(0.2),\n",
        "  preprocessing.RandomZoom(0.2),\n",
        "  preprocessing.RandomHeight(0.2),\n",
        "  preprocessing.RandomWidth(0.2)])"
      ],
      "metadata": {
        "id": "jxhUsJTNRP1W"
      },
      "execution_count": null,
      "outputs": []
    },
    {
      "cell_type": "code",
      "source": [
        "base_model = tf.keras.applications.EfficientNetB0(include_top=False)\n",
        "\n",
        "base_model.trainable = False\n",
        "\n",
        "inputs = tf.keras.layers.Input(shape=(224, 224, 3))\n",
        "x = data_augmentation(inputs)\n",
        "x = base_model(inputs, training=False)\n",
        "x = tf.keras.layers.GlobalAveragePooling2D()(x)\n",
        "outputs = tf.keras.layers.Dense(1, activation='sigmoid')(x)\n",
        "\n",
        "model_en_aug = tf.keras.Model(inputs, outputs)"
      ],
      "metadata": {
        "colab": {
          "base_uri": "https://localhost:8080/"
        },
        "id": "0lHzwMocRT7m",
        "outputId": "812e3552-7d59-4146-bfa6-5a0d4789ade5"
      },
      "execution_count": null,
      "outputs": [
        {
          "output_type": "stream",
          "name": "stdout",
          "text": [
            "Downloading data from https://storage.googleapis.com/keras-applications/efficientnetb0_notop.h5\n",
            "16711680/16705208 [==============================] - 0s 0us/step\n",
            "16719872/16705208 [==============================] - 0s 0us/step\n"
          ]
        }
      ]
    },
    {
      "cell_type": "code",
      "source": [
        "for layer in model_en_aug.layers:\n",
        "    print(layer)\n",
        "    print(layer.trainable)"
      ],
      "metadata": {
        "colab": {
          "base_uri": "https://localhost:8080/"
        },
        "id": "EczGZCBZRVsn",
        "outputId": "1a3804c7-9640-4f97-dd62-21ef8561eedb"
      },
      "execution_count": null,
      "outputs": [
        {
          "output_type": "stream",
          "name": "stdout",
          "text": [
            "<keras.engine.input_layer.InputLayer object at 0x7f2bc8066710>\n",
            "True\n",
            "<keras.engine.functional.Functional object at 0x7f2c310f8ad0>\n",
            "False\n",
            "<keras.layers.pooling.GlobalAveragePooling2D object at 0x7f2bc8500cd0>\n",
            "True\n",
            "<keras.layers.core.dense.Dense object at 0x7f2c31117290>\n",
            "True\n"
          ]
        }
      ]
    },
    {
      "cell_type": "code",
      "source": [
        "model_en_aug.summary()"
      ],
      "metadata": {
        "colab": {
          "base_uri": "https://localhost:8080/"
        },
        "id": "6hYbfoIARW-6",
        "outputId": "96d8e1d6-add1-46cf-8a48-ea4399a793ad"
      },
      "execution_count": null,
      "outputs": [
        {
          "output_type": "stream",
          "name": "stdout",
          "text": [
            "Model: \"model_2\"\n",
            "_________________________________________________________________\n",
            " Layer (type)                Output Shape              Param #   \n",
            "=================================================================\n",
            " input_6 (InputLayer)        [(None, 224, 224, 3)]     0         \n",
            "                                                                 \n",
            " efficientnetb0 (Functional)  (None, None, None, 1280)  4049571  \n",
            "                                                                 \n",
            " global_average_pooling2d_1   (None, 1280)             0         \n",
            " (GlobalAveragePooling2D)                                        \n",
            "                                                                 \n",
            " dense_3 (Dense)             (None, 1)                 1281      \n",
            "                                                                 \n",
            "=================================================================\n",
            "Total params: 4,050,852\n",
            "Trainable params: 1,281\n",
            "Non-trainable params: 4,049,571\n",
            "_________________________________________________________________\n"
          ]
        }
      ]
    },
    {
      "cell_type": "code",
      "source": [
        "# compile the model\n",
        "model_en_aug.compile(loss='binary_crossentropy',\n",
        "                 optimizer='adam',\n",
        "                 metrics=['accuracy'])\n",
        "\n",
        "# define callbacks\n",
        "callbacks = [\n",
        "    keras.callbacks.ModelCheckpoint(\n",
        "        filepath='en_aug_feature_extraction.keras',\n",
        "        save_best_only=True,\n",
        "        monitor='val_loss'\n",
        "    )\n",
        "]\n",
        "\n",
        "# fit the model\n",
        "history_en_aug = model_en_aug.fit(train_dataset,\n",
        "                          epochs=10,\n",
        "                          validation_data=val_dataset,\n",
        "                          callbacks=callbacks)"
      ],
      "metadata": {
        "colab": {
          "base_uri": "https://localhost:8080/"
        },
        "id": "2SwNl8xTRYSg",
        "outputId": "805d1a25-928d-4bf6-c376-4e229c99f6f4"
      },
      "execution_count": null,
      "outputs": [
        {
          "output_type": "stream",
          "name": "stdout",
          "text": [
            "Epoch 1/10\n",
            "39/39 [==============================] - 17s 254ms/step - loss: 0.4245 - accuracy: 0.8753 - val_loss: 0.3208 - val_accuracy: 0.9100\n",
            "Epoch 2/10\n",
            "39/39 [==============================] - 8s 172ms/step - loss: 0.2103 - accuracy: 0.9590 - val_loss: 0.2326 - val_accuracy: 0.9200\n",
            "Epoch 3/10\n",
            "39/39 [==============================] - 9s 207ms/step - loss: 0.1499 - accuracy: 0.9713 - val_loss: 0.1904 - val_accuracy: 0.9350\n",
            "Epoch 4/10\n",
            "39/39 [==============================] - 8s 167ms/step - loss: 0.1197 - accuracy: 0.9820 - val_loss: 0.1639 - val_accuracy: 0.9450\n",
            "Epoch 5/10\n",
            "39/39 [==============================] - 8s 168ms/step - loss: 0.1009 - accuracy: 0.9861 - val_loss: 0.1479 - val_accuracy: 0.9500\n",
            "Epoch 6/10\n",
            "39/39 [==============================] - 8s 167ms/step - loss: 0.0888 - accuracy: 0.9869 - val_loss: 0.1362 - val_accuracy: 0.9600\n",
            "Epoch 7/10\n",
            "39/39 [==============================] - 7s 164ms/step - loss: 0.0783 - accuracy: 0.9885 - val_loss: 0.1283 - val_accuracy: 0.9500\n",
            "Epoch 8/10\n",
            "39/39 [==============================] - 7s 166ms/step - loss: 0.0705 - accuracy: 0.9918 - val_loss: 0.1198 - val_accuracy: 0.9650\n",
            "Epoch 9/10\n",
            "39/39 [==============================] - 7s 164ms/step - loss: 0.0643 - accuracy: 0.9918 - val_loss: 0.1161 - val_accuracy: 0.9600\n",
            "Epoch 10/10\n",
            "39/39 [==============================] - 8s 166ms/step - loss: 0.0589 - accuracy: 0.9934 - val_loss: 0.1111 - val_accuracy: 0.9650\n"
          ]
        }
      ]
    },
    {
      "cell_type": "code",
      "source": [
        "plot_history(history_en_aug)"
      ],
      "metadata": {
        "colab": {
          "base_uri": "https://localhost:8080/",
          "height": 573
        },
        "id": "prN0ASF4Rhf2",
        "outputId": "31196766-1d07-4ac2-dcbc-1c0d4d47b176"
      },
      "execution_count": null,
      "outputs": [
        {
          "output_type": "display_data",
          "data": {
            "text/plain": [
              "<Figure size 432x288 with 1 Axes>"
            ],
            "image/png": "[encoded data removed]"
          },
          "metadata": {
            "needs_background": "light"
          }
        },
        {
          "output_type": "display_data",
          "data": {
            "text/plain": [
              "<Figure size 432x288 with 1 Axes>"
            ],
            "image/png": "[encoded data removed]"
          },
          "metadata": {
            "needs_background": "light"
          }
        }
      ]
    },
    {
      "cell_type": "code",
      "source": [
        "test_en_model = keras.models.load_model('en_aug_feature_extraction.keras')\n",
        "loss, acc = test_en_model.evaluate(test_dataset)\n",
        "print(f'Test accuracy: {acc:.3f}')"
      ],
      "metadata": {
        "colab": {
          "base_uri": "https://localhost:8080/"
        },
        "id": "1JPlHXLkRlH4",
        "outputId": "9b1f227f-2060-487a-d9d2-590ff526e92f"
      },
      "execution_count": null,
      "outputs": [
        {
          "output_type": "stream",
          "name": "stdout",
          "text": [
            "7/7 [==============================] - 3s 71ms/step - loss: 0.0654 - accuracy: 0.9750\n",
            "Test accuracy: 0.975\n"
          ]
        }
      ]
    },
    {
      "cell_type": "markdown",
      "source": [
        "### Fine-tuning"
      ],
      "metadata": {
        "id": "QPi7a-CORm7u"
      }
    },
    {
      "cell_type": "code",
      "source": [
        "base_model.trainable = True\n",
        "\n",
        "# Freeze all layers except for the \n",
        "for layer in base_model.layers[:-10]:\n",
        "  layer.trainable = False"
      ],
      "metadata": {
        "id": "Ut5L5GUpRo6l"
      },
      "execution_count": null,
      "outputs": []
    },
    {
      "cell_type": "code",
      "source": [
        "# compile the model\n",
        "model_en_aug.compile(loss='binary_crossentropy',\n",
        "                 optimizer=tf.keras.optimizers.Adam(lr=0.0001),\n",
        "                 metrics=['accuracy'])\n",
        "\n",
        "# define callbacks\n",
        "callbacks = [\n",
        "    keras.callbacks.ModelCheckpoint(\n",
        "        filepath='en_aug_fine_tuning.keras',\n",
        "        save_best_only=True,\n",
        "        monitor='val_loss'\n",
        "    )\n",
        "]\n",
        "\n",
        "# fit the model\n",
        "history_en_aug_fine_tuning = model_en_aug.fit(train_dataset,\n",
        "                          epochs=10,\n",
        "                          validation_data=val_dataset,\n",
        "                          callbacks=callbacks)"
      ],
      "metadata": {
        "colab": {
          "base_uri": "https://localhost:8080/"
        },
        "id": "0JY6K3JdRrBg",
        "outputId": "bcc1ba5e-5dee-4ae4-94d7-579994890296"
      },
      "execution_count": null,
      "outputs": [
        {
          "output_type": "stream",
          "name": "stdout",
          "text": [
            "Epoch 1/10\n"
          ]
        },
        {
          "output_type": "stream",
          "name": "stderr",
          "text": [
            "/usr/local/lib/python3.7/dist-packages/keras/optimizer_v2/adam.py:105: UserWarning: The `lr` argument is deprecated, use `learning_rate` instead.\n",
            "  super(Adam, self).__init__(name, **kwargs)\n"
          ]
        },
        {
          "output_type": "stream",
          "name": "stdout",
          "text": [
            "39/39 [==============================] - 15s 207ms/step - loss: 0.0396 - accuracy: 0.9893 - val_loss: 0.1067 - val_accuracy: 0.9650\n",
            "Epoch 2/10\n",
            "39/39 [==============================] - 8s 170ms/step - loss: 0.0178 - accuracy: 0.9943 - val_loss: 0.1029 - val_accuracy: 0.9650\n",
            "Epoch 3/10\n",
            "39/39 [==============================] - 7s 159ms/step - loss: 0.0099 - accuracy: 0.9984 - val_loss: 0.1139 - val_accuracy: 0.9650\n",
            "Epoch 4/10\n",
            "39/39 [==============================] - 7s 160ms/step - loss: 0.0098 - accuracy: 0.9984 - val_loss: 0.1068 - val_accuracy: 0.9700\n",
            "Epoch 5/10\n",
            "39/39 [==============================] - 7s 167ms/step - loss: 0.0043 - accuracy: 1.0000 - val_loss: 0.1029 - val_accuracy: 0.9600\n",
            "Epoch 6/10\n",
            "39/39 [==============================] - 8s 169ms/step - loss: 0.0024 - accuracy: 1.0000 - val_loss: 0.1017 - val_accuracy: 0.9600\n",
            "Epoch 7/10\n",
            "39/39 [==============================] - 8s 169ms/step - loss: 0.0017 - accuracy: 1.0000 - val_loss: 0.0978 - val_accuracy: 0.9650\n",
            "Epoch 8/10\n",
            "39/39 [==============================] - 8s 169ms/step - loss: 0.0013 - accuracy: 1.0000 - val_loss: 0.0975 - val_accuracy: 0.9650\n",
            "Epoch 9/10\n",
            "39/39 [==============================] - 7s 162ms/step - loss: 0.0011 - accuracy: 1.0000 - val_loss: 0.0985 - val_accuracy: 0.9650\n",
            "Epoch 10/10\n",
            "39/39 [==============================] - 7s 160ms/step - loss: 8.9094e-04 - accuracy: 1.0000 - val_loss: 0.1015 - val_accuracy: 0.9650\n"
          ]
        }
      ]
    },
    {
      "cell_type": "code",
      "source": [
        "plot_history(history_en_aug_fine_tuning)"
      ],
      "metadata": {
        "colab": {
          "base_uri": "https://localhost:8080/",
          "height": 573
        },
        "id": "aHOPwveyRubM",
        "outputId": "1a9338d0-ae4d-45f8-efda-5451df5105d4"
      },
      "execution_count": null,
      "outputs": [
        {
          "output_type": "display_data",
          "data": {
            "text/plain": [
              "<Figure size 432x288 with 1 Axes>"
            ],
            "image/png": "[encoded data removed]"
          },
          "metadata": {
            "needs_background": "light"
          }
        },
        {
          "output_type": "display_data",
          "data": {
            "text/plain": [
              "<Figure size 432x288 with 1 Axes>"
            ],
            "image/png": "[encoded data removed]"
          },
          "metadata": {
            "needs_background": "light"
          }
        }
      ]
    },
    {
      "cell_type": "code",
      "source": [
        "test_en_model = keras.models.load_model('en_aug_fine_tuning.keras')\n",
        "loss, acc = test_en_model.evaluate(test_dataset)\n",
        "print(f'Test accuracy: {acc:.3f}')"
      ],
      "metadata": {
        "colab": {
          "base_uri": "https://localhost:8080/"
        },
        "id": "GNONE7SsR1h6",
        "outputId": "5c309473-bb8c-43fc-c165-e196cbf6a5fb"
      },
      "execution_count": null,
      "outputs": [
        {
          "output_type": "stream",
          "name": "stdout",
          "text": [
            "7/7 [==============================] - 3s 69ms/step - loss: 0.0230 - accuracy: 0.9900\n",
            "Test accuracy: 0.990\n"
          ]
        }
      ]
    },
    {
      "cell_type": "markdown",
      "source": [
        "## EfficientNetB1\n"
      ],
      "metadata": {
        "id": "eKUYEP4aUpXb"
      }
    },
    {
      "cell_type": "markdown",
      "source": [
        "### Feature extraction"
      ],
      "metadata": {
        "id": "SA4-MaykUtUi"
      }
    },
    {
      "cell_type": "code",
      "source": [
        "base_model = tf.keras.applications.EfficientNetB1(include_top=False)\n",
        "\n",
        "base_model.trainable = False\n",
        "\n",
        "inputs = tf.keras.layers.Input(shape=(224, 224, 3))\n",
        "x = data_augmentation(inputs)\n",
        "x = base_model(inputs, training=False)\n",
        "x = tf.keras.layers.GlobalAveragePooling2D()(x)\n",
        "outputs = tf.keras.layers.Dense(1, activation='sigmoid')(x)\n",
        "model_en1 = tf.keras.Model(inputs, outputs)"
      ],
      "metadata": {
        "id": "qV5b7yWfS_bb"
      },
      "execution_count": null,
      "outputs": []
    },
    {
      "cell_type": "code",
      "source": [
        "model_en1.summary()"
      ],
      "metadata": {
        "colab": {
          "base_uri": "https://localhost:8080/"
        },
        "id": "QqhB_BBpU4l3",
        "outputId": "cb031810-865b-4e0c-b680-1e56f86af08b"
      },
      "execution_count": null,
      "outputs": [
        {
          "output_type": "stream",
          "name": "stdout",
          "text": [
            "Model: \"model_4\"\n",
            "_________________________________________________________________\n",
            " Layer (type)                Output Shape              Param #   \n",
            "=================================================================\n",
            " input_10 (InputLayer)       [(None, 224, 224, 3)]     0         \n",
            "                                                                 \n",
            " efficientnetb1 (Functional)  (None, None, None, 1280)  6575239  \n",
            "                                                                 \n",
            " global_average_pooling2d_3   (None, 1280)             0         \n",
            " (GlobalAveragePooling2D)                                        \n",
            "                                                                 \n",
            " dense_5 (Dense)             (None, 1)                 1281      \n",
            "                                                                 \n",
            "=================================================================\n",
            "Total params: 6,576,520\n",
            "Trainable params: 1,281\n",
            "Non-trainable params: 6,575,239\n",
            "_________________________________________________________________\n"
          ]
        }
      ]
    },
    {
      "cell_type": "code",
      "source": [
        "# compile the model\n",
        "model_en1.compile(loss='binary_crossentropy',\n",
        "                 optimizer='adam',\n",
        "                 metrics=['accuracy'])\n",
        "\n",
        "# define callbacks\n",
        "callbacks = [\n",
        "    keras.callbacks.ModelCheckpoint(\n",
        "        filepath='en1_feature_extraction.keras',\n",
        "        save_best_only=True,\n",
        "        monitor='val_loss'\n",
        "    )\n",
        "]\n",
        "\n",
        "# Setup EarlyStopping callback\n",
        "early_stopping = tf.keras.callbacks.EarlyStopping(monitor=\"val_loss\", \n",
        "                                                  patience=5)\n",
        "\n",
        "\n",
        "# fit the model\n",
        "history_en1 = model_en1.fit(train_dataset,\n",
        "                          epochs=30,\n",
        "                          validation_data=val_dataset,\n",
        "                          callbacks=[callbacks, early_stopping])"
      ],
      "metadata": {
        "colab": {
          "base_uri": "https://localhost:8080/"
        },
        "id": "ludgZThKU6kc",
        "outputId": "845b20b8-d263-4447-85fb-358ce14455eb"
      },
      "execution_count": null,
      "outputs": [
        {
          "output_type": "stream",
          "name": "stdout",
          "text": [
            "Epoch 1/30\n",
            "39/39 [==============================] - 17s 230ms/step - loss: 0.4895 - accuracy: 0.8072 - val_loss: 0.3234 - val_accuracy: 0.9350\n",
            "Epoch 2/30\n",
            "39/39 [==============================] - 8s 180ms/step - loss: 0.2240 - accuracy: 0.9762 - val_loss: 0.2219 - val_accuracy: 0.9450\n",
            "Epoch 3/30\n",
            "39/39 [==============================] - 8s 181ms/step - loss: 0.1529 - accuracy: 0.9844 - val_loss: 0.1765 - val_accuracy: 0.9650\n",
            "Epoch 4/30\n",
            "39/39 [==============================] - 9s 197ms/step - loss: 0.1216 - accuracy: 0.9861 - val_loss: 0.1582 - val_accuracy: 0.9500\n",
            "Epoch 5/30\n",
            "39/39 [==============================] - 8s 182ms/step - loss: 0.0990 - accuracy: 0.9869 - val_loss: 0.1392 - val_accuracy: 0.9550\n",
            "Epoch 6/30\n",
            "39/39 [==============================] - 8s 181ms/step - loss: 0.0851 - accuracy: 0.9861 - val_loss: 0.1257 - val_accuracy: 0.9600\n",
            "Epoch 7/30\n",
            "39/39 [==============================] - 8s 180ms/step - loss: 0.0750 - accuracy: 0.9877 - val_loss: 0.1168 - val_accuracy: 0.9700\n",
            "Epoch 8/30\n",
            "39/39 [==============================] - 11s 254ms/step - loss: 0.0674 - accuracy: 0.9902 - val_loss: 0.1114 - val_accuracy: 0.9650\n",
            "Epoch 9/30\n",
            "39/39 [==============================] - 11s 243ms/step - loss: 0.0612 - accuracy: 0.9910 - val_loss: 0.1063 - val_accuracy: 0.9650\n",
            "Epoch 10/30\n",
            "39/39 [==============================] - 8s 180ms/step - loss: 0.0566 - accuracy: 0.9926 - val_loss: 0.1044 - val_accuracy: 0.9650\n",
            "Epoch 11/30\n",
            "39/39 [==============================] - 8s 183ms/step - loss: 0.0518 - accuracy: 0.9934 - val_loss: 0.0961 - val_accuracy: 0.9750\n",
            "Epoch 12/30\n",
            "39/39 [==============================] - 11s 221ms/step - loss: 0.0486 - accuracy: 0.9943 - val_loss: 0.0936 - val_accuracy: 0.9750\n",
            "Epoch 13/30\n",
            "39/39 [==============================] - 8s 180ms/step - loss: 0.0452 - accuracy: 0.9934 - val_loss: 0.0920 - val_accuracy: 0.9750\n",
            "Epoch 14/30\n",
            "39/39 [==============================] - 9s 200ms/step - loss: 0.0424 - accuracy: 0.9967 - val_loss: 0.0894 - val_accuracy: 0.9750\n",
            "Epoch 15/30\n",
            "39/39 [==============================] - 10s 226ms/step - loss: 0.0403 - accuracy: 0.9951 - val_loss: 0.0898 - val_accuracy: 0.9700\n",
            "Epoch 16/30\n",
            "39/39 [==============================] - 9s 185ms/step - loss: 0.0376 - accuracy: 0.9967 - val_loss: 0.0858 - val_accuracy: 0.9700\n",
            "Epoch 17/30\n",
            "39/39 [==============================] - 8s 185ms/step - loss: 0.0356 - accuracy: 0.9967 - val_loss: 0.0838 - val_accuracy: 0.9750\n",
            "Epoch 18/30\n",
            "39/39 [==============================] - 8s 184ms/step - loss: 0.0335 - accuracy: 0.9967 - val_loss: 0.0828 - val_accuracy: 0.9750\n",
            "Epoch 19/30\n",
            "39/39 [==============================] - 8s 182ms/step - loss: 0.0320 - accuracy: 0.9967 - val_loss: 0.0812 - val_accuracy: 0.9750\n",
            "Epoch 20/30\n",
            "39/39 [==============================] - 8s 181ms/step - loss: 0.0305 - accuracy: 0.9975 - val_loss: 0.0806 - val_accuracy: 0.9750\n",
            "Epoch 21/30\n",
            "39/39 [==============================] - 11s 247ms/step - loss: 0.0296 - accuracy: 0.9959 - val_loss: 0.0773 - val_accuracy: 0.9750\n",
            "Epoch 22/30\n",
            "39/39 [==============================] - 9s 200ms/step - loss: 0.0279 - accuracy: 0.9992 - val_loss: 0.0793 - val_accuracy: 0.9750\n",
            "Epoch 23/30\n",
            "39/39 [==============================] - 11s 244ms/step - loss: 0.0265 - accuracy: 0.9992 - val_loss: 0.0770 - val_accuracy: 0.9750\n",
            "Epoch 24/30\n",
            "39/39 [==============================] - 10s 226ms/step - loss: 0.0254 - accuracy: 0.9992 - val_loss: 0.0764 - val_accuracy: 0.9750\n",
            "Epoch 25/30\n",
            "39/39 [==============================] - 8s 184ms/step - loss: 0.0242 - accuracy: 0.9992 - val_loss: 0.0752 - val_accuracy: 0.9700\n",
            "Epoch 26/30\n",
            "39/39 [==============================] - 8s 182ms/step - loss: 0.0232 - accuracy: 0.9992 - val_loss: 0.0732 - val_accuracy: 0.9750\n",
            "Epoch 27/30\n",
            "39/39 [==============================] - 8s 170ms/step - loss: 0.0223 - accuracy: 0.9992 - val_loss: 0.0747 - val_accuracy: 0.9700\n",
            "Epoch 28/30\n",
            "39/39 [==============================] - 8s 182ms/step - loss: 0.0214 - accuracy: 0.9992 - val_loss: 0.0731 - val_accuracy: 0.9700\n",
            "Epoch 29/30\n",
            "39/39 [==============================] - 8s 171ms/step - loss: 0.0205 - accuracy: 1.0000 - val_loss: 0.0736 - val_accuracy: 0.9700\n",
            "Epoch 30/30\n",
            "39/39 [==============================] - 8s 171ms/step - loss: 0.0199 - accuracy: 1.0000 - val_loss: 0.0733 - val_accuracy: 0.9750\n"
          ]
        }
      ]
    },
    {
      "cell_type": "code",
      "source": [
        "plot_history(history_en1)"
      ],
      "metadata": {
        "colab": {
          "base_uri": "https://localhost:8080/",
          "height": 573
        },
        "id": "ophNFN0RVzvp",
        "outputId": "534876a1-577c-4f83-9022-73598dfba6b7"
      },
      "execution_count": null,
      "outputs": [
        {
          "output_type": "display_data",
          "data": {
            "text/plain": [
              "<Figure size 432x288 with 1 Axes>"
            ],
            "image/png": "[encoded data removed]"
          },
          "metadata": {
            "needs_background": "light"
          }
        },
        {
          "output_type": "display_data",
          "data": {
            "text/plain": [
              "<Figure size 432x288 with 1 Axes>"
            ],
            "image/png": "[encoded data removed]"
          },
          "metadata": {
            "needs_background": "light"
          }
        }
      ]
    },
    {
      "cell_type": "code",
      "source": [
        "test_en_model = keras.models.load_model('en1_feature_extraction.keras')\n",
        "loss, acc = test_en_model.evaluate(test_dataset)\n",
        "print(f'Test accuracy: {acc:.3f}')"
      ],
      "metadata": {
        "colab": {
          "base_uri": "https://localhost:8080/"
        },
        "id": "um1EeVsaWGsQ",
        "outputId": "97e1e104-1a43-49aa-fc91-9e016d4dae15"
      },
      "execution_count": null,
      "outputs": [
        {
          "output_type": "stream",
          "name": "stdout",
          "text": [
            "7/7 [==============================] - 3s 86ms/step - loss: 0.0398 - accuracy: 0.9900\n",
            "Test accuracy: 0.990\n"
          ]
        }
      ]
    },
    {
      "cell_type": "markdown",
      "source": [
        "### Fine-tuning"
      ],
      "metadata": {
        "id": "vy7uIRntWvfT"
      }
    },
    {
      "cell_type": "code",
      "source": [
        "base_model.trainable = True\n",
        "\n",
        "# Freeze all layers except for the \n",
        "for layer in base_model.layers[:-10]:\n",
        "  layer.trainable = False"
      ],
      "metadata": {
        "id": "n_gcf7LKWm8Q"
      },
      "execution_count": null,
      "outputs": []
    },
    {
      "cell_type": "code",
      "source": [
        "# compile the model\n",
        "model_en1.compile(loss='binary_crossentropy',\n",
        "                 optimizer=tf.keras.optimizers.Adam(lr=0.0001),\n",
        "                 metrics=['accuracy'])\n",
        "\n",
        "# define callbacks\n",
        "callbacks = [\n",
        "    keras.callbacks.ModelCheckpoint(\n",
        "        filepath='en1_fine_tuning.keras',\n",
        "        save_best_only=True,\n",
        "        monitor='val_loss'\n",
        "    )\n",
        "]\n",
        "\n",
        "# fit the model\n",
        "history_en1_fine_tuning = model_en1.fit(train_dataset,\n",
        "                          epochs=30,\n",
        "                          validation_data=val_dataset,\n",
        "                          callbacks=[callbacks, early_stopping])"
      ],
      "metadata": {
        "colab": {
          "base_uri": "https://localhost:8080/"
        },
        "id": "LcKxiH20W_1o",
        "outputId": "9534a4b8-75a5-442c-a9d9-6341edadda2e"
      },
      "execution_count": null,
      "outputs": [
        {
          "output_type": "stream",
          "name": "stdout",
          "text": [
            "Epoch 1/30\n"
          ]
        },
        {
          "output_type": "stream",
          "name": "stderr",
          "text": [
            "/usr/local/lib/python3.7/dist-packages/keras/optimizer_v2/adam.py:105: UserWarning: The `lr` argument is deprecated, use `learning_rate` instead.\n",
            "  super(Adam, self).__init__(name, **kwargs)\n"
          ]
        },
        {
          "output_type": "stream",
          "name": "stdout",
          "text": [
            "39/39 [==============================] - 17s 240ms/step - loss: 0.0217 - accuracy: 0.9959 - val_loss: 0.0776 - val_accuracy: 0.9700\n",
            "Epoch 2/30\n",
            "39/39 [==============================] - 9s 215ms/step - loss: 0.0097 - accuracy: 0.9975 - val_loss: 0.0659 - val_accuracy: 0.9650\n",
            "Epoch 3/30\n",
            "39/39 [==============================] - 9s 184ms/step - loss: 0.0040 - accuracy: 1.0000 - val_loss: 0.0712 - val_accuracy: 0.9650\n",
            "Epoch 4/30\n",
            "39/39 [==============================] - 9s 205ms/step - loss: 0.0021 - accuracy: 1.0000 - val_loss: 0.0725 - val_accuracy: 0.9750\n",
            "Epoch 5/30\n",
            "39/39 [==============================] - 8s 173ms/step - loss: 0.0013 - accuracy: 1.0000 - val_loss: 0.0841 - val_accuracy: 0.9650\n",
            "Epoch 6/30\n",
            "39/39 [==============================] - 8s 176ms/step - loss: 8.6676e-04 - accuracy: 1.0000 - val_loss: 0.0806 - val_accuracy: 0.9650\n",
            "Epoch 7/30\n",
            "39/39 [==============================] - 8s 173ms/step - loss: 5.0700e-04 - accuracy: 1.0000 - val_loss: 0.0812 - val_accuracy: 0.9650\n"
          ]
        }
      ]
    },
    {
      "cell_type": "code",
      "source": [
        "plot_history(history_en1_fine_tuning)"
      ],
      "metadata": {
        "colab": {
          "base_uri": "https://localhost:8080/",
          "height": 573
        },
        "id": "iISPCWsBXM3_",
        "outputId": "ce1d2fe6-bf75-4153-a36c-9ff07dc6b3c2"
      },
      "execution_count": null,
      "outputs": [
        {
          "output_type": "display_data",
          "data": {
            "text/plain": [
              "<Figure size 432x288 with 1 Axes>"
            ],
            "image/png": "[encoded data removed]"
          },
          "metadata": {
            "needs_background": "light"
          }
        },
        {
          "output_type": "display_data",
          "data": {
            "text/plain": [
              "<Figure size 432x288 with 1 Axes>"
            ],
            "image/png": "[encoded data removed]"
          },
          "metadata": {
            "needs_background": "light"
          }
        }
      ]
    },
    {
      "cell_type": "code",
      "source": [
        "test_en_model = keras.models.load_model('en1_fine_tuning.keras')\n",
        "loss, acc = test_en_model.evaluate(test_dataset)\n",
        "print(f'Test accuracy: {acc:.3f}')"
      ],
      "metadata": {
        "colab": {
          "base_uri": "https://localhost:8080/"
        },
        "id": "9lO3b8mQXeuN",
        "outputId": "8413bcd0-5887-4f26-8d8d-153f67f5f4bf"
      },
      "execution_count": null,
      "outputs": [
        {
          "output_type": "stream",
          "name": "stdout",
          "text": [
            "7/7 [==============================] - 3s 88ms/step - loss: 0.0275 - accuracy: 0.9900\n",
            "Test accuracy: 0.990\n"
          ]
        }
      ]
    },
    {
      "cell_type": "markdown",
      "source": [
        "## EfficientNetB2\n"
      ],
      "metadata": {
        "id": "UFtlAFcdd6z3"
      }
    },
    {
      "cell_type": "markdown",
      "source": [
        "### Feature extraction"
      ],
      "metadata": {
        "id": "hBFzmUwdeW1m"
      }
    },
    {
      "cell_type": "code",
      "source": [
        "base_model = tf.keras.applications.EfficientNetB2(include_top=False)\n",
        "\n",
        "base_model.trainable = False\n",
        "\n",
        "inputs = tf.keras.layers.Input(shape=(224, 224, 3))\n",
        "x = data_augmentation(inputs)\n",
        "x = base_model(inputs, training=False)\n",
        "x = tf.keras.layers.GlobalAveragePooling2D()(x)\n",
        "outputs = tf.keras.layers.Dense(1, activation='sigmoid')(x)\n",
        "model_en2 = tf.keras.Model(inputs, outputs)"
      ],
      "metadata": {
        "id": "LmM-BM7Gd6AW"
      },
      "execution_count": null,
      "outputs": []
    },
    {
      "cell_type": "code",
      "source": [
        "model_en2.summary()"
      ],
      "metadata": {
        "colab": {
          "base_uri": "https://localhost:8080/"
        },
        "id": "eTJUjhTVeIED",
        "outputId": "9f92759b-1767-4425-befe-dd9f7392f4eb"
      },
      "execution_count": null,
      "outputs": [
        {
          "output_type": "stream",
          "name": "stdout",
          "text": [
            "Model: \"model_5\"\n",
            "_________________________________________________________________\n",
            " Layer (type)                Output Shape              Param #   \n",
            "=================================================================\n",
            " input_12 (InputLayer)       [(None, 224, 224, 3)]     0         \n",
            "                                                                 \n",
            " efficientnetb2 (Functional)  (None, None, None, 1408)  7768569  \n",
            "                                                                 \n",
            " global_average_pooling2d_4   (None, 1408)             0         \n",
            " (GlobalAveragePooling2D)                                        \n",
            "                                                                 \n",
            " dense_6 (Dense)             (None, 1)                 1409      \n",
            "                                                                 \n",
            "=================================================================\n",
            "Total params: 7,769,978\n",
            "Trainable params: 1,409\n",
            "Non-trainable params: 7,768,569\n",
            "_________________________________________________________________\n"
          ]
        }
      ]
    },
    {
      "cell_type": "code",
      "source": [
        "# compile the model\n",
        "model_en2.compile(loss='binary_crossentropy',\n",
        "                 optimizer='adam',\n",
        "                 metrics=['accuracy'])\n",
        "\n",
        "# define callbacks\n",
        "callbacks = [\n",
        "    keras.callbacks.ModelCheckpoint(\n",
        "        filepath='en2_feature_extraction.keras',\n",
        "        save_best_only=True,\n",
        "        monitor='val_loss'\n",
        "    )\n",
        "]\n",
        "\n",
        "# fit the model\n",
        "history_en2 = model_en2.fit(train_dataset,\n",
        "                          epochs=30,\n",
        "                          validation_data=val_dataset,\n",
        "                          callbacks=[callbacks, early_stopping])"
      ],
      "metadata": {
        "colab": {
          "base_uri": "https://localhost:8080/"
        },
        "id": "cv0O2jareLYC",
        "outputId": "41b32d85-19aa-453f-fb88-013e8ea4380d"
      },
      "execution_count": null,
      "outputs": [
        {
          "output_type": "stream",
          "name": "stdout",
          "text": [
            "Epoch 1/30\n",
            "39/39 [==============================] - 23s 254ms/step - loss: 0.4779 - accuracy: 0.8203 - val_loss: 0.3581 - val_accuracy: 0.9150\n",
            "Epoch 2/30\n",
            "39/39 [==============================] - 9s 197ms/step - loss: 0.2551 - accuracy: 0.9409 - val_loss: 0.2467 - val_accuracy: 0.9500\n",
            "Epoch 3/30\n",
            "39/39 [==============================] - 10s 217ms/step - loss: 0.1813 - accuracy: 0.9655 - val_loss: 0.1931 - val_accuracy: 0.9600\n",
            "Epoch 4/30\n",
            "39/39 [==============================] - 8s 186ms/step - loss: 0.1443 - accuracy: 0.9746 - val_loss: 0.1671 - val_accuracy: 0.9600\n",
            "Epoch 5/30\n",
            "39/39 [==============================] - 8s 190ms/step - loss: 0.1189 - accuracy: 0.9770 - val_loss: 0.1460 - val_accuracy: 0.9600\n",
            "Epoch 6/30\n",
            "39/39 [==============================] - 10s 226ms/step - loss: 0.1045 - accuracy: 0.9836 - val_loss: 0.1336 - val_accuracy: 0.9600\n",
            "Epoch 7/30\n",
            "39/39 [==============================] - 12s 277ms/step - loss: 0.0913 - accuracy: 0.9844 - val_loss: 0.1253 - val_accuracy: 0.9600\n",
            "Epoch 8/30\n",
            "39/39 [==============================] - 28s 688ms/step - loss: 0.0832 - accuracy: 0.9836 - val_loss: 0.1120 - val_accuracy: 0.9650\n",
            "Epoch 9/30\n",
            "39/39 [==============================] - 9s 209ms/step - loss: 0.0776 - accuracy: 0.9893 - val_loss: 0.1159 - val_accuracy: 0.9600\n",
            "Epoch 10/30\n",
            "39/39 [==============================] - 13s 257ms/step - loss: 0.0688 - accuracy: 0.9877 - val_loss: 0.1031 - val_accuracy: 0.9650\n",
            "Epoch 11/30\n",
            "39/39 [==============================] - 8s 189ms/step - loss: 0.0635 - accuracy: 0.9877 - val_loss: 0.0975 - val_accuracy: 0.9650\n",
            "Epoch 12/30\n",
            "39/39 [==============================] - 9s 196ms/step - loss: 0.0589 - accuracy: 0.9885 - val_loss: 0.0924 - val_accuracy: 0.9650\n",
            "Epoch 13/30\n",
            "39/39 [==============================] - 11s 248ms/step - loss: 0.0549 - accuracy: 0.9893 - val_loss: 0.0900 - val_accuracy: 0.9650\n",
            "Epoch 14/30\n",
            "39/39 [==============================] - 8s 191ms/step - loss: 0.0511 - accuracy: 0.9885 - val_loss: 0.0855 - val_accuracy: 0.9750\n",
            "Epoch 15/30\n",
            "39/39 [==============================] - 8s 185ms/step - loss: 0.0482 - accuracy: 0.9893 - val_loss: 0.0813 - val_accuracy: 0.9750\n",
            "Epoch 16/30\n",
            "39/39 [==============================] - 8s 174ms/step - loss: 0.0457 - accuracy: 0.9902 - val_loss: 0.0819 - val_accuracy: 0.9650\n",
            "Epoch 17/30\n",
            "39/39 [==============================] - 9s 212ms/step - loss: 0.0431 - accuracy: 0.9943 - val_loss: 0.0761 - val_accuracy: 0.9750\n",
            "Epoch 18/30\n",
            "39/39 [==============================] - 8s 184ms/step - loss: 0.0410 - accuracy: 0.9934 - val_loss: 0.0757 - val_accuracy: 0.9750\n",
            "Epoch 19/30\n",
            "39/39 [==============================] - 8s 184ms/step - loss: 0.0388 - accuracy: 0.9934 - val_loss: 0.0730 - val_accuracy: 0.9750\n",
            "Epoch 20/30\n",
            "39/39 [==============================] - 8s 183ms/step - loss: 0.0370 - accuracy: 0.9959 - val_loss: 0.0705 - val_accuracy: 0.9750\n",
            "Epoch 21/30\n",
            "39/39 [==============================] - 8s 184ms/step - loss: 0.0355 - accuracy: 0.9967 - val_loss: 0.0689 - val_accuracy: 0.9750\n",
            "Epoch 22/30\n",
            "39/39 [==============================] - 9s 199ms/step - loss: 0.0336 - accuracy: 0.9967 - val_loss: 0.0683 - val_accuracy: 0.9750\n",
            "Epoch 23/30\n",
            "39/39 [==============================] - 8s 186ms/step - loss: 0.0321 - accuracy: 0.9967 - val_loss: 0.0658 - val_accuracy: 0.9750\n",
            "Epoch 24/30\n",
            "39/39 [==============================] - 8s 187ms/step - loss: 0.0307 - accuracy: 0.9984 - val_loss: 0.0645 - val_accuracy: 0.9750\n",
            "Epoch 25/30\n",
            "39/39 [==============================] - 8s 188ms/step - loss: 0.0295 - accuracy: 0.9975 - val_loss: 0.0637 - val_accuracy: 0.9750\n",
            "Epoch 26/30\n",
            "39/39 [==============================] - 8s 185ms/step - loss: 0.0282 - accuracy: 0.9984 - val_loss: 0.0620 - val_accuracy: 0.9750\n",
            "Epoch 27/30\n",
            "39/39 [==============================] - 8s 184ms/step - loss: 0.0271 - accuracy: 0.9984 - val_loss: 0.0607 - val_accuracy: 0.9750\n",
            "Epoch 28/30\n",
            "39/39 [==============================] - 8s 185ms/step - loss: 0.0261 - accuracy: 0.9984 - val_loss: 0.0589 - val_accuracy: 0.9750\n",
            "Epoch 29/30\n",
            "39/39 [==============================] - 8s 185ms/step - loss: 0.0252 - accuracy: 0.9984 - val_loss: 0.0565 - val_accuracy: 0.9750\n",
            "Epoch 30/30\n",
            "39/39 [==============================] - 8s 173ms/step - loss: 0.0243 - accuracy: 0.9984 - val_loss: 0.0575 - val_accuracy: 0.9750\n"
          ]
        }
      ]
    },
    {
      "cell_type": "code",
      "source": [
        "plot_history(history_en2)"
      ],
      "metadata": {
        "colab": {
          "base_uri": "https://localhost:8080/",
          "height": 573
        },
        "id": "U0CtKOaYeePC",
        "outputId": "eb1839e7-055f-4d9a-cc7b-56ba78d550fb"
      },
      "execution_count": null,
      "outputs": [
        {
          "output_type": "display_data",
          "data": {
            "text/plain": [
              "<Figure size 432x288 with 1 Axes>"
            ],
            "image/png": "[encoded data removed]"
          },
          "metadata": {
            "needs_background": "light"
          }
        },
        {
          "output_type": "display_data",
          "data": {
            "text/plain": [
              "<Figure size 432x288 with 1 Axes>"
            ],
            "image/png": "[encoded data removed]"
          },
          "metadata": {
            "needs_background": "light"
          }
        }
      ]
    },
    {
      "cell_type": "code",
      "source": [
        "test_en_model = keras.models.load_model('en2_feature_extraction.keras')\n",
        "loss, acc = test_en_model.evaluate(test_dataset)\n",
        "print(f'Test accuracy: {acc:.3f}')"
      ],
      "metadata": {
        "colab": {
          "base_uri": "https://localhost:8080/"
        },
        "id": "XnxM8RC4ehEQ",
        "outputId": "fb5ed444-92a9-4913-c28b-b60fee733bf2"
      },
      "execution_count": null,
      "outputs": [
        {
          "output_type": "stream",
          "name": "stdout",
          "text": [
            "7/7 [==============================] - 3s 90ms/step - loss: 0.0526 - accuracy: 0.9900\n",
            "Test accuracy: 0.990\n"
          ]
        }
      ]
    },
    {
      "cell_type": "markdown",
      "source": [
        "### Fine-tuning"
      ],
      "metadata": {
        "id": "xjz5XEEZep9g"
      }
    },
    {
      "cell_type": "code",
      "source": [
        "base_model.trainable = True\n",
        "\n",
        "# Freeze all layers except for the \n",
        "for layer in base_model.layers[:-10]:\n",
        "  layer.trainable = False\n",
        "\n",
        "# compile the model\n",
        "model_en2.compile(loss='binary_crossentropy',\n",
        "                 optimizer=tf.keras.optimizers.Adam(lr=0.0001),\n",
        "                 metrics=['accuracy'])\n",
        "\n",
        "# define callbacks\n",
        "callbacks = [\n",
        "    keras.callbacks.ModelCheckpoint(\n",
        "        filepath='en2_fine_tuning.keras',\n",
        "        save_best_only=True,\n",
        "        monitor='val_loss'\n",
        "    )\n",
        "]\n",
        "\n",
        "# fit the model\n",
        "history_en2_fine_tuning = model_en2.fit(train_dataset,\n",
        "                          epochs=20,\n",
        "                          validation_data=val_dataset,\n",
        "                          callbacks=[callbacks])\n",
        "\n",
        "# plot\n",
        "plot_history(history_en2_fine_tuning)\n",
        "\n",
        "# Evaluate on the test set\n",
        "test_en_model = keras.models.load_model('en2_fine_tuning.keras')\n",
        "loss, acc = test_en_model.evaluate(test_dataset)\n",
        "print(f'Test accuracy: {acc:.3f}')"
      ],
      "metadata": {
        "colab": {
          "base_uri": "https://localhost:8080/",
          "height": 1000
        },
        "id": "gT934Q8MerN-",
        "outputId": "3ce177e9-b70c-45a6-a4cb-2bb8a1ff77d7"
      },
      "execution_count": null,
      "outputs": [
        {
          "output_type": "stream",
          "name": "stdout",
          "text": [
            "Epoch 1/20\n"
          ]
        },
        {
          "output_type": "stream",
          "name": "stderr",
          "text": [
            "/usr/local/lib/python3.7/dist-packages/keras/optimizer_v2/adam.py:105: UserWarning: The `lr` argument is deprecated, use `learning_rate` instead.\n",
            "  super(Adam, self).__init__(name, **kwargs)\n"
          ]
        },
        {
          "output_type": "stream",
          "name": "stdout",
          "text": [
            "39/39 [==============================] - 17s 237ms/step - loss: 0.0191 - accuracy: 0.9951 - val_loss: 0.0453 - val_accuracy: 0.9850\n",
            "Epoch 2/20\n",
            "39/39 [==============================] - 8s 188ms/step - loss: 0.0185 - accuracy: 0.9943 - val_loss: 0.0254 - val_accuracy: 0.9950\n",
            "Epoch 3/20\n",
            "39/39 [==============================] - 8s 176ms/step - loss: 0.0036 - accuracy: 1.0000 - val_loss: 0.0276 - val_accuracy: 0.9950\n",
            "Epoch 4/20\n",
            "39/39 [==============================] - 8s 174ms/step - loss: 0.0020 - accuracy: 1.0000 - val_loss: 0.0293 - val_accuracy: 0.9950\n",
            "Epoch 5/20\n",
            "39/39 [==============================] - 8s 175ms/step - loss: 0.0014 - accuracy: 1.0000 - val_loss: 0.0382 - val_accuracy: 0.9950\n",
            "Epoch 6/20\n",
            "39/39 [==============================] - 8s 175ms/step - loss: 0.0010 - accuracy: 1.0000 - val_loss: 0.0308 - val_accuracy: 0.9950\n",
            "Epoch 7/20\n",
            "39/39 [==============================] - 8s 175ms/step - loss: 7.2257e-04 - accuracy: 1.0000 - val_loss: 0.0267 - val_accuracy: 0.9950\n",
            "Epoch 8/20\n",
            "39/39 [==============================] - 8s 188ms/step - loss: 5.1183e-04 - accuracy: 1.0000 - val_loss: 0.0237 - val_accuracy: 0.9950\n",
            "Epoch 9/20\n",
            "39/39 [==============================] - 8s 191ms/step - loss: 3.9296e-04 - accuracy: 1.0000 - val_loss: 0.0203 - val_accuracy: 0.9950\n",
            "Epoch 10/20\n",
            "39/39 [==============================] - 8s 187ms/step - loss: 3.1657e-04 - accuracy: 1.0000 - val_loss: 0.0194 - val_accuracy: 0.9950\n",
            "Epoch 11/20\n",
            "39/39 [==============================] - 8s 176ms/step - loss: 2.6639e-04 - accuracy: 1.0000 - val_loss: 0.0211 - val_accuracy: 0.9950\n",
            "Epoch 12/20\n",
            "39/39 [==============================] - 8s 177ms/step - loss: 2.2431e-04 - accuracy: 1.0000 - val_loss: 0.0207 - val_accuracy: 0.9950\n",
            "Epoch 13/20\n",
            "39/39 [==============================] - 8s 177ms/step - loss: 1.8729e-04 - accuracy: 1.0000 - val_loss: 0.0205 - val_accuracy: 0.9950\n",
            "Epoch 14/20\n",
            "39/39 [==============================] - 10s 224ms/step - loss: 1.6434e-04 - accuracy: 1.0000 - val_loss: 0.0186 - val_accuracy: 0.9950\n",
            "Epoch 15/20\n",
            "39/39 [==============================] - 8s 177ms/step - loss: 1.4841e-04 - accuracy: 1.0000 - val_loss: 0.0195 - val_accuracy: 0.9950\n",
            "Epoch 16/20\n",
            "39/39 [==============================] - 8s 177ms/step - loss: 1.2764e-04 - accuracy: 1.0000 - val_loss: 0.0187 - val_accuracy: 0.9950\n",
            "Epoch 17/20\n",
            "39/39 [==============================] - 8s 177ms/step - loss: 1.1151e-04 - accuracy: 1.0000 - val_loss: 0.0198 - val_accuracy: 0.9950\n",
            "Epoch 18/20\n",
            "39/39 [==============================] - 8s 178ms/step - loss: 9.6219e-05 - accuracy: 1.0000 - val_loss: 0.0189 - val_accuracy: 0.9950\n",
            "Epoch 19/20\n",
            "39/39 [==============================] - 8s 179ms/step - loss: 8.5905e-05 - accuracy: 1.0000 - val_loss: 0.0196 - val_accuracy: 0.9950\n",
            "Epoch 20/20\n",
            "39/39 [==============================] - 8s 175ms/step - loss: 7.8463e-05 - accuracy: 1.0000 - val_loss: 0.0194 - val_accuracy: 0.9950\n",
            "7/7 [==============================] - 4s 88ms/step - loss: 0.0444 - accuracy: 0.9950\n",
            "Test accuracy: 0.995\n"
          ]
        },
        {
          "output_type": "display_data",
          "data": {
            "text/plain": [
              "<Figure size 432x288 with 1 Axes>"
            ],
            "image/png": "[encoded data removed]"
          },
          "metadata": {
            "needs_background": "light"
          }
        },
        {
          "output_type": "display_data",
          "data": {
            "text/plain": [
              "<Figure size 432x288 with 1 Axes>"
            ],
            "image/png": "[encoded data removed]"
          },
          "metadata": {
            "needs_background": "light"
          }
        }
      ]
    },
    {
      "cell_type": "markdown",
      "source": [
        "### Unfreeze more layers"
      ],
      "metadata": {
        "id": "lAhrClKNmg9E"
      }
    },
    {
      "cell_type": "code",
      "source": [
        "base_model.trainable = True\n",
        "\n",
        "# Freeze all layers except for the \n",
        "for layer in base_model.layers[:-15]:\n",
        "  layer.trainable = False\n",
        "\n",
        "# compile the model\n",
        "model_en2.compile(loss='binary_crossentropy',\n",
        "                 optimizer=tf.keras.optimizers.Adam(lr=0.0001),\n",
        "                 metrics=['accuracy'])\n",
        "\n",
        "# define callbacks\n",
        "callbacks = [\n",
        "    keras.callbacks.ModelCheckpoint(\n",
        "        filepath='en2_fine_tuning_more_layers.keras',\n",
        "        save_best_only=True,\n",
        "        monitor='val_loss'\n",
        "    )\n",
        "]\n",
        "\n",
        "# fit the model\n",
        "history_en2_fine_tuning_more_layers = model_en2.fit(train_dataset,\n",
        "                          epochs=50,\n",
        "                          validation_data=val_dataset,\n",
        "                          callbacks=[callbacks])\n",
        "\n",
        "# plot\n",
        "plot_history(history_en2_fine_tuning_more_layers)\n",
        "\n",
        "# Evaluate on the test set\n",
        "test_en_model = keras.models.load_model('en2_fine_tuning_more_layers.keras')\n",
        "loss, acc = test_en_model.evaluate(test_dataset)\n",
        "print(f'Test accuracy: {acc:.3f}')"
      ],
      "metadata": {
        "colab": {
          "base_uri": "https://localhost:8080/",
          "height": 1000
        },
        "id": "NTM1ij1Xmhbj",
        "outputId": "0ad33f83-60c4-425f-d185-354188e859a4"
      },
      "execution_count": null,
      "outputs": [
        {
          "output_type": "stream",
          "name": "stdout",
          "text": [
            "Epoch 1/50\n"
          ]
        },
        {
          "output_type": "stream",
          "name": "stderr",
          "text": [
            "/usr/local/lib/python3.7/dist-packages/keras/optimizer_v2/adam.py:105: UserWarning: The `lr` argument is deprecated, use `learning_rate` instead.\n",
            "  super(Adam, self).__init__(name, **kwargs)\n"
          ]
        },
        {
          "output_type": "stream",
          "name": "stdout",
          "text": [
            "39/39 [==============================] - 17s 240ms/step - loss: 0.2902 - accuracy: 0.9089 - val_loss: 0.0985 - val_accuracy: 0.9700\n",
            "Epoch 2/50\n",
            "39/39 [==============================] - 9s 193ms/step - loss: 0.0521 - accuracy: 0.9844 - val_loss: 0.0765 - val_accuracy: 0.9600\n",
            "Epoch 3/50\n",
            "39/39 [==============================] - 9s 195ms/step - loss: 0.0281 - accuracy: 0.9943 - val_loss: 0.0483 - val_accuracy: 0.9800\n",
            "Epoch 4/50\n",
            "39/39 [==============================] - 9s 195ms/step - loss: 0.0234 - accuracy: 0.9934 - val_loss: 0.0433 - val_accuracy: 0.9850\n",
            "Epoch 5/50\n",
            "39/39 [==============================] - 9s 213ms/step - loss: 0.0167 - accuracy: 0.9967 - val_loss: 0.0440 - val_accuracy: 0.9850\n",
            "Epoch 6/50\n",
            "39/39 [==============================] - 9s 193ms/step - loss: 0.0067 - accuracy: 1.0000 - val_loss: 0.0370 - val_accuracy: 0.9850\n",
            "Epoch 7/50\n",
            "39/39 [==============================] - 9s 193ms/step - loss: 0.0047 - accuracy: 1.0000 - val_loss: 0.0335 - val_accuracy: 0.9850\n",
            "Epoch 8/50\n",
            "39/39 [==============================] - 8s 179ms/step - loss: 0.0034 - accuracy: 1.0000 - val_loss: 0.0528 - val_accuracy: 0.9850\n",
            "Epoch 9/50\n",
            "39/39 [==============================] - 8s 192ms/step - loss: 0.0032 - accuracy: 1.0000 - val_loss: 0.0321 - val_accuracy: 0.9950\n",
            "Epoch 10/50\n",
            "39/39 [==============================] - 8s 180ms/step - loss: 0.0020 - accuracy: 1.0000 - val_loss: 0.0345 - val_accuracy: 0.9850\n",
            "Epoch 11/50\n",
            "39/39 [==============================] - 8s 182ms/step - loss: 0.0017 - accuracy: 1.0000 - val_loss: 0.0333 - val_accuracy: 0.9900\n",
            "Epoch 12/50\n",
            "39/39 [==============================] - 9s 194ms/step - loss: 0.0014 - accuracy: 1.0000 - val_loss: 0.0298 - val_accuracy: 0.9950\n",
            "Epoch 13/50\n",
            "39/39 [==============================] - 8s 182ms/step - loss: 0.0012 - accuracy: 1.0000 - val_loss: 0.0313 - val_accuracy: 0.9900\n",
            "Epoch 14/50\n",
            "39/39 [==============================] - 8s 180ms/step - loss: 9.6950e-04 - accuracy: 1.0000 - val_loss: 0.0343 - val_accuracy: 0.9850\n",
            "Epoch 15/50\n",
            "39/39 [==============================] - 8s 180ms/step - loss: 9.1646e-04 - accuracy: 1.0000 - val_loss: 0.0338 - val_accuracy: 0.9850\n",
            "Epoch 16/50\n",
            "39/39 [==============================] - 8s 181ms/step - loss: 7.6269e-04 - accuracy: 1.0000 - val_loss: 0.0366 - val_accuracy: 0.9850\n",
            "Epoch 17/50\n",
            "39/39 [==============================] - 8s 181ms/step - loss: 6.6936e-04 - accuracy: 1.0000 - val_loss: 0.0364 - val_accuracy: 0.9850\n",
            "Epoch 18/50\n",
            "39/39 [==============================] - 8s 181ms/step - loss: 6.3562e-04 - accuracy: 1.0000 - val_loss: 0.0339 - val_accuracy: 0.9900\n",
            "Epoch 19/50\n",
            "39/39 [==============================] - 8s 181ms/step - loss: 5.0970e-04 - accuracy: 1.0000 - val_loss: 0.0386 - val_accuracy: 0.9850\n",
            "Epoch 20/50\n",
            "39/39 [==============================] - 9s 214ms/step - loss: 5.4974e-04 - accuracy: 1.0000 - val_loss: 0.0322 - val_accuracy: 0.9900\n",
            "Epoch 21/50\n",
            "39/39 [==============================] - 8s 181ms/step - loss: 4.2106e-04 - accuracy: 1.0000 - val_loss: 0.0319 - val_accuracy: 0.9900\n",
            "Epoch 22/50\n",
            "39/39 [==============================] - 8s 192ms/step - loss: 3.7754e-04 - accuracy: 1.0000 - val_loss: 0.0297 - val_accuracy: 0.9950\n",
            "Epoch 23/50\n",
            "39/39 [==============================] - 8s 181ms/step - loss: 3.3183e-04 - accuracy: 1.0000 - val_loss: 0.0324 - val_accuracy: 0.9900\n",
            "Epoch 24/50\n",
            "39/39 [==============================] - 9s 205ms/step - loss: 3.0511e-04 - accuracy: 1.0000 - val_loss: 0.0314 - val_accuracy: 0.9900\n",
            "Epoch 25/50\n",
            "39/39 [==============================] - 8s 181ms/step - loss: 2.7974e-04 - accuracy: 1.0000 - val_loss: 0.0363 - val_accuracy: 0.9850\n",
            "Epoch 26/50\n",
            "39/39 [==============================] - 8s 181ms/step - loss: 2.9758e-04 - accuracy: 1.0000 - val_loss: 0.0323 - val_accuracy: 0.9900\n",
            "Epoch 27/50\n",
            "39/39 [==============================] - 8s 181ms/step - loss: 2.3862e-04 - accuracy: 1.0000 - val_loss: 0.0307 - val_accuracy: 0.9900\n",
            "Epoch 28/50\n",
            "39/39 [==============================] - 8s 180ms/step - loss: 2.1269e-04 - accuracy: 1.0000 - val_loss: 0.0314 - val_accuracy: 0.9900\n",
            "Epoch 29/50\n",
            "39/39 [==============================] - 8s 179ms/step - loss: 2.0387e-04 - accuracy: 1.0000 - val_loss: 0.0306 - val_accuracy: 0.9950\n",
            "Epoch 30/50\n",
            "39/39 [==============================] - 8s 182ms/step - loss: 1.9001e-04 - accuracy: 1.0000 - val_loss: 0.0313 - val_accuracy: 0.9900\n",
            "Epoch 31/50\n",
            "39/39 [==============================] - 8s 180ms/step - loss: 1.7640e-04 - accuracy: 1.0000 - val_loss: 0.0320 - val_accuracy: 0.9900\n",
            "Epoch 32/50\n",
            "39/39 [==============================] - 8s 179ms/step - loss: 1.6758e-04 - accuracy: 1.0000 - val_loss: 0.0316 - val_accuracy: 0.9900\n",
            "Epoch 33/50\n",
            "39/39 [==============================] - 8s 181ms/step - loss: 1.5723e-04 - accuracy: 1.0000 - val_loss: 0.0318 - val_accuracy: 0.9900\n",
            "Epoch 34/50\n",
            "39/39 [==============================] - 8s 180ms/step - loss: 1.4219e-04 - accuracy: 1.0000 - val_loss: 0.0316 - val_accuracy: 0.9900\n",
            "Epoch 35/50\n",
            "39/39 [==============================] - 8s 180ms/step - loss: 1.3239e-04 - accuracy: 1.0000 - val_loss: 0.0299 - val_accuracy: 0.9950\n",
            "Epoch 36/50\n",
            "39/39 [==============================] - 8s 179ms/step - loss: 1.2196e-04 - accuracy: 1.0000 - val_loss: 0.0319 - val_accuracy: 0.9900\n",
            "Epoch 37/50\n",
            "39/39 [==============================] - 8s 181ms/step - loss: 1.1980e-04 - accuracy: 1.0000 - val_loss: 0.0317 - val_accuracy: 0.9900\n",
            "Epoch 38/50\n",
            "39/39 [==============================] - 8s 182ms/step - loss: 1.0876e-04 - accuracy: 1.0000 - val_loss: 0.0305 - val_accuracy: 0.9900\n",
            "Epoch 39/50\n",
            "39/39 [==============================] - 8s 182ms/step - loss: 1.0533e-04 - accuracy: 1.0000 - val_loss: 0.0330 - val_accuracy: 0.9900\n",
            "Epoch 40/50\n",
            "39/39 [==============================] - 8s 181ms/step - loss: 1.0448e-04 - accuracy: 1.0000 - val_loss: 0.0316 - val_accuracy: 0.9900\n",
            "Epoch 41/50\n",
            "39/39 [==============================] - 8s 180ms/step - loss: 1.0019e-04 - accuracy: 1.0000 - val_loss: 0.0297 - val_accuracy: 0.9950\n",
            "Epoch 42/50\n",
            "39/39 [==============================] - 8s 179ms/step - loss: 8.6709e-05 - accuracy: 1.0000 - val_loss: 0.0316 - val_accuracy: 0.9900\n",
            "Epoch 43/50\n",
            "39/39 [==============================] - 8s 181ms/step - loss: 8.0701e-05 - accuracy: 1.0000 - val_loss: 0.0311 - val_accuracy: 0.9900\n",
            "Epoch 44/50\n",
            "39/39 [==============================] - 8s 180ms/step - loss: 7.8271e-05 - accuracy: 1.0000 - val_loss: 0.0309 - val_accuracy: 0.9900\n",
            "Epoch 45/50\n",
            "39/39 [==============================] - 8s 181ms/step - loss: 7.4895e-05 - accuracy: 1.0000 - val_loss: 0.0306 - val_accuracy: 0.9900\n",
            "Epoch 46/50\n",
            "39/39 [==============================] - 8s 181ms/step - loss: 6.9246e-05 - accuracy: 1.0000 - val_loss: 0.0313 - val_accuracy: 0.9900\n",
            "Epoch 47/50\n",
            "39/39 [==============================] - 8s 181ms/step - loss: 6.8049e-05 - accuracy: 1.0000 - val_loss: 0.0313 - val_accuracy: 0.9900\n",
            "Epoch 48/50\n",
            "39/39 [==============================] - 10s 231ms/step - loss: 6.4553e-05 - accuracy: 1.0000 - val_loss: 0.0296 - val_accuracy: 0.9950\n",
            "Epoch 49/50\n",
            "39/39 [==============================] - 8s 181ms/step - loss: 5.9554e-05 - accuracy: 1.0000 - val_loss: 0.0304 - val_accuracy: 0.9950\n",
            "Epoch 50/50\n",
            "39/39 [==============================] - 8s 180ms/step - loss: 5.7225e-05 - accuracy: 1.0000 - val_loss: 0.0304 - val_accuracy: 0.9950\n",
            "7/7 [==============================] - 3s 91ms/step - loss: 0.0673 - accuracy: 0.9850\n",
            "Test accuracy: 0.985\n"
          ]
        },
        {
          "output_type": "display_data",
          "data": {
            "text/plain": [
              "<Figure size 432x288 with 1 Axes>"
            ],
            "image/png": "[encoded data removed]"
          },
          "metadata": {
            "needs_background": "light"
          }
        },
        {
          "output_type": "display_data",
          "data": {
            "text/plain": [
              "<Figure size 432x288 with 1 Axes>"
            ],
            "image/png": "[encoded data removed]"
          },
          "metadata": {
            "needs_background": "light"
          }
        }
      ]
    },
    {
      "cell_type": "markdown",
      "source": [
        "## EfficientNetB3"
      ],
      "metadata": {
        "id": "_LoLs9dWhcF5"
      }
    },
    {
      "cell_type": "markdown",
      "source": [
        "### Feature extraction"
      ],
      "metadata": {
        "id": "sS8g_nQhhhka"
      }
    },
    {
      "cell_type": "code",
      "source": [
        "base_model = tf.keras.applications.EfficientNetB3(include_top=False)\n",
        "\n",
        "base_model.trainable = False\n",
        "\n",
        "inputs = tf.keras.layers.Input(shape=(224, 224, 3))\n",
        "x = data_augmentation(inputs)\n",
        "x = base_model(inputs, training=False)\n",
        "x = tf.keras.layers.GlobalAveragePooling2D()(x)\n",
        "outputs = tf.keras.layers.Dense(1, activation='sigmoid')(x)\n",
        "model_en3 = tf.keras.Model(inputs, outputs)\n",
        "\n",
        "# compile the model\n",
        "model_en3.compile(loss='binary_crossentropy',\n",
        "                 optimizer='adam',\n",
        "                 metrics=['accuracy'])\n",
        "\n",
        "# define callbacks\n",
        "callbacks = [\n",
        "    keras.callbacks.ModelCheckpoint(\n",
        "        filepath='en3_feature_extraction.keras',\n",
        "        save_best_only=True,\n",
        "        monitor='val_loss'\n",
        "    )\n",
        "]\n",
        "\n",
        "# fit the model\n",
        "history_en3 = model_en3.fit(train_dataset,\n",
        "                          epochs=30,\n",
        "                          validation_data=val_dataset,\n",
        "                          callbacks=[callbacks, early_stopping])\n",
        "\n",
        "# plot\n",
        "plot_history(history_en3)\n",
        "\n",
        "# Evaluate\n",
        "test_en_model = keras.models.load_model('en3_feature_extraction.keras')\n",
        "loss, acc = test_en_model.evaluate(test_dataset)\n",
        "print(f'Test accuracy: {acc:.3f}')"
      ],
      "metadata": {
        "colab": {
          "base_uri": "https://localhost:8080/",
          "height": 1000
        },
        "id": "YI2v3jjZhdnz",
        "outputId": "bcd5ec0f-888e-474e-8b0f-fc8ee0f20072"
      },
      "execution_count": null,
      "outputs": [
        {
          "output_type": "stream",
          "name": "stdout",
          "text": [
            "Downloading data from https://storage.googleapis.com/keras-applications/efficientnetb3_notop.h5\n",
            "43941888/43941136 [==============================] - 1s 0us/step\n",
            "43950080/43941136 [==============================] - 1s 0us/step\n",
            "Epoch 1/30\n",
            "39/39 [==============================] - 21s 305ms/step - loss: 0.4299 - accuracy: 0.8663 - val_loss: 0.3350 - val_accuracy: 0.8950\n",
            "Epoch 2/30\n",
            "39/39 [==============================] - 9s 208ms/step - loss: 0.2233 - accuracy: 0.9590 - val_loss: 0.2482 - val_accuracy: 0.9400\n",
            "Epoch 3/30\n",
            "39/39 [==============================] - 9s 203ms/step - loss: 0.1631 - accuracy: 0.9647 - val_loss: 0.2033 - val_accuracy: 0.9450\n",
            "Epoch 4/30\n",
            "39/39 [==============================] - 9s 201ms/step - loss: 0.1316 - accuracy: 0.9721 - val_loss: 0.1758 - val_accuracy: 0.9500\n",
            "Epoch 5/30\n",
            "39/39 [==============================] - 9s 202ms/step - loss: 0.1106 - accuracy: 0.9754 - val_loss: 0.1578 - val_accuracy: 0.9550\n",
            "Epoch 6/30\n",
            "39/39 [==============================] - 9s 202ms/step - loss: 0.0965 - accuracy: 0.9787 - val_loss: 0.1425 - val_accuracy: 0.9700\n",
            "Epoch 7/30\n",
            "39/39 [==============================] - 11s 257ms/step - loss: 0.0859 - accuracy: 0.9803 - val_loss: 0.1315 - val_accuracy: 0.9750\n",
            "Epoch 8/30\n",
            "39/39 [==============================] - 12s 270ms/step - loss: 0.0767 - accuracy: 0.9811 - val_loss: 0.1226 - val_accuracy: 0.9700\n",
            "Epoch 9/30\n",
            "39/39 [==============================] - 11s 250ms/step - loss: 0.0698 - accuracy: 0.9844 - val_loss: 0.1165 - val_accuracy: 0.9700\n",
            "Epoch 10/30\n",
            "39/39 [==============================] - 9s 201ms/step - loss: 0.0639 - accuracy: 0.9869 - val_loss: 0.1096 - val_accuracy: 0.9750\n",
            "Epoch 11/30\n",
            "39/39 [==============================] - 9s 202ms/step - loss: 0.0597 - accuracy: 0.9877 - val_loss: 0.1056 - val_accuracy: 0.9750\n",
            "Epoch 12/30\n",
            "39/39 [==============================] - 11s 220ms/step - loss: 0.0572 - accuracy: 0.9910 - val_loss: 0.1005 - val_accuracy: 0.9700\n",
            "Epoch 13/30\n",
            "39/39 [==============================] - 13s 265ms/step - loss: 0.0512 - accuracy: 0.9893 - val_loss: 0.0969 - val_accuracy: 0.9700\n",
            "Epoch 14/30\n",
            "39/39 [==============================] - 9s 203ms/step - loss: 0.0478 - accuracy: 0.9918 - val_loss: 0.0926 - val_accuracy: 0.9750\n",
            "Epoch 15/30\n",
            "39/39 [==============================] - 9s 202ms/step - loss: 0.0451 - accuracy: 0.9926 - val_loss: 0.0914 - val_accuracy: 0.9700\n",
            "Epoch 16/30\n",
            "39/39 [==============================] - 8s 188ms/step - loss: 0.0427 - accuracy: 0.9934 - val_loss: 0.0925 - val_accuracy: 0.9700\n",
            "Epoch 17/30\n",
            "39/39 [==============================] - 9s 202ms/step - loss: 0.0401 - accuracy: 0.9943 - val_loss: 0.0902 - val_accuracy: 0.9700\n",
            "Epoch 18/30\n",
            "39/39 [==============================] - 9s 202ms/step - loss: 0.0380 - accuracy: 0.9951 - val_loss: 0.0885 - val_accuracy: 0.9700\n",
            "Epoch 19/30\n",
            "39/39 [==============================] - 9s 202ms/step - loss: 0.0363 - accuracy: 0.9967 - val_loss: 0.0879 - val_accuracy: 0.9700\n",
            "Epoch 20/30\n",
            "39/39 [==============================] - 9s 201ms/step - loss: 0.0343 - accuracy: 0.9967 - val_loss: 0.0838 - val_accuracy: 0.9700\n",
            "Epoch 21/30\n",
            "39/39 [==============================] - 8s 187ms/step - loss: 0.0329 - accuracy: 0.9992 - val_loss: 0.0849 - val_accuracy: 0.9700\n",
            "Epoch 22/30\n",
            "39/39 [==============================] - 9s 199ms/step - loss: 0.0314 - accuracy: 0.9975 - val_loss: 0.0841 - val_accuracy: 0.9700\n",
            "Epoch 23/30\n",
            "39/39 [==============================] - 9s 201ms/step - loss: 0.0301 - accuracy: 0.9975 - val_loss: 0.0820 - val_accuracy: 0.9700\n",
            "Epoch 24/30\n",
            "39/39 [==============================] - 9s 202ms/step - loss: 0.0289 - accuracy: 0.9984 - val_loss: 0.0807 - val_accuracy: 0.9700\n",
            "Epoch 25/30\n",
            "39/39 [==============================] - 9s 202ms/step - loss: 0.0278 - accuracy: 0.9992 - val_loss: 0.0801 - val_accuracy: 0.9700\n",
            "Epoch 26/30\n",
            "39/39 [==============================] - 9s 201ms/step - loss: 0.0265 - accuracy: 0.9984 - val_loss: 0.0776 - val_accuracy: 0.9750\n",
            "Epoch 27/30\n",
            "39/39 [==============================] - 10s 234ms/step - loss: 0.0258 - accuracy: 0.9992 - val_loss: 0.0774 - val_accuracy: 0.9750\n",
            "Epoch 28/30\n",
            "39/39 [==============================] - 9s 189ms/step - loss: 0.0246 - accuracy: 0.9992 - val_loss: 0.0775 - val_accuracy: 0.9750\n",
            "Epoch 29/30\n",
            "39/39 [==============================] - 10s 239ms/step - loss: 0.0236 - accuracy: 1.0000 - val_loss: 0.0770 - val_accuracy: 0.9750\n",
            "Epoch 30/30\n",
            "39/39 [==============================] - 9s 203ms/step - loss: 0.0228 - accuracy: 0.9984 - val_loss: 0.0754 - val_accuracy: 0.9750\n",
            "7/7 [==============================] - 4s 109ms/step - loss: 0.0547 - accuracy: 0.9800\n",
            "Test accuracy: 0.980\n"
          ]
        },
        {
          "output_type": "display_data",
          "data": {
            "text/plain": [
              "<Figure size 432x288 with 1 Axes>"
            ],
            "image/png": "[encoded data removed]"
          },
          "metadata": {
            "needs_background": "light"
          }
        },
        {
          "output_type": "display_data",
          "data": {
            "text/plain": [
              "<Figure size 432x288 with 1 Axes>"
            ],
            "image/png": "[encoded data removed]"
          },
          "metadata": {
            "needs_background": "light"
          }
        }
      ]
    },
    {
      "cell_type": "markdown",
      "source": [
        "### Fine-tuning"
      ],
      "metadata": {
        "id": "uYKkbA68iREZ"
      }
    },
    {
      "cell_type": "code",
      "source": [
        "base_model.trainable = True\n",
        "\n",
        "# Freeze all layers except for the \n",
        "for layer in base_model.layers[:-10]:\n",
        "  layer.trainable = False\n",
        "\n",
        "# compile the model\n",
        "model_en3.compile(loss='binary_crossentropy',\n",
        "                 optimizer=tf.keras.optimizers.Adam(lr=0.0001),\n",
        "                 metrics=['accuracy'])\n",
        "\n",
        "# define callbacks\n",
        "callbacks = [\n",
        "    keras.callbacks.ModelCheckpoint(\n",
        "        filepath='en3_fine_tuning.keras',\n",
        "        save_best_only=True,\n",
        "        monitor='val_loss'\n",
        "    )\n",
        "]\n",
        "\n",
        "# fit the model\n",
        "history_en3_fine_tuning = model_en3.fit(train_dataset,\n",
        "                          epochs=20,\n",
        "                          validation_data=val_dataset,\n",
        "                          callbacks=[callbacks])\n",
        "\n",
        "# plot\n",
        "plot_history(history_en3_fine_tuning)\n",
        "\n",
        "# Evaluate on the test set\n",
        "test_en_model = keras.models.load_model('en3_fine_tuning.keras')\n",
        "loss, acc = test_en_model.evaluate(test_dataset)\n",
        "print(f'Test accuracy: {acc:.3f}')"
      ],
      "metadata": {
        "colab": {
          "base_uri": "https://localhost:8080/",
          "height": 1000
        },
        "id": "iXlqZYu2iTl2",
        "outputId": "12ff0943-2967-40f9-83e7-681898563ecb"
      },
      "execution_count": null,
      "outputs": [
        {
          "output_type": "stream",
          "name": "stdout",
          "text": [
            "Epoch 1/20\n"
          ]
        },
        {
          "output_type": "stream",
          "name": "stderr",
          "text": [
            "/usr/local/lib/python3.7/dist-packages/keras/optimizer_v2/adam.py:105: UserWarning: The `lr` argument is deprecated, use `learning_rate` instead.\n",
            "  super(Adam, self).__init__(name, **kwargs)\n"
          ]
        },
        {
          "output_type": "stream",
          "name": "stdout",
          "text": [
            "39/39 [==============================] - 20s 262ms/step - loss: 0.0179 - accuracy: 0.9967 - val_loss: 0.0564 - val_accuracy: 0.9800\n",
            "Epoch 2/20\n",
            "39/39 [==============================] - 9s 204ms/step - loss: 0.0093 - accuracy: 0.9975 - val_loss: 0.0507 - val_accuracy: 0.9800\n",
            "Epoch 3/20\n",
            "39/39 [==============================] - 8s 190ms/step - loss: 0.0099 - accuracy: 0.9975 - val_loss: 0.0632 - val_accuracy: 0.9800\n",
            "Epoch 4/20\n",
            "39/39 [==============================] - 8s 190ms/step - loss: 0.0027 - accuracy: 1.0000 - val_loss: 0.0667 - val_accuracy: 0.9800\n",
            "Epoch 5/20\n",
            "39/39 [==============================] - 8s 189ms/step - loss: 0.0014 - accuracy: 1.0000 - val_loss: 0.0656 - val_accuracy: 0.9800\n",
            "Epoch 6/20\n",
            "39/39 [==============================] - 8s 191ms/step - loss: 7.8148e-04 - accuracy: 1.0000 - val_loss: 0.0655 - val_accuracy: 0.9800\n",
            "Epoch 7/20\n",
            "39/39 [==============================] - 8s 191ms/step - loss: 6.2308e-04 - accuracy: 1.0000 - val_loss: 0.0660 - val_accuracy: 0.9800\n",
            "Epoch 8/20\n",
            "39/39 [==============================] - 8s 191ms/step - loss: 4.3295e-04 - accuracy: 1.0000 - val_loss: 0.0729 - val_accuracy: 0.9750\n",
            "Epoch 9/20\n",
            "39/39 [==============================] - 9s 191ms/step - loss: 3.5628e-04 - accuracy: 1.0000 - val_loss: 0.0684 - val_accuracy: 0.9750\n",
            "Epoch 10/20\n",
            "39/39 [==============================] - 8s 191ms/step - loss: 2.7777e-04 - accuracy: 1.0000 - val_loss: 0.0718 - val_accuracy: 0.9750\n",
            "Epoch 11/20\n",
            "39/39 [==============================] - 8s 190ms/step - loss: 2.2532e-04 - accuracy: 1.0000 - val_loss: 0.0712 - val_accuracy: 0.9750\n",
            "Epoch 12/20\n",
            "39/39 [==============================] - 8s 191ms/step - loss: 2.0142e-04 - accuracy: 1.0000 - val_loss: 0.0713 - val_accuracy: 0.9750\n",
            "Epoch 13/20\n",
            "39/39 [==============================] - 8s 190ms/step - loss: 1.5782e-04 - accuracy: 1.0000 - val_loss: 0.0699 - val_accuracy: 0.9750\n",
            "Epoch 14/20\n",
            "39/39 [==============================] - 8s 191ms/step - loss: 1.3827e-04 - accuracy: 1.0000 - val_loss: 0.0706 - val_accuracy: 0.9800\n",
            "Epoch 15/20\n",
            "39/39 [==============================] - 8s 190ms/step - loss: 1.1966e-04 - accuracy: 1.0000 - val_loss: 0.0735 - val_accuracy: 0.9750\n",
            "Epoch 16/20\n",
            "39/39 [==============================] - 8s 190ms/step - loss: 1.0804e-04 - accuracy: 1.0000 - val_loss: 0.0751 - val_accuracy: 0.9750\n",
            "Epoch 17/20\n",
            "39/39 [==============================] - 8s 191ms/step - loss: 9.2608e-05 - accuracy: 1.0000 - val_loss: 0.0738 - val_accuracy: 0.9750\n",
            "Epoch 18/20\n",
            "39/39 [==============================] - 9s 192ms/step - loss: 8.3366e-05 - accuracy: 1.0000 - val_loss: 0.0778 - val_accuracy: 0.9750\n",
            "Epoch 19/20\n",
            "39/39 [==============================] - 8s 190ms/step - loss: 7.3793e-05 - accuracy: 1.0000 - val_loss: 0.0749 - val_accuracy: 0.9750\n",
            "Epoch 20/20\n",
            "39/39 [==============================] - 9s 193ms/step - loss: 6.5097e-05 - accuracy: 1.0000 - val_loss: 0.0790 - val_accuracy: 0.9750\n",
            "7/7 [==============================] - 4s 111ms/step - loss: 0.0451 - accuracy: 0.9800\n",
            "Test accuracy: 0.980\n"
          ]
        },
        {
          "output_type": "display_data",
          "data": {
            "text/plain": [
              "<Figure size 432x288 with 1 Axes>"
            ],
            "image/png": "[encoded data removed]"
          },
          "metadata": {
            "needs_background": "light"
          }
        },
        {
          "output_type": "display_data",
          "data": {
            "text/plain": [
              "<Figure size 432x288 with 1 Axes>"
            ],
            "image/png": "[encoded data removed]"
          },
          "metadata": {
            "needs_background": "light"
          }
        }
      ]
    },
    {
      "cell_type": "markdown",
      "source": [
        "### Fine-tuning more layers"
      ],
      "metadata": {
        "id": "Jg3wa1-drUUx"
      }
    },
    {
      "cell_type": "code",
      "source": [
        "base_model.trainable = True\n",
        "\n",
        "# Freeze all layers except for the \n",
        "for layer in base_model.layers[:-15]:\n",
        "  layer.trainable = False\n",
        "\n",
        "# compile the model\n",
        "model_en3.compile(loss='binary_crossentropy',\n",
        "                 optimizer=tf.keras.optimizers.Adam(lr=0.0001),\n",
        "                 metrics=['accuracy'])\n",
        "\n",
        "# define callbacks\n",
        "callbacks = [\n",
        "    keras.callbacks.ModelCheckpoint(\n",
        "        filepath='en3_fine_tuning_more_layers.keras',\n",
        "        save_best_only=True,\n",
        "        monitor='val_loss'\n",
        "    )\n",
        "]\n",
        "\n",
        "# fit the model\n",
        "history_en3_fine_tuning_more_layers = model_en3.fit(train_dataset, epochs=50, validation_data=val_dataset, callbacks=[callbacks],\n",
        "                                                    verbose=2)\n",
        "\n",
        "# plot\n",
        "plot_history(history_en3_fine_tuning_more_layers)\n",
        "\n",
        "# Evaluate on the test set\n",
        "test_en_model = keras.models.load_model('en3_fine_tuning_more_layers.keras')\n",
        "loss, acc = test_en_model.evaluate(test_dataset)\n",
        "print(f'Test accuracy: {acc:.3f}')"
      ],
      "metadata": {
        "colab": {
          "base_uri": "https://localhost:8080/"
        },
        "id": "lFkq4rIUrWvt",
        "outputId": "267e6e48-421e-42d3-e371-4baab018fb09"
      },
      "execution_count": null,
      "outputs": [
        {
          "output_type": "stream",
          "name": "stdout",
          "text": [
            "Epoch 1/50\n"
          ]
        },
        {
          "output_type": "stream",
          "name": "stderr",
          "text": [
            "/usr/local/lib/python3.7/dist-packages/keras/optimizer_v2/adam.py:105: UserWarning: The `lr` argument is deprecated, use `learning_rate` instead.\n",
            "  super(Adam, self).__init__(name, **kwargs)\n"
          ]
        },
        {
          "output_type": "stream",
          "name": "stdout",
          "text": [
            "39/39 - 19s - loss: 7.7909e-04 - accuracy: 1.0000 - val_loss: 0.1720 - val_accuracy: 0.9650 - 19s/epoch - 484ms/step\n",
            "Epoch 2/50\n",
            "39/39 - 9s - loss: 0.0034 - accuracy: 0.9984 - val_loss: 0.0731 - val_accuracy: 0.9750 - 9s/epoch - 231ms/step\n",
            "Epoch 3/50\n",
            "39/39 - 8s - loss: 0.0032 - accuracy: 0.9992 - val_loss: 0.1215 - val_accuracy: 0.9750 - 8s/epoch - 216ms/step\n",
            "Epoch 4/50\n",
            "39/39 - 8s - loss: 2.6722e-04 - accuracy: 1.0000 - val_loss: 0.1466 - val_accuracy: 0.9700 - 8s/epoch - 217ms/step\n",
            "Epoch 5/50\n",
            "39/39 - 8s - loss: 9.5875e-05 - accuracy: 1.0000 - val_loss: 0.1234 - val_accuracy: 0.9700 - 8s/epoch - 216ms/step\n",
            "Epoch 6/50\n",
            "39/39 - 8s - loss: 6.4737e-05 - accuracy: 1.0000 - val_loss: 0.1214 - val_accuracy: 0.9700 - 8s/epoch - 215ms/step\n",
            "Epoch 7/50\n",
            "39/39 - 9s - loss: 5.6776e-05 - accuracy: 1.0000 - val_loss: 0.1216 - val_accuracy: 0.9700 - 9s/epoch - 242ms/step\n",
            "Epoch 8/50\n",
            "39/39 - 8s - loss: 5.0662e-05 - accuracy: 1.0000 - val_loss: 0.1208 - val_accuracy: 0.9700 - 8s/epoch - 215ms/step\n",
            "Epoch 9/50\n",
            "39/39 - 10s - loss: 4.6128e-05 - accuracy: 1.0000 - val_loss: 0.1220 - val_accuracy: 0.9700 - 10s/epoch - 252ms/step\n",
            "Epoch 10/50\n",
            "39/39 - 10s - loss: 4.1409e-05 - accuracy: 1.0000 - val_loss: 0.1193 - val_accuracy: 0.9700 - 10s/epoch - 244ms/step\n",
            "Epoch 11/50\n",
            "39/39 - 8s - loss: 3.6953e-05 - accuracy: 1.0000 - val_loss: 0.1187 - val_accuracy: 0.9700 - 8s/epoch - 216ms/step\n",
            "Epoch 12/50\n",
            "39/39 - 8s - loss: 3.3754e-05 - accuracy: 1.0000 - val_loss: 0.1203 - val_accuracy: 0.9700 - 8s/epoch - 215ms/step\n",
            "Epoch 13/50\n"
          ]
        }
      ]
    },
    {
      "cell_type": "markdown",
      "source": [
        "## EfficientNetB4"
      ],
      "metadata": {
        "id": "FJTDANrHk0dt"
      }
    },
    {
      "cell_type": "markdown",
      "source": [
        "### Feature extraction"
      ],
      "metadata": {
        "id": "jQNYWkZsk52P"
      }
    },
    {
      "cell_type": "code",
      "source": [
        "base_model = tf.keras.applications.EfficientNetB4(include_top=False)\n",
        "\n",
        "base_model.trainable = False\n",
        "\n",
        "inputs = tf.keras.layers.Input(shape=(224, 224, 3))\n",
        "x = data_augmentation(inputs)\n",
        "x = base_model(inputs, training=False)\n",
        "x = tf.keras.layers.GlobalAveragePooling2D()(x)\n",
        "outputs = tf.keras.layers.Dense(1, activation='sigmoid')(x)\n",
        "model_en4 = tf.keras.Model(inputs, outputs)\n",
        "\n",
        "# compile the model\n",
        "model_en4.compile(loss='binary_crossentropy',\n",
        "                 optimizer='adam',\n",
        "                 metrics=['accuracy'])\n",
        "\n",
        "# define callbacks\n",
        "callbacks = [\n",
        "    keras.callbacks.ModelCheckpoint(\n",
        "        filepath='en4_feature_extraction.keras',\n",
        "        save_best_only=True,\n",
        "        monitor='val_loss'\n",
        "    )\n",
        "]\n",
        "\n",
        "# fit the model\n",
        "history_en4 = model_en4.fit(train_dataset,\n",
        "                          epochs=40,\n",
        "                          validation_data=val_dataset,\n",
        "                          callbacks=[callbacks, early_stopping])\n",
        "\n",
        "# plot\n",
        "plot_history(history_en4)\n",
        "\n",
        "# Evaluate\n",
        "test_en_model = keras.models.load_model('en4_feature_extraction.keras')\n",
        "loss, acc = test_en_model.evaluate(test_dataset)\n",
        "print(f'Test accuracy: {acc:.3f}')"
      ],
      "metadata": {
        "colab": {
          "base_uri": "https://localhost:8080/",
          "height": 1000
        },
        "id": "Wu7ysHpQk2Xl",
        "outputId": "c14f249f-dd22-4d22-c8bc-bc693e25ad0f"
      },
      "execution_count": null,
      "outputs": [
        {
          "output_type": "stream",
          "name": "stdout",
          "text": [
            "Epoch 1/40\n",
            "39/39 [==============================] - 24s 315ms/step - loss: 0.4596 - accuracy: 0.8310 - val_loss: 0.4186 - val_accuracy: 0.8400\n",
            "Epoch 2/40\n",
            "39/39 [==============================] - 10s 225ms/step - loss: 0.3003 - accuracy: 0.9130 - val_loss: 0.3451 - val_accuracy: 0.8850\n",
            "Epoch 3/40\n",
            "39/39 [==============================] - 10s 224ms/step - loss: 0.2389 - accuracy: 0.9327 - val_loss: 0.3007 - val_accuracy: 0.9050\n",
            "Epoch 4/40\n",
            "39/39 [==============================] - 10s 225ms/step - loss: 0.2030 - accuracy: 0.9467 - val_loss: 0.2685 - val_accuracy: 0.9100\n",
            "Epoch 5/40\n",
            "39/39 [==============================] - 10s 240ms/step - loss: 0.1784 - accuracy: 0.9516 - val_loss: 0.2439 - val_accuracy: 0.9250\n",
            "Epoch 6/40\n",
            "39/39 [==============================] - 10s 226ms/step - loss: 0.1612 - accuracy: 0.9573 - val_loss: 0.2298 - val_accuracy: 0.9150\n",
            "Epoch 7/40\n",
            "39/39 [==============================] - 10s 227ms/step - loss: 0.1456 - accuracy: 0.9606 - val_loss: 0.2132 - val_accuracy: 0.9250\n",
            "Epoch 8/40\n",
            "39/39 [==============================] - 10s 230ms/step - loss: 0.1349 - accuracy: 0.9647 - val_loss: 0.2033 - val_accuracy: 0.9250\n",
            "Epoch 9/40\n",
            "39/39 [==============================] - 10s 228ms/step - loss: 0.1257 - accuracy: 0.9696 - val_loss: 0.1942 - val_accuracy: 0.9300\n",
            "Epoch 10/40\n",
            "39/39 [==============================] - 10s 228ms/step - loss: 0.1174 - accuracy: 0.9721 - val_loss: 0.1849 - val_accuracy: 0.9400\n",
            "Epoch 11/40\n",
            "39/39 [==============================] - 10s 229ms/step - loss: 0.1113 - accuracy: 0.9737 - val_loss: 0.1768 - val_accuracy: 0.9400\n",
            "Epoch 12/40\n",
            "39/39 [==============================] - 10s 228ms/step - loss: 0.1048 - accuracy: 0.9737 - val_loss: 0.1707 - val_accuracy: 0.9500\n",
            "Epoch 13/40\n",
            "39/39 [==============================] - 10s 228ms/step - loss: 0.1010 - accuracy: 0.9803 - val_loss: 0.1637 - val_accuracy: 0.9450\n",
            "Epoch 14/40\n",
            "39/39 [==============================] - 10s 231ms/step - loss: 0.0950 - accuracy: 0.9762 - val_loss: 0.1618 - val_accuracy: 0.9450\n",
            "Epoch 15/40\n",
            "39/39 [==============================] - 11s 231ms/step - loss: 0.0914 - accuracy: 0.9754 - val_loss: 0.1541 - val_accuracy: 0.9500\n",
            "Epoch 16/40\n",
            "39/39 [==============================] - 10s 229ms/step - loss: 0.0870 - accuracy: 0.9811 - val_loss: 0.1493 - val_accuracy: 0.9500\n",
            "Epoch 17/40\n",
            "39/39 [==============================] - 10s 229ms/step - loss: 0.0833 - accuracy: 0.9795 - val_loss: 0.1463 - val_accuracy: 0.9550\n",
            "Epoch 18/40\n",
            "39/39 [==============================] - 10s 229ms/step - loss: 0.0804 - accuracy: 0.9820 - val_loss: 0.1437 - val_accuracy: 0.9600\n",
            "Epoch 19/40\n",
            "39/39 [==============================] - 10s 229ms/step - loss: 0.0776 - accuracy: 0.9844 - val_loss: 0.1403 - val_accuracy: 0.9500\n",
            "Epoch 20/40\n",
            "39/39 [==============================] - 11s 254ms/step - loss: 0.0737 - accuracy: 0.9836 - val_loss: 0.1369 - val_accuracy: 0.9500\n",
            "Epoch 21/40\n",
            "39/39 [==============================] - 10s 229ms/step - loss: 0.0712 - accuracy: 0.9836 - val_loss: 0.1338 - val_accuracy: 0.9600\n",
            "Epoch 22/40\n",
            "39/39 [==============================] - 9s 213ms/step - loss: 0.0686 - accuracy: 0.9828 - val_loss: 0.1341 - val_accuracy: 0.9600\n",
            "Epoch 23/40\n",
            "39/39 [==============================] - 10s 230ms/step - loss: 0.0696 - accuracy: 0.9844 - val_loss: 0.1267 - val_accuracy: 0.9600\n",
            "Epoch 24/40\n",
            "39/39 [==============================] - 10s 229ms/step - loss: 0.0644 - accuracy: 0.9869 - val_loss: 0.1262 - val_accuracy: 0.9550\n",
            "Epoch 25/40\n",
            "39/39 [==============================] - 10s 231ms/step - loss: 0.0626 - accuracy: 0.9861 - val_loss: 0.1231 - val_accuracy: 0.9600\n",
            "Epoch 26/40\n",
            "39/39 [==============================] - 10s 231ms/step - loss: 0.0604 - accuracy: 0.9877 - val_loss: 0.1229 - val_accuracy: 0.9650\n",
            "Epoch 27/40\n",
            "39/39 [==============================] - 11s 270ms/step - loss: 0.0592 - accuracy: 0.9893 - val_loss: 0.1204 - val_accuracy: 0.9600\n",
            "Epoch 28/40\n",
            "39/39 [==============================] - 10s 229ms/step - loss: 0.0576 - accuracy: 0.9877 - val_loss: 0.1183 - val_accuracy: 0.9600\n",
            "Epoch 29/40\n",
            "39/39 [==============================] - 10s 229ms/step - loss: 0.0559 - accuracy: 0.9893 - val_loss: 0.1179 - val_accuracy: 0.9600\n",
            "Epoch 30/40\n",
            "39/39 [==============================] - 10s 228ms/step - loss: 0.0541 - accuracy: 0.9893 - val_loss: 0.1154 - val_accuracy: 0.9600\n",
            "Epoch 31/40\n",
            "39/39 [==============================] - 11s 247ms/step - loss: 0.0528 - accuracy: 0.9893 - val_loss: 0.1147 - val_accuracy: 0.9650\n",
            "Epoch 32/40\n",
            "39/39 [==============================] - 15s 338ms/step - loss: 0.0520 - accuracy: 0.9877 - val_loss: 0.1126 - val_accuracy: 0.9600\n",
            "Epoch 33/40\n",
            "39/39 [==============================] - 11s 258ms/step - loss: 0.0502 - accuracy: 0.9885 - val_loss: 0.1161 - val_accuracy: 0.9600\n",
            "Epoch 34/40\n",
            "39/39 [==============================] - 11s 230ms/step - loss: 0.0492 - accuracy: 0.9902 - val_loss: 0.1113 - val_accuracy: 0.9600\n",
            "Epoch 35/40\n",
            "39/39 [==============================] - 11s 250ms/step - loss: 0.0476 - accuracy: 0.9918 - val_loss: 0.1101 - val_accuracy: 0.9600\n",
            "Epoch 36/40\n",
            "39/39 [==============================] - 12s 277ms/step - loss: 0.0465 - accuracy: 0.9926 - val_loss: 0.1095 - val_accuracy: 0.9600\n",
            "Epoch 37/40\n",
            "39/39 [==============================] - 10s 229ms/step - loss: 0.0448 - accuracy: 0.9910 - val_loss: 0.1073 - val_accuracy: 0.9600\n",
            "Epoch 38/40\n",
            "39/39 [==============================] - 10s 230ms/step - loss: 0.0444 - accuracy: 0.9926 - val_loss: 0.1066 - val_accuracy: 0.9600\n",
            "Epoch 39/40\n",
            "39/39 [==============================] - 10s 231ms/step - loss: 0.0435 - accuracy: 0.9910 - val_loss: 0.1052 - val_accuracy: 0.9600\n",
            "Epoch 40/40\n",
            "39/39 [==============================] - 10s 228ms/step - loss: 0.0418 - accuracy: 0.9943 - val_loss: 0.1044 - val_accuracy: 0.9650\n",
            "7/7 [==============================] - 4s 142ms/step - loss: 0.0630 - accuracy: 0.9850\n",
            "Test accuracy: 0.985\n"
          ]
        },
        {
          "output_type": "display_data",
          "data": {
            "text/plain": [
              "<Figure size 432x288 with 1 Axes>"
            ],
            "image/png": "[encoded data removed]"
          },
          "metadata": {
            "needs_background": "light"
          }
        },
        {
          "output_type": "display_data",
          "data": {
            "text/plain": [
              "<Figure size 432x288 with 1 Axes>"
            ],
            "image/png": "[encoded data removed]"
          },
          "metadata": {
            "needs_background": "light"
          }
        }
      ]
    },
    {
      "cell_type": "markdown",
      "source": [
        "## Submit"
      ],
      "metadata": {
        "id": "L9PUGXnZYWrD"
      }
    },
    {
      "cell_type": "code",
      "source": [
        "# Submit with EfficientNetB1 feature extraction version\n",
        "submit_dir = new_base_dir/'submit'/'test'\n",
        "os.makedirs(submit_dir)"
      ],
      "metadata": {
        "id": "39hkgBjfXjY2"
      },
      "execution_count": null,
      "outputs": []
    },
    {
      "cell_type": "code",
      "source": [
        "for i in test_data_list:\n",
        "    shutil.copyfile(src=original_dir / i,\n",
        "                    dst=submit_dir / i )"
      ],
      "metadata": {
        "id": "V0A6VBbYYWEv"
      },
      "execution_count": null,
      "outputs": []
    },
    {
      "cell_type": "code",
      "source": [
        "submit_dataset = image_dataset_from_directory(\n",
        "    new_base_dir/'submit',\n",
        "    shuffle=False,\n",
        "    image_size=(224, 224),\n",
        "    batch_size=32)"
      ],
      "metadata": {
        "colab": {
          "base_uri": "https://localhost:8080/"
        },
        "id": "X1CXk9PBYslV",
        "outputId": "927b753a-11f3-4def-9e04-457f9bebae72"
      },
      "execution_count": null,
      "outputs": [
        {
          "output_type": "stream",
          "name": "stdout",
          "text": [
            "Found 1080 files belonging to 1 classes.\n"
          ]
        }
      ]
    },
    {
      "cell_type": "code",
      "source": [
        "best_model = keras.models.load_model('en2_fine_tuning.keras')\n",
        "pred_probs = best_model.predict(submit_dataset)"
      ],
      "metadata": {
        "id": "oiQXT8klYzuW"
      },
      "execution_count": null,
      "outputs": []
    },
    {
      "cell_type": "code",
      "source": [
        "pred_probs[:5]"
      ],
      "metadata": {
        "colab": {
          "base_uri": "https://localhost:8080/"
        },
        "id": "y_98pChNZSeh",
        "outputId": "ef0c3c10-aab3-4ebf-c7ad-454c51ef9fd5"
      },
      "execution_count": null,
      "outputs": [
        {
          "output_type": "execute_result",
          "data": {
            "text/plain": [
              "array([[9.4882288e-04],\n",
              "       [6.4329493e-11],\n",
              "       [1.0000000e+00],\n",
              "       [2.5655186e-07],\n",
              "       [1.1049058e-04]], dtype=float32)"
            ]
          },
          "metadata": {},
          "execution_count": 99
        }
      ]
    },
    {
      "cell_type": "code",
      "source": [
        "pred_labels = tf.where(pred_probs < 0.5, 0, 1)\n",
        "pred_labels[:5]"
      ],
      "metadata": {
        "colab": {
          "base_uri": "https://localhost:8080/"
        },
        "id": "kb2p6CdiZezT",
        "outputId": "8500235a-d18f-4aba-d738-30a36cb0554e"
      },
      "execution_count": null,
      "outputs": [
        {
          "output_type": "execute_result",
          "data": {
            "text/plain": [
              "<tf.Tensor: shape=(5, 1), dtype=int32, numpy=\n",
              "array([[0],\n",
              "       [0],\n",
              "       [1],\n",
              "       [0],\n",
              "       [0]], dtype=int32)>"
            ]
          },
          "metadata": {},
          "execution_count": 93
        }
      ]
    },
    {
      "cell_type": "code",
      "source": [
        "pred_labels.numpy()"
      ],
      "metadata": {
        "colab": {
          "base_uri": "https://localhost:8080/"
        },
        "id": "we55prJSZhS7",
        "outputId": "68822ada-7c09-4503-e377-3628fc15e4c3"
      },
      "execution_count": null,
      "outputs": [
        {
          "output_type": "execute_result",
          "data": {
            "text/plain": [
              "array([[0],\n",
              "       [0],\n",
              "       [1],\n",
              "       ...,\n",
              "       [0],\n",
              "       [1],\n",
              "       [1]], dtype=int32)"
            ]
          },
          "metadata": {},
          "execution_count": 94
        }
      ]
    },
    {
      "cell_type": "code",
      "source": [
        "df_test"
      ],
      "metadata": {
        "colab": {
          "base_uri": "https://localhost:8080/",
          "height": 424
        },
        "id": "QrIoBjY2Ziqb",
        "outputId": "6ed04254-c21a-4ac3-e1a0-887d3b513b7e"
      },
      "execution_count": null,
      "outputs": [
        {
          "output_type": "execute_result",
          "data": {
            "text/plain": [
              "                  Image_id  pred\n",
              "0     id_00exusbkgzw1b.jpg     0\n",
              "1     id_03dqinf6w0znv.jpg     0\n",
              "2     id_046yl0cxn3ybz.jpg     1\n",
              "3     id_04athdtx2abyg.jpg     0\n",
              "4     id_062aauf9e9jk0.jpg     0\n",
              "...                    ...   ...\n",
              "1075  id_zv5fvjnakvf1r.jpg     1\n",
              "1076  id_zvpikh1z30arn.jpg     0\n",
              "1077  id_zypilwkudljyz.jpg     0\n",
              "1078  id_zz9lwehh5sxdp.jpg     1\n",
              "1079  id_zzq9gaptlwd4w.jpg     1\n",
              "\n",
              "[1080 rows x 2 columns]"
            ],
            "text/html": [
              "\n",
              "  <div id=\"df-4cb39659-03f9-4320-b615-00ba484357ec\">\n",
              "    <div class=\"colab-df-container\">\n",
              "      <div>\n",
              "<style scoped>\n",
              "    .dataframe tbody tr th:only-of-type {\n",
              "        vertical-align: middle;\n",
              "    }\n",
              "\n",
              "    .dataframe tbody tr th {\n",
              "        vertical-align: top;\n",
              "    }\n",
              "\n",
              "    .dataframe thead th {\n",
              "        text-align: right;\n",
              "    }\n",
              "</style>\n",
              "<table border=\"1\" class=\"dataframe\">\n",
              "  <thead>\n",
              "    <tr style=\"text-align: right;\">\n",
              "      <th></th>\n",
              "      <th>Image_id</th>\n",
              "      <th>pred</th>\n",
              "    </tr>\n",
              "  </thead>\n",
              "  <tbody>\n",
              "    <tr>\n",
              "      <th>0</th>\n",
              "      <td>id_00exusbkgzw1b.jpg</td>\n",
              "      <td>0</td>\n",
              "    </tr>\n",
              "    <tr>\n",
              "      <th>1</th>\n",
              "      <td>id_03dqinf6w0znv.jpg</td>\n",
              "      <td>0</td>\n",
              "    </tr>\n",
              "    <tr>\n",
              "      <th>2</th>\n",
              "      <td>id_046yl0cxn3ybz.jpg</td>\n",
              "      <td>1</td>\n",
              "    </tr>\n",
              "    <tr>\n",
              "      <th>3</th>\n",
              "      <td>id_04athdtx2abyg.jpg</td>\n",
              "      <td>0</td>\n",
              "    </tr>\n",
              "    <tr>\n",
              "      <th>4</th>\n",
              "      <td>id_062aauf9e9jk0.jpg</td>\n",
              "      <td>0</td>\n",
              "    </tr>\n",
              "    <tr>\n",
              "      <th>...</th>\n",
              "      <td>...</td>\n",
              "      <td>...</td>\n",
              "    </tr>\n",
              "    <tr>\n",
              "      <th>1075</th>\n",
              "      <td>id_zv5fvjnakvf1r.jpg</td>\n",
              "      <td>1</td>\n",
              "    </tr>\n",
              "    <tr>\n",
              "      <th>1076</th>\n",
              "      <td>id_zvpikh1z30arn.jpg</td>\n",
              "      <td>0</td>\n",
              "    </tr>\n",
              "    <tr>\n",
              "      <th>1077</th>\n",
              "      <td>id_zypilwkudljyz.jpg</td>\n",
              "      <td>0</td>\n",
              "    </tr>\n",
              "    <tr>\n",
              "      <th>1078</th>\n",
              "      <td>id_zz9lwehh5sxdp.jpg</td>\n",
              "      <td>1</td>\n",
              "    </tr>\n",
              "    <tr>\n",
              "      <th>1079</th>\n",
              "      <td>id_zzq9gaptlwd4w.jpg</td>\n",
              "      <td>1</td>\n",
              "    </tr>\n",
              "  </tbody>\n",
              "</table>\n",
              "<p>1080 rows × 2 columns</p>\n",
              "</div>\n",
              "      <button class=\"colab-df-convert\" onclick=\"convertToInteractive('df-4cb39659-03f9-4320-b615-00ba484357ec')\"\n",
              "              title=\"Convert this dataframe to an interactive table.\"\n",
              "              style=\"display:none;\">\n",
              "        \n",
              "  <svg xmlns=\"http://www.w3.org/2000/svg\" height=\"24px\"viewBox=\"0 0 24 24\"\n",
              "       width=\"24px\">\n",
              "    <path d=\"M0 0h24v24H0V0z\" fill=\"none\"/>\n",
              "    <path d=\"M18.56 5.44l.94 2.06.94-2.06 2.06-.94-2.06-.94-.94-2.06-.94 2.06-2.06.94zm-11 1L8.5 8.5l.94-2.06 2.06-.94-2.06-.94L8.5 2.5l-.94 2.06-2.06.94zm10 10l.94 2.06.94-2.06 2.06-.94-2.06-.94-.94-2.06-.94 2.06-2.06.94z\"/><path d=\"M17.41 7.96l-1.37-1.37c-.4-.4-.92-.59-1.43-.59-.52 0-1.04.2-1.43.59L10.3 9.45l-7.72 7.72c-.78.78-.78 2.05 0 2.83L4 21.41c.39.39.9.59 1.41.59.51 0 1.02-.2 1.41-.59l7.78-7.78 2.81-2.81c.8-.78.8-2.07 0-2.86zM5.41 20L4 18.59l7.72-7.72 1.47 1.35L5.41 20z\"/>\n",
              "  </svg>\n",
              "      </button>\n",
              "      \n",
              "  <style>\n",
              "    .colab-df-container {\n",
              "      display:flex;\n",
              "      flex-wrap:wrap;\n",
              "      gap: 12px;\n",
              "    }\n",
              "\n",
              "    .colab-df-convert {\n",
              "      background-color: #E8F0FE;\n",
              "      border: none;\n",
              "      border-radius: 50%;\n",
              "      cursor: pointer;\n",
              "      display: none;\n",
              "      fill: #1967D2;\n",
              "      height: 32px;\n",
              "      padding: 0 0 0 0;\n",
              "      width: 32px;\n",
              "    }\n",
              "\n",
              "    .colab-df-convert:hover {\n",
              "      background-color: #E2EBFA;\n",
              "      box-shadow: 0px 1px 2px rgba(60, 64, 67, 0.3), 0px 1px 3px 1px rgba(60, 64, 67, 0.15);\n",
              "      fill: #174EA6;\n",
              "    }\n",
              "\n",
              "    [theme=dark] .colab-df-convert {\n",
              "      background-color: #3B4455;\n",
              "      fill: #D2E3FC;\n",
              "    }\n",
              "\n",
              "    [theme=dark] .colab-df-convert:hover {\n",
              "      background-color: #434B5C;\n",
              "      box-shadow: 0px 1px 3px 1px rgba(0, 0, 0, 0.15);\n",
              "      filter: drop-shadow(0px 1px 2px rgba(0, 0, 0, 0.3));\n",
              "      fill: #FFFFFF;\n",
              "    }\n",
              "  </style>\n",
              "\n",
              "      <script>\n",
              "        const buttonEl =\n",
              "          document.querySelector('#df-4cb39659-03f9-4320-b615-00ba484357ec button.colab-df-convert');\n",
              "        buttonEl.style.display =\n",
              "          google.colab.kernel.accessAllowed ? 'block' : 'none';\n",
              "\n",
              "        async function convertToInteractive(key) {\n",
              "          const element = document.querySelector('#df-4cb39659-03f9-4320-b615-00ba484357ec');\n",
              "          const dataTable =\n",
              "            await google.colab.kernel.invokeFunction('convertToInteractive',\n",
              "                                                     [key], {});\n",
              "          if (!dataTable) return;\n",
              "\n",
              "          const docLinkHtml = 'Like what you see? Visit the ' +\n",
              "            '<a target=\"_blank\" href=https://colab.research.google.com/notebooks/data_table.ipynb>data table notebook</a>'\n",
              "            + ' to learn more about interactive tables.';\n",
              "          element.innerHTML = '';\n",
              "          dataTable['output_type'] = 'display_data';\n",
              "          await google.colab.output.renderOutput(dataTable, element);\n",
              "          const docLink = document.createElement('div');\n",
              "          docLink.innerHTML = docLinkHtml;\n",
              "          element.appendChild(docLink);\n",
              "        }\n",
              "      </script>\n",
              "    </div>\n",
              "  </div>\n",
              "  "
            ]
          },
          "metadata": {},
          "execution_count": 95
        }
      ]
    },
    {
      "cell_type": "code",
      "source": [
        "df_test['pred'] = pred_labels.numpy()"
      ],
      "metadata": {
        "id": "pbODIWLzZjia"
      },
      "execution_count": null,
      "outputs": []
    },
    {
      "cell_type": "code",
      "source": [
        "df_test.head()"
      ],
      "metadata": {
        "colab": {
          "base_uri": "https://localhost:8080/",
          "height": 206
        },
        "id": "Uejw2ihsZlNc",
        "outputId": "263942d6-86a8-4d7f-be5e-d1568528cccd"
      },
      "execution_count": null,
      "outputs": [
        {
          "output_type": "execute_result",
          "data": {
            "text/plain": [
              "               Image_id  pred\n",
              "0  id_00exusbkgzw1b.jpg     0\n",
              "1  id_03dqinf6w0znv.jpg     0\n",
              "2  id_046yl0cxn3ybz.jpg     1\n",
              "3  id_04athdtx2abyg.jpg     0\n",
              "4  id_062aauf9e9jk0.jpg     0"
            ],
            "text/html": [
              "\n",
              "  <div id=\"df-a5de8aad-e7e9-46cb-bfd1-25751cc73eba\">\n",
              "    <div class=\"colab-df-container\">\n",
              "      <div>\n",
              "<style scoped>\n",
              "    .dataframe tbody tr th:only-of-type {\n",
              "        vertical-align: middle;\n",
              "    }\n",
              "\n",
              "    .dataframe tbody tr th {\n",
              "        vertical-align: top;\n",
              "    }\n",
              "\n",
              "    .dataframe thead th {\n",
              "        text-align: right;\n",
              "    }\n",
              "</style>\n",
              "<table border=\"1\" class=\"dataframe\">\n",
              "  <thead>\n",
              "    <tr style=\"text-align: right;\">\n",
              "      <th></th>\n",
              "      <th>Image_id</th>\n",
              "      <th>pred</th>\n",
              "    </tr>\n",
              "  </thead>\n",
              "  <tbody>\n",
              "    <tr>\n",
              "      <th>0</th>\n",
              "      <td>id_00exusbkgzw1b.jpg</td>\n",
              "      <td>0</td>\n",
              "    </tr>\n",
              "    <tr>\n",
              "      <th>1</th>\n",
              "      <td>id_03dqinf6w0znv.jpg</td>\n",
              "      <td>0</td>\n",
              "    </tr>\n",
              "    <tr>\n",
              "      <th>2</th>\n",
              "      <td>id_046yl0cxn3ybz.jpg</td>\n",
              "      <td>1</td>\n",
              "    </tr>\n",
              "    <tr>\n",
              "      <th>3</th>\n",
              "      <td>id_04athdtx2abyg.jpg</td>\n",
              "      <td>0</td>\n",
              "    </tr>\n",
              "    <tr>\n",
              "      <th>4</th>\n",
              "      <td>id_062aauf9e9jk0.jpg</td>\n",
              "      <td>0</td>\n",
              "    </tr>\n",
              "  </tbody>\n",
              "</table>\n",
              "</div>\n",
              "      <button class=\"colab-df-convert\" onclick=\"convertToInteractive('df-a5de8aad-e7e9-46cb-bfd1-25751cc73eba')\"\n",
              "              title=\"Convert this dataframe to an interactive table.\"\n",
              "              style=\"display:none;\">\n",
              "        \n",
              "  <svg xmlns=\"http://www.w3.org/2000/svg\" height=\"24px\"viewBox=\"0 0 24 24\"\n",
              "       width=\"24px\">\n",
              "    <path d=\"M0 0h24v24H0V0z\" fill=\"none\"/>\n",
              "    <path d=\"M18.56 5.44l.94 2.06.94-2.06 2.06-.94-2.06-.94-.94-2.06-.94 2.06-2.06.94zm-11 1L8.5 8.5l.94-2.06 2.06-.94-2.06-.94L8.5 2.5l-.94 2.06-2.06.94zm10 10l.94 2.06.94-2.06 2.06-.94-2.06-.94-.94-2.06-.94 2.06-2.06.94z\"/><path d=\"M17.41 7.96l-1.37-1.37c-.4-.4-.92-.59-1.43-.59-.52 0-1.04.2-1.43.59L10.3 9.45l-7.72 7.72c-.78.78-.78 2.05 0 2.83L4 21.41c.39.39.9.59 1.41.59.51 0 1.02-.2 1.41-.59l7.78-7.78 2.81-2.81c.8-.78.8-2.07 0-2.86zM5.41 20L4 18.59l7.72-7.72 1.47 1.35L5.41 20z\"/>\n",
              "  </svg>\n",
              "      </button>\n",
              "      \n",
              "  <style>\n",
              "    .colab-df-container {\n",
              "      display:flex;\n",
              "      flex-wrap:wrap;\n",
              "      gap: 12px;\n",
              "    }\n",
              "\n",
              "    .colab-df-convert {\n",
              "      background-color: #E8F0FE;\n",
              "      border: none;\n",
              "      border-radius: 50%;\n",
              "      cursor: pointer;\n",
              "      display: none;\n",
              "      fill: #1967D2;\n",
              "      height: 32px;\n",
              "      padding: 0 0 0 0;\n",
              "      width: 32px;\n",
              "    }\n",
              "\n",
              "    .colab-df-convert:hover {\n",
              "      background-color: #E2EBFA;\n",
              "      box-shadow: 0px 1px 2px rgba(60, 64, 67, 0.3), 0px 1px 3px 1px rgba(60, 64, 67, 0.15);\n",
              "      fill: #174EA6;\n",
              "    }\n",
              "\n",
              "    [theme=dark] .colab-df-convert {\n",
              "      background-color: #3B4455;\n",
              "      fill: #D2E3FC;\n",
              "    }\n",
              "\n",
              "    [theme=dark] .colab-df-convert:hover {\n",
              "      background-color: #434B5C;\n",
              "      box-shadow: 0px 1px 3px 1px rgba(0, 0, 0, 0.15);\n",
              "      filter: drop-shadow(0px 1px 2px rgba(0, 0, 0, 0.3));\n",
              "      fill: #FFFFFF;\n",
              "    }\n",
              "  </style>\n",
              "\n",
              "      <script>\n",
              "        const buttonEl =\n",
              "          document.querySelector('#df-a5de8aad-e7e9-46cb-bfd1-25751cc73eba button.colab-df-convert');\n",
              "        buttonEl.style.display =\n",
              "          google.colab.kernel.accessAllowed ? 'block' : 'none';\n",
              "\n",
              "        async function convertToInteractive(key) {\n",
              "          const element = document.querySelector('#df-a5de8aad-e7e9-46cb-bfd1-25751cc73eba');\n",
              "          const dataTable =\n",
              "            await google.colab.kernel.invokeFunction('convertToInteractive',\n",
              "                                                     [key], {});\n",
              "          if (!dataTable) return;\n",
              "\n",
              "          const docLinkHtml = 'Like what you see? Visit the ' +\n",
              "            '<a target=\"_blank\" href=https://colab.research.google.com/notebooks/data_table.ipynb>data table notebook</a>'\n",
              "            + ' to learn more about interactive tables.';\n",
              "          element.innerHTML = '';\n",
              "          dataTable['output_type'] = 'display_data';\n",
              "          await google.colab.output.renderOutput(dataTable, element);\n",
              "          const docLink = document.createElement('div');\n",
              "          docLink.innerHTML = docLinkHtml;\n",
              "          element.appendChild(docLink);\n",
              "        }\n",
              "      </script>\n",
              "    </div>\n",
              "  </div>\n",
              "  "
            ]
          },
          "metadata": {},
          "execution_count": 97
        }
      ]
    },
    {
      "cell_type": "code",
      "source": [
        "df_test.to_csv('final.csv', index=False)"
      ],
      "metadata": {
        "id": "3q--7uELZmUh"
      },
      "execution_count": null,
      "outputs": []
    }
  ]
}